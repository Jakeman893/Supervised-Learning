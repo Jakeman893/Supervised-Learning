{
 "cells": [
  {
   "cell_type": "code",
   "execution_count": 1,
   "metadata": {
    "collapsed": true
   },
   "outputs": [],
   "source": [
    "# Pick response for supervised prob\n",
    "response = \"quality\"\n",
    "\n",
    "# df[response] = df[response].asfactor()"
   ]
  },
  {
   "cell_type": "code",
   "execution_count": 2,
   "metadata": {},
   "outputs": [
    {
     "name": "stdout",
     "output_type": "stream",
     "text": [
      "Checking whether there is an H2O instance running at http://localhost:54321..... not found.\n",
      "Attempting to start a local H2O server...\n",
      "  Java Version: openjdk version \"1.8.0_121\"; OpenJDK Runtime Environment (Zulu 8.20.0.5-linux64) (build 1.8.0_121-b15); OpenJDK 64-Bit Server VM (Zulu 8.20.0.5-linux64) (build 25.121-b15, mixed mode)\n",
      "  Starting server from /home/rocket/anaconda2/h2o_jar/h2o.jar\n",
      "  Ice root: /tmp/tmp48PJw1\n",
      "  JVM stdout: /tmp/tmp48PJw1/h2o_rocket_started_from_python.out\n",
      "  JVM stderr: /tmp/tmp48PJw1/h2o_rocket_started_from_python.err\n",
      "  Server is running at http://127.0.0.1:54321\n",
      "Connecting to H2O server at http://127.0.0.1:54321... successful.\n",
      "Warning: Your H2O cluster version is too old (1 year, 2 months and 23 days)! Please download and install the latest version from http://h2o.ai/download/\n"
     ]
    },
    {
     "data": {
      "text/html": [
       "<div style=\"overflow:auto\"><table style=\"width:50%\"><tr><td>H2O cluster uptime:</td>\n",
       "<td>01 secs</td></tr>\n",
       "<tr><td>H2O cluster version:</td>\n",
       "<td>3.10.0.9</td></tr>\n",
       "<tr><td>H2O cluster version age:</td>\n",
       "<td>1 year, 2 months and 23 days !!!</td></tr>\n",
       "<tr><td>H2O cluster name:</td>\n",
       "<td>H2O_from_python_rocket_483mll</td></tr>\n",
       "<tr><td>H2O cluster total nodes:</td>\n",
       "<td>1</td></tr>\n",
       "<tr><td>H2O cluster free memory:</td>\n",
       "<td>3.464 Gb</td></tr>\n",
       "<tr><td>H2O cluster total cores:</td>\n",
       "<td>4</td></tr>\n",
       "<tr><td>H2O cluster allowed cores:</td>\n",
       "<td>4</td></tr>\n",
       "<tr><td>H2O cluster status:</td>\n",
       "<td>accepting new members, healthy</td></tr>\n",
       "<tr><td>H2O connection url:</td>\n",
       "<td>http://127.0.0.1:54321</td></tr>\n",
       "<tr><td>H2O connection proxy:</td>\n",
       "<td>None</td></tr>\n",
       "<tr><td>Python version:</td>\n",
       "<td>2.7.14 final</td></tr></table></div>"
      ],
      "text/plain": [
       "--------------------------  --------------------------------\n",
       "H2O cluster uptime:         01 secs\n",
       "H2O cluster version:        3.10.0.9\n",
       "H2O cluster version age:    1 year, 2 months and 23 days !!!\n",
       "H2O cluster name:           H2O_from_python_rocket_483mll\n",
       "H2O cluster total nodes:    1\n",
       "H2O cluster free memory:    3.464 Gb\n",
       "H2O cluster total cores:    4\n",
       "H2O cluster allowed cores:  4\n",
       "H2O cluster status:         accepting new members, healthy\n",
       "H2O connection url:         http://127.0.0.1:54321\n",
       "H2O connection proxy:\n",
       "Python version:             2.7.14 final\n",
       "--------------------------  --------------------------------"
      ]
     },
     "metadata": {},
     "output_type": "display_data"
    }
   ],
   "source": [
    "import h2o\n",
    "import numpy as np\n",
    "import math\n",
    "from h2o.estimators.gbm import H2OGradientBoostingEstimator\n",
    "from h2o.grid.grid_search import H2OGridSearch\n",
    "h2o.init()"
   ]
  },
  {
   "cell_type": "code",
   "execution_count": 3,
   "metadata": {},
   "outputs": [
    {
     "name": "stdout",
     "output_type": "stream",
     "text": [
      "Parse progress: |█████████████████████████████████████████████████████████| 100%\n",
      "Rows:1599\n",
      "Cols:12\n",
      "\n",
      "\n"
     ]
    },
    {
     "data": {
      "text/html": [
       "<table>\n",
       "<tr><th>       </th><th>fixed acidity  </th><th>volatile acidity  </th><th>citric acid   </th><th>residual sugar  </th><th>chlorides      </th><th>free sulfur dioxide  </th><th>total sulfur dioxide  </th><th>density         </th><th>pH            </th><th>sulphates     </th><th>alcohol      </th><th>quality       </th></tr>\n",
       "<tr><td>type   </td><td>real           </td><td>real              </td><td>real          </td><td>real            </td><td>real           </td><td>real                 </td><td>real                  </td><td>real            </td><td>real          </td><td>real          </td><td>real         </td><td>int           </td></tr>\n",
       "<tr><td>mins   </td><td>4.6            </td><td>0.12              </td><td>0.0           </td><td>0.9             </td><td>0.012          </td><td>1.0                  </td><td>6.0                   </td><td>0.99007         </td><td>2.74          </td><td>0.33          </td><td>8.4          </td><td>3.0           </td></tr>\n",
       "<tr><td>mean   </td><td>8.3196372733   </td><td>0.527820512821    </td><td>0.270975609756</td><td>2.53880550344   </td><td>0.0874665415885</td><td>15.8749218261        </td><td>46.4677923702         </td><td>0.996746679174  </td><td>3.31111319575 </td><td>0.658148843027</td><td>10.4229831144</td><td>5.63602251407 </td></tr>\n",
       "<tr><td>maxs   </td><td>15.9           </td><td>1.58              </td><td>1.0           </td><td>15.5            </td><td>0.611          </td><td>72.0                 </td><td>289.0                 </td><td>1.00369         </td><td>4.01          </td><td>2.0           </td><td>14.9         </td><td>8.0           </td></tr>\n",
       "<tr><td>sigma  </td><td>1.74109631813  </td><td>0.179059704154    </td><td>0.194801137405</td><td>1.40992805951   </td><td>0.0470653020101</td><td>10.4601569698        </td><td>32.8953244783         </td><td>0.00188733395384</td><td>0.154386464904</td><td>0.16950697959 </td><td>1.06566758185</td><td>0.807569439735</td></tr>\n",
       "<tr><td>zeros  </td><td>0              </td><td>0                 </td><td>132           </td><td>0               </td><td>0              </td><td>0                    </td><td>0                     </td><td>0               </td><td>0             </td><td>0             </td><td>0            </td><td>0             </td></tr>\n",
       "<tr><td>missing</td><td>0              </td><td>0                 </td><td>0             </td><td>0               </td><td>0              </td><td>0                    </td><td>0                     </td><td>0               </td><td>0             </td><td>0             </td><td>0            </td><td>0             </td></tr>\n",
       "<tr><td>0      </td><td>7.4            </td><td>0.7               </td><td>0.0           </td><td>1.9             </td><td>0.076          </td><td>11.0                 </td><td>34.0                  </td><td>0.9978          </td><td>3.51          </td><td>0.56          </td><td>9.4          </td><td>5.0           </td></tr>\n",
       "<tr><td>1      </td><td>7.8            </td><td>0.88              </td><td>0.0           </td><td>2.6             </td><td>0.098          </td><td>25.0                 </td><td>67.0                  </td><td>0.9968          </td><td>3.2           </td><td>0.68          </td><td>9.8          </td><td>5.0           </td></tr>\n",
       "<tr><td>2      </td><td>7.8            </td><td>0.76              </td><td>0.04          </td><td>2.3             </td><td>0.092          </td><td>15.0                 </td><td>54.0                  </td><td>0.997           </td><td>3.26          </td><td>0.65          </td><td>9.8          </td><td>5.0           </td></tr>\n",
       "<tr><td>3      </td><td>11.2           </td><td>0.28              </td><td>0.56          </td><td>1.9             </td><td>0.075          </td><td>17.0                 </td><td>60.0                  </td><td>0.998           </td><td>3.16          </td><td>0.58          </td><td>9.8          </td><td>6.0           </td></tr>\n",
       "<tr><td>4      </td><td>7.4            </td><td>0.7               </td><td>0.0           </td><td>1.9             </td><td>0.076          </td><td>11.0                 </td><td>34.0                  </td><td>0.9978          </td><td>3.51          </td><td>0.56          </td><td>9.4          </td><td>5.0           </td></tr>\n",
       "<tr><td>5      </td><td>7.4            </td><td>0.66              </td><td>0.0           </td><td>1.8             </td><td>0.075          </td><td>13.0                 </td><td>40.0                  </td><td>0.9978          </td><td>3.51          </td><td>0.56          </td><td>9.4          </td><td>5.0           </td></tr>\n",
       "<tr><td>6      </td><td>7.9            </td><td>0.6               </td><td>0.06          </td><td>1.6             </td><td>0.069          </td><td>15.0                 </td><td>59.0                  </td><td>0.9964          </td><td>3.3           </td><td>0.46          </td><td>9.4          </td><td>5.0           </td></tr>\n",
       "<tr><td>7      </td><td>7.3            </td><td>0.65              </td><td>0.0           </td><td>1.2             </td><td>0.065          </td><td>15.0                 </td><td>21.0                  </td><td>0.9946          </td><td>3.39          </td><td>0.47          </td><td>10.0         </td><td>7.0           </td></tr>\n",
       "<tr><td>8      </td><td>7.8            </td><td>0.58              </td><td>0.02          </td><td>2.0             </td><td>0.073          </td><td>9.0                  </td><td>18.0                  </td><td>0.9968          </td><td>3.36          </td><td>0.57          </td><td>9.5          </td><td>7.0           </td></tr>\n",
       "<tr><td>9      </td><td>7.5            </td><td>0.5               </td><td>0.36          </td><td>6.1             </td><td>0.071          </td><td>17.0                 </td><td>102.0                 </td><td>0.9978          </td><td>3.35          </td><td>0.8           </td><td>10.5         </td><td>5.0           </td></tr>\n",
       "</table>"
      ]
     },
     "metadata": {},
     "output_type": "display_data"
    }
   ],
   "source": [
    "data = h2o.import_file(path=\"../datasets/wine.csv\")\n",
    "data.describe()"
   ]
  },
  {
   "cell_type": "code",
   "execution_count": 4,
   "metadata": {},
   "outputs": [
    {
     "name": "stdout",
     "output_type": "stream",
     "text": [
      "[u'fixed acidity', u'volatile acidity', u'citric acid', u'residual sugar', u'chlorides', u'free sulfur dioxide', u'total sulfur dioxide', u'density', u'pH', u'sulphates', u'alcohol']\n"
     ]
    }
   ],
   "source": [
    "# Define predictors\n",
    "predictors = data.columns\n",
    "del predictors[-1]\n",
    "print predictors"
   ]
  },
  {
   "cell_type": "code",
   "execution_count": 5,
   "metadata": {
    "collapsed": true
   },
   "outputs": [],
   "source": [
    "# Split for training\n",
    "train, valid, test = data.split_frame(\n",
    "    ratios = [0.6, 0.2],\n",
    "    seed=4567,\n",
    "    destination_frames=['train.hex','valid.hex','test.hex']\n",
    ")"
   ]
  },
  {
   "cell_type": "code",
   "execution_count": 6,
   "metadata": {},
   "outputs": [
    {
     "name": "stdout",
     "output_type": "stream",
     "text": [
      "gbm Model Build progress: |███████████████████████████████████████████████| 100%\n",
      "Model Details\n",
      "=============\n",
      "H2OGradientBoostingEstimator :  Gradient Boosting Machine\n",
      "Model Key:  GBM_model_python_1517075776023_1\n",
      "Model Summary: \n"
     ]
    },
    {
     "data": {
      "text/html": [
       "<div style=\"overflow:auto\"><table style=\"width:50%\"><tr><td><b></b></td>\n",
       "<td><b>number_of_trees</b></td>\n",
       "<td><b>number_of_internal_trees</b></td>\n",
       "<td><b>model_size_in_bytes</b></td>\n",
       "<td><b>min_depth</b></td>\n",
       "<td><b>max_depth</b></td>\n",
       "<td><b>mean_depth</b></td>\n",
       "<td><b>min_leaves</b></td>\n",
       "<td><b>max_leaves</b></td>\n",
       "<td><b>mean_leaves</b></td></tr>\n",
       "<tr><td></td>\n",
       "<td>50.0</td>\n",
       "<td>50.0</td>\n",
       "<td>14899.0</td>\n",
       "<td>5.0</td>\n",
       "<td>5.0</td>\n",
       "<td>5.0</td>\n",
       "<td>8.0</td>\n",
       "<td>29.0</td>\n",
       "<td>18.7</td></tr></table></div>"
      ],
      "text/plain": [
       "    number_of_trees    number_of_internal_trees    model_size_in_bytes    min_depth    max_depth    mean_depth    min_leaves    max_leaves    mean_leaves\n",
       "--  -----------------  --------------------------  ---------------------  -----------  -----------  ------------  ------------  ------------  -------------\n",
       "    50                 50                          14899                  5            5            5             8             29            18.7"
      ]
     },
     "metadata": {},
     "output_type": "display_data"
    },
    {
     "name": "stdout",
     "output_type": "stream",
     "text": [
      "\n",
      "\n",
      "ModelMetricsRegression: gbm\n",
      "** Reported on train data. **\n",
      "\n",
      "MSE: 0.166621537974\n",
      "RMSE: 0.408193015586\n",
      "MAE: 0.314239536759\n",
      "RMSLE: 0.0640642920971\n",
      "Mean Residual Deviance: 0.166621537974\n",
      "Scoring History: \n"
     ]
    },
    {
     "data": {
      "text/html": [
       "<div style=\"overflow:auto\"><table style=\"width:50%\"><tr><td><b></b></td>\n",
       "<td><b>timestamp</b></td>\n",
       "<td><b>duration</b></td>\n",
       "<td><b>number_of_trees</b></td>\n",
       "<td><b>training_rmse</b></td>\n",
       "<td><b>training_mae</b></td>\n",
       "<td><b>training_deviance</b></td></tr>\n",
       "<tr><td></td>\n",
       "<td>2018-01-27 12:56:18</td>\n",
       "<td> 0.016 sec</td>\n",
       "<td>0.0</td>\n",
       "<td>0.8068536</td>\n",
       "<td>0.6880342</td>\n",
       "<td>0.6510127</td></tr>\n",
       "<tr><td></td>\n",
       "<td>2018-01-27 12:56:18</td>\n",
       "<td> 0.140 sec</td>\n",
       "<td>1.0</td>\n",
       "<td>0.7692143</td>\n",
       "<td>0.6554699</td>\n",
       "<td>0.5916906</td></tr>\n",
       "<tr><td></td>\n",
       "<td>2018-01-27 12:56:18</td>\n",
       "<td> 0.191 sec</td>\n",
       "<td>2.0</td>\n",
       "<td>0.7350752</td>\n",
       "<td>0.6247230</td>\n",
       "<td>0.5403355</td></tr>\n",
       "<tr><td></td>\n",
       "<td>2018-01-27 12:56:18</td>\n",
       "<td> 0.234 sec</td>\n",
       "<td>3.0</td>\n",
       "<td>0.7066001</td>\n",
       "<td>0.5978307</td>\n",
       "<td>0.4992836</td></tr>\n",
       "<tr><td></td>\n",
       "<td>2018-01-27 12:56:18</td>\n",
       "<td> 0.293 sec</td>\n",
       "<td>4.0</td>\n",
       "<td>0.6811829</td>\n",
       "<td>0.5738549</td>\n",
       "<td>0.4640101</td></tr>\n",
       "<tr><td>---</td>\n",
       "<td>---</td>\n",
       "<td>---</td>\n",
       "<td>---</td>\n",
       "<td>---</td>\n",
       "<td>---</td>\n",
       "<td>---</td></tr>\n",
       "<tr><td></td>\n",
       "<td>2018-01-27 12:56:19</td>\n",
       "<td> 0.882 sec</td>\n",
       "<td>46.0</td>\n",
       "<td>0.4150770</td>\n",
       "<td>0.3211477</td>\n",
       "<td>0.1722889</td></tr>\n",
       "<tr><td></td>\n",
       "<td>2018-01-27 12:56:19</td>\n",
       "<td> 0.892 sec</td>\n",
       "<td>47.0</td>\n",
       "<td>0.4139543</td>\n",
       "<td>0.3200619</td>\n",
       "<td>0.1713581</td></tr>\n",
       "<tr><td></td>\n",
       "<td>2018-01-27 12:56:19</td>\n",
       "<td> 0.903 sec</td>\n",
       "<td>48.0</td>\n",
       "<td>0.4115153</td>\n",
       "<td>0.3177601</td>\n",
       "<td>0.1693449</td></tr>\n",
       "<tr><td></td>\n",
       "<td>2018-01-27 12:56:19</td>\n",
       "<td> 0.911 sec</td>\n",
       "<td>49.0</td>\n",
       "<td>0.4105452</td>\n",
       "<td>0.3166419</td>\n",
       "<td>0.1685474</td></tr>\n",
       "<tr><td></td>\n",
       "<td>2018-01-27 12:56:19</td>\n",
       "<td> 0.924 sec</td>\n",
       "<td>50.0</td>\n",
       "<td>0.4081930</td>\n",
       "<td>0.3142395</td>\n",
       "<td>0.1666215</td></tr></table></div>"
      ],
      "text/plain": [
       "     timestamp            duration    number_of_trees    training_rmse    training_mae    training_deviance\n",
       "---  -------------------  ----------  -----------------  ---------------  --------------  -------------------\n",
       "     2018-01-27 12:56:18  0.016 sec   0.0                0.806853572896   0.688034220561  0.651012688095\n",
       "     2018-01-27 12:56:18  0.140 sec   1.0                0.769214287213   0.655469936176  0.591690619652\n",
       "     2018-01-27 12:56:18  0.191 sec   2.0                0.735075198958   0.624722972031  0.540335548123\n",
       "     2018-01-27 12:56:18  0.234 sec   3.0                0.706600057721   0.597830725661  0.499283641571\n",
       "     2018-01-27 12:56:18  0.293 sec   4.0                0.681182891563   0.573854907834  0.464010131758\n",
       "---  ---                  ---         ---                ---              ---             ---\n",
       "     2018-01-27 12:56:19  0.882 sec   46.0               0.415076995487   0.321147660642  0.172288912183\n",
       "     2018-01-27 12:56:19  0.892 sec   47.0               0.413954258589   0.320061871108  0.171358128204\n",
       "     2018-01-27 12:56:19  0.903 sec   48.0               0.411515344315   0.317760118479  0.169344878607\n",
       "     2018-01-27 12:56:19  0.911 sec   49.0               0.410545205212   0.316641857278  0.168547365523\n",
       "     2018-01-27 12:56:19  0.924 sec   50.0               0.408193015586   0.314239536759  0.166621537974"
      ]
     },
     "metadata": {},
     "output_type": "display_data"
    },
    {
     "name": "stdout",
     "output_type": "stream",
     "text": [
      "\n",
      "See the whole table with table.as_data_frame()\n",
      "Variable Importances: \n"
     ]
    },
    {
     "data": {
      "text/html": [
       "<div style=\"overflow:auto\"><table style=\"width:50%\"><tr><td><b>variable</b></td>\n",
       "<td><b>relative_importance</b></td>\n",
       "<td><b>scaled_importance</b></td>\n",
       "<td><b>percentage</b></td></tr>\n",
       "<tr><td>alcohol</td>\n",
       "<td>818.1927490</td>\n",
       "<td>1.0</td>\n",
       "<td>0.3344971</td></tr>\n",
       "<tr><td>sulphates</td>\n",
       "<td>379.1015320</td>\n",
       "<td>0.4633401</td>\n",
       "<td>0.1549859</td></tr>\n",
       "<tr><td>volatile acidity</td>\n",
       "<td>220.8098755</td>\n",
       "<td>0.2698751</td>\n",
       "<td>0.0902724</td></tr>\n",
       "<tr><td>citric acid</td>\n",
       "<td>220.6299438</td>\n",
       "<td>0.2696552</td>\n",
       "<td>0.0901989</td></tr>\n",
       "<tr><td>total sulfur dioxide</td>\n",
       "<td>178.9376678</td>\n",
       "<td>0.2186987</td>\n",
       "<td>0.0731541</td></tr>\n",
       "<tr><td>pH</td>\n",
       "<td>128.1551209</td>\n",
       "<td>0.1566319</td>\n",
       "<td>0.0523929</td></tr>\n",
       "<tr><td>chlorides</td>\n",
       "<td>125.9714661</td>\n",
       "<td>0.1539631</td>\n",
       "<td>0.0515002</td></tr>\n",
       "<tr><td>free sulfur dioxide</td>\n",
       "<td>104.1572418</td>\n",
       "<td>0.1273016</td>\n",
       "<td>0.0425820</td></tr>\n",
       "<tr><td>fixed acidity</td>\n",
       "<td>95.9387970</td>\n",
       "<td>0.1172570</td>\n",
       "<td>0.0392221</td></tr>\n",
       "<tr><td>residual sugar</td>\n",
       "<td>89.0492249</td>\n",
       "<td>0.1088365</td>\n",
       "<td>0.0364055</td></tr>\n",
       "<tr><td>density</td>\n",
       "<td>85.0951309</td>\n",
       "<td>0.1040038</td>\n",
       "<td>0.0347890</td></tr></table></div>"
      ],
      "text/plain": [
       "variable              relative_importance    scaled_importance    percentage\n",
       "--------------------  ---------------------  -------------------  ------------\n",
       "alcohol               818.193                1                    0.334497\n",
       "sulphates             379.102                0.46334              0.154986\n",
       "volatile acidity      220.81                 0.269875             0.0902724\n",
       "citric acid           220.63                 0.269655             0.0901989\n",
       "total sulfur dioxide  178.938                0.218699             0.0731541\n",
       "pH                    128.155                0.156632             0.0523929\n",
       "chlorides             125.971                0.153963             0.0515002\n",
       "free sulfur dioxide   104.157                0.127302             0.042582\n",
       "fixed acidity         95.9388                0.117257             0.0392221\n",
       "residual sugar        89.0492                0.108836             0.0364055\n",
       "density               85.0951                0.104004             0.034789"
      ]
     },
     "metadata": {},
     "output_type": "display_data"
    },
    {
     "name": "stdout",
     "output_type": "stream",
     "text": [
      "\n"
     ]
    }
   ],
   "source": [
    "# Defualt gbm tree\n",
    "gbm = H2OGradientBoostingEstimator()\n",
    "gbm.train(\n",
    "    x                 = predictors,\n",
    "    y                 = response,\n",
    "    training_frame    = train,\n",
    "    ntrees            = 100,\n",
    "    max_depth         = 3,\n",
    "    learn_rate        = 0.2)\n",
    "\n",
    "# Show model summary\n",
    "print gbm"
   ]
  },
  {
   "cell_type": "code",
   "execution_count": 7,
   "metadata": {
    "scrolled": true
   },
   "outputs": [
    {
     "name": "stdout",
     "output_type": "stream",
     "text": [
      "\n",
      "ModelMetricsRegression: gbm\n",
      "** Reported on test data. **\n",
      "\n",
      "MSE: 0.379919781468\n",
      "RMSE: 0.616376331042\n",
      "MAE: 0.475474731432\n",
      "RMSLE: 0.0949689605206\n",
      "Mean Residual Deviance: 0.379919781468\n"
     ]
    },
    {
     "data": {
      "text/plain": []
     },
     "execution_count": 7,
     "metadata": {},
     "output_type": "execute_result"
    }
   ],
   "source": [
    "perf = gbm.model_performance(valid)\n",
    "perf"
   ]
  },
  {
   "cell_type": "code",
   "execution_count": 8,
   "metadata": {},
   "outputs": [
    {
     "name": "stdout",
     "output_type": "stream",
     "text": [
      "gbm Model Build progress: |███████████████████████████████████████████████| 100%\n"
     ]
    }
   ],
   "source": [
    "cv_gbm = H2OGradientBoostingEstimator(nfolds = 4, seed = 0xDEFCA)\n",
    "cv_gbm.train(x=predictors, y=response, training_frame=train)"
   ]
  },
  {
   "cell_type": "code",
   "execution_count": 9,
   "metadata": {},
   "outputs": [
    {
     "name": "stdout",
     "output_type": "stream",
     "text": [
      "                            mean           sd  cv_1_valid  cv_2_valid  \\\n",
      "0                mae  0.47932813  0.008474927   0.4926777  0.48939338   \n",
      "1                mse  0.40390328  0.014636368  0.41108084  0.43260002   \n",
      "2                 r2  0.37745756  0.031093763  0.39250833  0.30729967   \n",
      "3  residual_deviance  0.40390328  0.014636368  0.41108084  0.43260002   \n",
      "4               rmse   0.6353252  0.011514212  0.64115584  0.65772337   \n",
      "5              rmsle   0.0985848  0.002430354  0.09727838  0.10351618   \n",
      "\n",
      "    cv_3_valid  cv_4_valid  \n",
      "0     0.470857   0.4643844  \n",
      "1   0.39584747  0.37608477  \n",
      "2    0.4281144  0.38190776  \n",
      "3   0.39584747  0.37608477  \n",
      "4    0.6291641   0.6132575  \n",
      "5  0.099479504  0.09406515  \n",
      "                     rmse\n",
      "mean            0.6353252\n",
      "sd            0.011514212\n",
      "cv_1_valid     0.64115584\n",
      "cv_2_valid     0.65772337\n",
      "cv_3_valid      0.6291641\n",
      "cv_4_valid      0.6132575\n",
      "Name: 4, dtype: object\n"
     ]
    }
   ],
   "source": [
    "# Show detailed summary of cross validation metrics\n",
    "# Gives better idea of variance between the folds\n",
    "cv_summary = cv_gbm.cross_validation_metrics_summary().as_data_frame()\n",
    "print(cv_summary) # Full Summary\n",
    "print(cv_summary.iloc[4])"
   ]
  },
  {
   "cell_type": "code",
   "execution_count": 10,
   "metadata": {
    "scrolled": true
   },
   "outputs": [
    {
     "name": "stdout",
     "output_type": "stream",
     "text": [
      "\n",
      "ModelMetricsRegression: gbm\n",
      "** Reported on cross-validation data. **\n",
      "\n",
      "MSE: 0.403819205689\n",
      "RMSE: 0.635467706252\n",
      "MAE: 0.479013859317\n",
      "RMSLE: 0.0987077432725\n",
      "Mean Residual Deviance: 0.403819205689\n"
     ]
    },
    {
     "data": {
      "text/plain": []
     },
     "execution_count": 10,
     "metadata": {},
     "output_type": "execute_result"
    }
   ],
   "source": [
    "# Get cross-validated AUC through scoring combined holdout predictions.\n",
    "perf_cv = cv_gbm.model_performance(xval=True)\n",
    "perf_cv"
   ]
  },
  {
   "cell_type": "code",
   "execution_count": 11,
   "metadata": {},
   "outputs": [
    {
     "name": "stdout",
     "output_type": "stream",
     "text": [
      "gbm Model Build progress: |███████████████████████████████████████████████| 100%\n"
     ]
    }
   ],
   "source": [
    "gbm_lucky = H2OGradientBoostingEstimator(\n",
    "    # more trees the better if learning rate small\n",
    "    # use 'more than enough' since we have early stop\n",
    "    ntrees = 10000,\n",
    "    \n",
    "    # smaller learning rate is better\n",
    "    learn_rate = 0.01,\n",
    "    \n",
    "#     Early stopping once validation AUC doesn't improve by at least 0.01% for 5 consecutive scoring events\n",
    "    stopping_rounds = 5, stopping_tolerance = 1e-4, stopping_metric = \"auto\",\n",
    "    \n",
    "#     Sample 80% of columns per split\n",
    "    sample_rate = 0.8,\n",
    "    \n",
    "#     fix random number generator seed\n",
    "    seed = 1234,\n",
    "#     score every 10 trees\n",
    "    score_tree_interval = 10\n",
    ")\n",
    "\n",
    "gbm_lucky.train(x=predictors, y=response, training_frame=train, validation_frame=valid)"
   ]
  },
  {
   "cell_type": "code",
   "execution_count": 12,
   "metadata": {},
   "outputs": [
    {
     "name": "stdout",
     "output_type": "stream",
     "text": [
      "\n",
      "ModelMetricsRegression: gbm\n",
      "** Reported on test data. **\n",
      "\n",
      "MSE: 0.365893823401\n",
      "RMSE: 0.604891579873\n",
      "MAE: 0.460263083689\n",
      "RMSLE: 0.0929994150877\n",
      "Mean Residual Deviance: 0.365893823401\n"
     ]
    },
    {
     "data": {
      "text/plain": []
     },
     "execution_count": 12,
     "metadata": {},
     "output_type": "execute_result"
    }
   ],
   "source": [
    "perf_lucky = gbm_lucky.model_performance(valid)\n",
    "perf_lucky"
   ]
  },
  {
   "cell_type": "code",
   "execution_count": 13,
   "metadata": {},
   "outputs": [
    {
     "name": "stdout",
     "output_type": "stream",
     "text": [
      "H2O session _sid_9384 closed.\n"
     ]
    }
   ],
   "source": [
    "h2o.shutdown()"
   ]
  },
  {
   "cell_type": "code",
   "execution_count": null,
   "metadata": {
    "collapsed": true
   },
   "outputs": [],
   "source": []
  }
 ],
 "metadata": {
  "kernelspec": {
   "display_name": "Python 2",
   "language": "python",
   "name": "python2"
  },
  "language_info": {
   "codemirror_mode": {
    "name": "ipython",
    "version": 2
   },
   "file_extension": ".py",
   "mimetype": "text/x-python",
   "name": "python",
   "nbconvert_exporter": "python",
   "pygments_lexer": "ipython2",
   "version": "2.7.14"
  }
 },
 "nbformat": 4,
 "nbformat_minor": 2
}
