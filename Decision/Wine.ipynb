{
 "cells": [
  {
   "cell_type": "code",
   "execution_count": 1,
   "metadata": {},
   "outputs": [
    {
     "name": "stdout",
     "output_type": "stream",
     "text": [
      "Checking whether there is an H2O instance running at http://localhost:54321..... not found.\n",
      "Attempting to start a local H2O server...\n",
      "  Java Version: openjdk version \"1.8.0_121\"; OpenJDK Runtime Environment (Zulu 8.20.0.5-linux64) (build 1.8.0_121-b15); OpenJDK 64-Bit Server VM (Zulu 8.20.0.5-linux64) (build 25.121-b15, mixed mode)\n",
      "  Starting server from /home/rocket/anaconda2/h2o_jar/h2o.jar\n",
      "  Ice root: /tmp/tmpopyVxv\n",
      "  JVM stdout: /tmp/tmpopyVxv/h2o_rocket_started_from_python.out\n",
      "  JVM stderr: /tmp/tmpopyVxv/h2o_rocket_started_from_python.err\n",
      "  Server is running at http://127.0.0.1:54321\n",
      "Connecting to H2O server at http://127.0.0.1:54321... successful.\n",
      "Warning: Your H2O cluster version is too old (1 year, 2 months and 24 days)! Please download and install the latest version from http://h2o.ai/download/\n"
     ]
    },
    {
     "data": {
      "text/html": [
       "<div style=\"overflow:auto\"><table style=\"width:50%\"><tr><td>H2O cluster uptime:</td>\n",
       "<td>01 secs</td></tr>\n",
       "<tr><td>H2O cluster version:</td>\n",
       "<td>3.10.0.9</td></tr>\n",
       "<tr><td>H2O cluster version age:</td>\n",
       "<td>1 year, 2 months and 24 days !!!</td></tr>\n",
       "<tr><td>H2O cluster name:</td>\n",
       "<td>H2O_from_python_rocket_wque04</td></tr>\n",
       "<tr><td>H2O cluster total nodes:</td>\n",
       "<td>1</td></tr>\n",
       "<tr><td>H2O cluster free memory:</td>\n",
       "<td>3.464 Gb</td></tr>\n",
       "<tr><td>H2O cluster total cores:</td>\n",
       "<td>4</td></tr>\n",
       "<tr><td>H2O cluster allowed cores:</td>\n",
       "<td>4</td></tr>\n",
       "<tr><td>H2O cluster status:</td>\n",
       "<td>accepting new members, healthy</td></tr>\n",
       "<tr><td>H2O connection url:</td>\n",
       "<td>http://127.0.0.1:54321</td></tr>\n",
       "<tr><td>H2O connection proxy:</td>\n",
       "<td>None</td></tr>\n",
       "<tr><td>Python version:</td>\n",
       "<td>2.7.14 final</td></tr></table></div>"
      ],
      "text/plain": [
       "--------------------------  --------------------------------\n",
       "H2O cluster uptime:         01 secs\n",
       "H2O cluster version:        3.10.0.9\n",
       "H2O cluster version age:    1 year, 2 months and 24 days !!!\n",
       "H2O cluster name:           H2O_from_python_rocket_wque04\n",
       "H2O cluster total nodes:    1\n",
       "H2O cluster free memory:    3.464 Gb\n",
       "H2O cluster total cores:    4\n",
       "H2O cluster allowed cores:  4\n",
       "H2O cluster status:         accepting new members, healthy\n",
       "H2O connection url:         http://127.0.0.1:54321\n",
       "H2O connection proxy:\n",
       "Python version:             2.7.14 final\n",
       "--------------------------  --------------------------------"
      ]
     },
     "metadata": {},
     "output_type": "display_data"
    }
   ],
   "source": [
    "import h2o\n",
    "import numpy as np\n",
    "import math\n",
    "from h2o.estimators.gbm import H2OGradientBoostingEstimator\n",
    "from h2o.estimators import H2ORandomForestEstimator\n",
    "from h2o.grid.grid_search import H2OGridSearch\n",
    "h2o.init()"
   ]
  },
  {
   "cell_type": "markdown",
   "metadata": {},
   "source": [
    "# Data"
   ]
  },
  {
   "cell_type": "code",
   "execution_count": 2,
   "metadata": {},
   "outputs": [
    {
     "name": "stdout",
     "output_type": "stream",
     "text": [
      "Parse progress: |█████████████████████████████████████████████████████████| 100%\n",
      "Rows:1599\n",
      "Cols:12\n",
      "\n",
      "\n"
     ]
    },
    {
     "data": {
      "text/html": [
       "<table>\n",
       "<tr><th>       </th><th>fixed acidity  </th><th>volatile acidity  </th><th>citric acid   </th><th>residual sugar  </th><th>chlorides      </th><th>free sulfur dioxide  </th><th>total sulfur dioxide  </th><th>density         </th><th>pH            </th><th>sulphates     </th><th>alcohol      </th><th>quality       </th></tr>\n",
       "<tr><td>type   </td><td>real           </td><td>real              </td><td>real          </td><td>real            </td><td>real           </td><td>real                 </td><td>real                  </td><td>real            </td><td>real          </td><td>real          </td><td>real         </td><td>int           </td></tr>\n",
       "<tr><td>mins   </td><td>4.6            </td><td>0.12              </td><td>0.0           </td><td>0.9             </td><td>0.012          </td><td>1.0                  </td><td>6.0                   </td><td>0.99007         </td><td>2.74          </td><td>0.33          </td><td>8.4          </td><td>3.0           </td></tr>\n",
       "<tr><td>mean   </td><td>8.3196372733   </td><td>0.527820512821    </td><td>0.270975609756</td><td>2.53880550344   </td><td>0.0874665415885</td><td>15.8749218261        </td><td>46.4677923702         </td><td>0.996746679174  </td><td>3.31111319575 </td><td>0.658148843027</td><td>10.4229831144</td><td>5.63602251407 </td></tr>\n",
       "<tr><td>maxs   </td><td>15.9           </td><td>1.58              </td><td>1.0           </td><td>15.5            </td><td>0.611          </td><td>72.0                 </td><td>289.0                 </td><td>1.00369         </td><td>4.01          </td><td>2.0           </td><td>14.9         </td><td>8.0           </td></tr>\n",
       "<tr><td>sigma  </td><td>1.74109631813  </td><td>0.179059704154    </td><td>0.194801137405</td><td>1.40992805951   </td><td>0.0470653020101</td><td>10.4601569698        </td><td>32.8953244783         </td><td>0.00188733395384</td><td>0.154386464904</td><td>0.16950697959 </td><td>1.06566758185</td><td>0.807569439735</td></tr>\n",
       "<tr><td>zeros  </td><td>0              </td><td>0                 </td><td>132           </td><td>0               </td><td>0              </td><td>0                    </td><td>0                     </td><td>0               </td><td>0             </td><td>0             </td><td>0            </td><td>0             </td></tr>\n",
       "<tr><td>missing</td><td>0              </td><td>0                 </td><td>0             </td><td>0               </td><td>0              </td><td>0                    </td><td>0                     </td><td>0               </td><td>0             </td><td>0             </td><td>0            </td><td>0             </td></tr>\n",
       "<tr><td>0      </td><td>7.4            </td><td>0.7               </td><td>0.0           </td><td>1.9             </td><td>0.076          </td><td>11.0                 </td><td>34.0                  </td><td>0.9978          </td><td>3.51          </td><td>0.56          </td><td>9.4          </td><td>5.0           </td></tr>\n",
       "<tr><td>1      </td><td>7.8            </td><td>0.88              </td><td>0.0           </td><td>2.6             </td><td>0.098          </td><td>25.0                 </td><td>67.0                  </td><td>0.9968          </td><td>3.2           </td><td>0.68          </td><td>9.8          </td><td>5.0           </td></tr>\n",
       "<tr><td>2      </td><td>7.8            </td><td>0.76              </td><td>0.04          </td><td>2.3             </td><td>0.092          </td><td>15.0                 </td><td>54.0                  </td><td>0.997           </td><td>3.26          </td><td>0.65          </td><td>9.8          </td><td>5.0           </td></tr>\n",
       "<tr><td>3      </td><td>11.2           </td><td>0.28              </td><td>0.56          </td><td>1.9             </td><td>0.075          </td><td>17.0                 </td><td>60.0                  </td><td>0.998           </td><td>3.16          </td><td>0.58          </td><td>9.8          </td><td>6.0           </td></tr>\n",
       "<tr><td>4      </td><td>7.4            </td><td>0.7               </td><td>0.0           </td><td>1.9             </td><td>0.076          </td><td>11.0                 </td><td>34.0                  </td><td>0.9978          </td><td>3.51          </td><td>0.56          </td><td>9.4          </td><td>5.0           </td></tr>\n",
       "<tr><td>5      </td><td>7.4            </td><td>0.66              </td><td>0.0           </td><td>1.8             </td><td>0.075          </td><td>13.0                 </td><td>40.0                  </td><td>0.9978          </td><td>3.51          </td><td>0.56          </td><td>9.4          </td><td>5.0           </td></tr>\n",
       "<tr><td>6      </td><td>7.9            </td><td>0.6               </td><td>0.06          </td><td>1.6             </td><td>0.069          </td><td>15.0                 </td><td>59.0                  </td><td>0.9964          </td><td>3.3           </td><td>0.46          </td><td>9.4          </td><td>5.0           </td></tr>\n",
       "<tr><td>7      </td><td>7.3            </td><td>0.65              </td><td>0.0           </td><td>1.2             </td><td>0.065          </td><td>15.0                 </td><td>21.0                  </td><td>0.9946          </td><td>3.39          </td><td>0.47          </td><td>10.0         </td><td>7.0           </td></tr>\n",
       "<tr><td>8      </td><td>7.8            </td><td>0.58              </td><td>0.02          </td><td>2.0             </td><td>0.073          </td><td>9.0                  </td><td>18.0                  </td><td>0.9968          </td><td>3.36          </td><td>0.57          </td><td>9.5          </td><td>7.0           </td></tr>\n",
       "<tr><td>9      </td><td>7.5            </td><td>0.5               </td><td>0.36          </td><td>6.1             </td><td>0.071          </td><td>17.0                 </td><td>102.0                 </td><td>0.9978          </td><td>3.35          </td><td>0.8           </td><td>10.5         </td><td>5.0           </td></tr>\n",
       "</table>"
      ]
     },
     "metadata": {},
     "output_type": "display_data"
    }
   ],
   "source": [
    "df = h2o.import_file(path=\"../datasets/wine.csv\")\n",
    "df.describe()"
   ]
  },
  {
   "cell_type": "code",
   "execution_count": 3,
   "metadata": {},
   "outputs": [
    {
     "name": "stdout",
     "output_type": "stream",
     "text": [
      "Rows:1599\n",
      "Cols:11\n",
      "\n",
      "\n"
     ]
    },
    {
     "data": {
      "text/html": [
       "<table>\n",
       "<tr><th>       </th><th>fixed acidity  </th><th>volatile acidity  </th><th>citric acid   </th><th>residual sugar  </th><th>chlorides      </th><th>free sulfur dioxide  </th><th>total sulfur dioxide  </th><th>density         </th><th>pH            </th><th>sulphates     </th><th>alcohol      </th></tr>\n",
       "<tr><td>type   </td><td>real           </td><td>real              </td><td>real          </td><td>real            </td><td>real           </td><td>real                 </td><td>real                  </td><td>real            </td><td>real          </td><td>real          </td><td>real         </td></tr>\n",
       "<tr><td>mins   </td><td>4.6            </td><td>0.12              </td><td>0.0           </td><td>0.9             </td><td>0.012          </td><td>1.0                  </td><td>6.0                   </td><td>0.99007         </td><td>2.74          </td><td>0.33          </td><td>8.4          </td></tr>\n",
       "<tr><td>mean   </td><td>8.3196372733   </td><td>0.527820512821    </td><td>0.270975609756</td><td>2.53880550344   </td><td>0.0874665415885</td><td>15.8749218261        </td><td>46.4677923702         </td><td>0.996746679174  </td><td>3.31111319575 </td><td>0.658148843027</td><td>10.4229831144</td></tr>\n",
       "<tr><td>maxs   </td><td>15.9           </td><td>1.58              </td><td>1.0           </td><td>15.5            </td><td>0.611          </td><td>72.0                 </td><td>289.0                 </td><td>1.00369         </td><td>4.01          </td><td>2.0           </td><td>14.9         </td></tr>\n",
       "<tr><td>sigma  </td><td>1.74109631813  </td><td>0.179059704154    </td><td>0.194801137405</td><td>1.40992805951   </td><td>0.0470653020101</td><td>10.4601569698        </td><td>32.8953244783         </td><td>0.00188733395384</td><td>0.154386464904</td><td>0.16950697959 </td><td>1.06566758185</td></tr>\n",
       "<tr><td>zeros  </td><td>0              </td><td>0                 </td><td>132           </td><td>0               </td><td>0              </td><td>0                    </td><td>0                     </td><td>0               </td><td>0             </td><td>0             </td><td>0            </td></tr>\n",
       "<tr><td>missing</td><td>0              </td><td>0                 </td><td>0             </td><td>0               </td><td>0              </td><td>0                    </td><td>0                     </td><td>0               </td><td>0             </td><td>0             </td><td>0            </td></tr>\n",
       "<tr><td>0      </td><td>7.4            </td><td>0.7               </td><td>0.0           </td><td>1.9             </td><td>0.076          </td><td>11.0                 </td><td>34.0                  </td><td>0.9978          </td><td>3.51          </td><td>0.56          </td><td>9.4          </td></tr>\n",
       "<tr><td>1      </td><td>7.8            </td><td>0.88              </td><td>0.0           </td><td>2.6             </td><td>0.098          </td><td>25.0                 </td><td>67.0                  </td><td>0.9968          </td><td>3.2           </td><td>0.68          </td><td>9.8          </td></tr>\n",
       "<tr><td>2      </td><td>7.8            </td><td>0.76              </td><td>0.04          </td><td>2.3             </td><td>0.092          </td><td>15.0                 </td><td>54.0                  </td><td>0.997           </td><td>3.26          </td><td>0.65          </td><td>9.8          </td></tr>\n",
       "<tr><td>3      </td><td>11.2           </td><td>0.28              </td><td>0.56          </td><td>1.9             </td><td>0.075          </td><td>17.0                 </td><td>60.0                  </td><td>0.998           </td><td>3.16          </td><td>0.58          </td><td>9.8          </td></tr>\n",
       "<tr><td>4      </td><td>7.4            </td><td>0.7               </td><td>0.0           </td><td>1.9             </td><td>0.076          </td><td>11.0                 </td><td>34.0                  </td><td>0.9978          </td><td>3.51          </td><td>0.56          </td><td>9.4          </td></tr>\n",
       "<tr><td>5      </td><td>7.4            </td><td>0.66              </td><td>0.0           </td><td>1.8             </td><td>0.075          </td><td>13.0                 </td><td>40.0                  </td><td>0.9978          </td><td>3.51          </td><td>0.56          </td><td>9.4          </td></tr>\n",
       "<tr><td>6      </td><td>7.9            </td><td>0.6               </td><td>0.06          </td><td>1.6             </td><td>0.069          </td><td>15.0                 </td><td>59.0                  </td><td>0.9964          </td><td>3.3           </td><td>0.46          </td><td>9.4          </td></tr>\n",
       "<tr><td>7      </td><td>7.3            </td><td>0.65              </td><td>0.0           </td><td>1.2             </td><td>0.065          </td><td>15.0                 </td><td>21.0                  </td><td>0.9946          </td><td>3.39          </td><td>0.47          </td><td>10.0         </td></tr>\n",
       "<tr><td>8      </td><td>7.8            </td><td>0.58              </td><td>0.02          </td><td>2.0             </td><td>0.073          </td><td>9.0                  </td><td>18.0                  </td><td>0.9968          </td><td>3.36          </td><td>0.57          </td><td>9.5          </td></tr>\n",
       "<tr><td>9      </td><td>7.5            </td><td>0.5               </td><td>0.36          </td><td>6.1             </td><td>0.071          </td><td>17.0                 </td><td>102.0                 </td><td>0.9978          </td><td>3.35          </td><td>0.8           </td><td>10.5         </td></tr>\n",
       "</table>"
      ]
     },
     "metadata": {},
     "output_type": "display_data"
    },
    {
     "name": "stdout",
     "output_type": "stream",
     "text": [
      "Rows:1599\n",
      "Cols:1\n",
      "\n",
      "\n"
     ]
    },
    {
     "data": {
      "text/html": [
       "<table>\n",
       "<tr><th>       </th><th>quality       </th></tr>\n",
       "<tr><td>type   </td><td>int           </td></tr>\n",
       "<tr><td>mins   </td><td>3.0           </td></tr>\n",
       "<tr><td>mean   </td><td>5.63602251407 </td></tr>\n",
       "<tr><td>maxs   </td><td>8.0           </td></tr>\n",
       "<tr><td>sigma  </td><td>0.807569439735</td></tr>\n",
       "<tr><td>zeros  </td><td>0             </td></tr>\n",
       "<tr><td>missing</td><td>0             </td></tr>\n",
       "<tr><td>0      </td><td>5.0           </td></tr>\n",
       "<tr><td>1      </td><td>5.0           </td></tr>\n",
       "<tr><td>2      </td><td>5.0           </td></tr>\n",
       "<tr><td>3      </td><td>6.0           </td></tr>\n",
       "<tr><td>4      </td><td>5.0           </td></tr>\n",
       "<tr><td>5      </td><td>5.0           </td></tr>\n",
       "<tr><td>6      </td><td>5.0           </td></tr>\n",
       "<tr><td>7      </td><td>7.0           </td></tr>\n",
       "<tr><td>8      </td><td>7.0           </td></tr>\n",
       "<tr><td>9      </td><td>5.0           </td></tr>\n",
       "</table>"
      ]
     },
     "metadata": {},
     "output_type": "display_data"
    }
   ],
   "source": [
    "# Define predictors\n",
    "y = df['quality']\n",
    "X = df\n",
    "X = X.drop(['quality'])\n",
    "X.describe()\n",
    "y.describe()"
   ]
  },
  {
   "cell_type": "code",
   "execution_count": 4,
   "metadata": {
    "collapsed": true
   },
   "outputs": [],
   "source": [
    "# Split for training\n",
    "train, valid, test = df.split_frame(\n",
    "    ratios = [0.6, 0.2],\n",
    "    seed=4567,\n",
    "    destination_frames=['train.hex','valid.hex','test.hex']\n",
    ")"
   ]
  },
  {
   "cell_type": "markdown",
   "metadata": {},
   "source": [
    "# Experiments"
   ]
  },
  {
   "cell_type": "markdown",
   "metadata": {},
   "source": [
    "## Single Decision Tree (No Boost)"
   ]
  },
  {
   "cell_type": "code",
   "execution_count": 5,
   "metadata": {},
   "outputs": [
    {
     "name": "stdout",
     "output_type": "stream",
     "text": [
      "drf Model Build progress: |███████████████████████████████████████████████| 100%\n",
      "Model Details\n",
      "=============\n",
      "H2ORandomForestEstimator :  Distributed Random Forest\n",
      "Model Key:  DRF_model_python_1517169977397_1\n",
      "Model Summary: \n"
     ]
    },
    {
     "data": {
      "text/html": [
       "<div style=\"overflow:auto\"><table style=\"width:50%\"><tr><td><b></b></td>\n",
       "<td><b>number_of_trees</b></td>\n",
       "<td><b>number_of_internal_trees</b></td>\n",
       "<td><b>model_size_in_bytes</b></td>\n",
       "<td><b>min_depth</b></td>\n",
       "<td><b>max_depth</b></td>\n",
       "<td><b>mean_depth</b></td>\n",
       "<td><b>min_leaves</b></td>\n",
       "<td><b>max_leaves</b></td>\n",
       "<td><b>mean_leaves</b></td></tr>\n",
       "<tr><td></td>\n",
       "<td>1.0</td>\n",
       "<td>1.0</td>\n",
       "<td>2931.0</td>\n",
       "<td>17.0</td>\n",
       "<td>17.0</td>\n",
       "<td>17.0</td>\n",
       "<td>228.0</td>\n",
       "<td>228.0</td>\n",
       "<td>228.0</td></tr></table></div>"
      ],
      "text/plain": [
       "    number_of_trees    number_of_internal_trees    model_size_in_bytes    min_depth    max_depth    mean_depth    min_leaves    max_leaves    mean_leaves\n",
       "--  -----------------  --------------------------  ---------------------  -----------  -----------  ------------  ------------  ------------  -------------\n",
       "    1                  1                           2931                   17           17           17            228           228           228"
      ]
     },
     "metadata": {},
     "output_type": "display_data"
    },
    {
     "name": "stdout",
     "output_type": "stream",
     "text": [
      "\n",
      "\n",
      "ModelMetricsRegression: drf\n",
      "** Reported on train data. **\n",
      "\n",
      "MSE: 0.757098765138\n",
      "RMSE: 0.870114225339\n",
      "MAE: 0.519444444444\n",
      "RMSLE: 0.135578763276\n",
      "Mean Residual Deviance: 0.757098765138\n",
      "Scoring History: \n"
     ]
    },
    {
     "data": {
      "text/html": [
       "<div style=\"overflow:auto\"><table style=\"width:50%\"><tr><td><b></b></td>\n",
       "<td><b>timestamp</b></td>\n",
       "<td><b>duration</b></td>\n",
       "<td><b>number_of_trees</b></td>\n",
       "<td><b>training_rmse</b></td>\n",
       "<td><b>training_mae</b></td>\n",
       "<td><b>training_deviance</b></td></tr>\n",
       "<tr><td></td>\n",
       "<td>2018-01-28 15:06:19</td>\n",
       "<td> 0.010 sec</td>\n",
       "<td>0.0</td>\n",
       "<td>nan</td>\n",
       "<td>nan</td>\n",
       "<td>nan</td></tr>\n",
       "<tr><td></td>\n",
       "<td>2018-01-28 15:06:20</td>\n",
       "<td> 0.122 sec</td>\n",
       "<td>1.0</td>\n",
       "<td>0.8701142</td>\n",
       "<td>0.5194444</td>\n",
       "<td>0.7570988</td></tr></table></div>"
      ],
      "text/plain": [
       "    timestamp            duration    number_of_trees    training_rmse    training_mae    training_deviance\n",
       "--  -------------------  ----------  -----------------  ---------------  --------------  -------------------\n",
       "    2018-01-28 15:06:19  0.010 sec   0                  nan              nan             nan\n",
       "    2018-01-28 15:06:20  0.122 sec   1                  0.870114         0.519444        0.757099"
      ]
     },
     "metadata": {},
     "output_type": "display_data"
    },
    {
     "name": "stdout",
     "output_type": "stream",
     "text": [
      "Variable Importances: \n"
     ]
    },
    {
     "data": {
      "text/html": [
       "<div style=\"overflow:auto\"><table style=\"width:50%\"><tr><td><b>variable</b></td>\n",
       "<td><b>relative_importance</b></td>\n",
       "<td><b>scaled_importance</b></td>\n",
       "<td><b>percentage</b></td></tr>\n",
       "<tr><td>alcohol</td>\n",
       "<td>82.7796326</td>\n",
       "<td>1.0</td>\n",
       "<td>0.2153461</td></tr>\n",
       "<tr><td>total sulfur dioxide</td>\n",
       "<td>57.9985313</td>\n",
       "<td>0.7006377</td>\n",
       "<td>0.1508796</td></tr>\n",
       "<tr><td>sulphates</td>\n",
       "<td>44.7827225</td>\n",
       "<td>0.5409872</td>\n",
       "<td>0.1164995</td></tr>\n",
       "<tr><td>volatile acidity</td>\n",
       "<td>43.2864494</td>\n",
       "<td>0.5229118</td>\n",
       "<td>0.1126070</td></tr>\n",
       "<tr><td>pH</td>\n",
       "<td>30.9877949</td>\n",
       "<td>0.3743408</td>\n",
       "<td>0.0806128</td></tr>\n",
       "<tr><td>citric acid</td>\n",
       "<td>27.9364243</td>\n",
       "<td>0.3374794</td>\n",
       "<td>0.0726749</td></tr>\n",
       "<tr><td>chlorides</td>\n",
       "<td>23.5329094</td>\n",
       "<td>0.2842838</td>\n",
       "<td>0.0612194</td></tr>\n",
       "<tr><td>free sulfur dioxide</td>\n",
       "<td>20.7278900</td>\n",
       "<td>0.2503984</td>\n",
       "<td>0.0539223</td></tr>\n",
       "<tr><td>fixed acidity</td>\n",
       "<td>19.8783894</td>\n",
       "<td>0.2401362</td>\n",
       "<td>0.0517124</td></tr>\n",
       "<tr><td>density</td>\n",
       "<td>17.9171543</td>\n",
       "<td>0.2164440</td>\n",
       "<td>0.0466104</td></tr>\n",
       "<tr><td>residual sugar</td>\n",
       "<td>14.5748863</td>\n",
       "<td>0.1760685</td>\n",
       "<td>0.0379157</td></tr></table></div>"
      ],
      "text/plain": [
       "variable              relative_importance    scaled_importance    percentage\n",
       "--------------------  ---------------------  -------------------  ------------\n",
       "alcohol               82.7796                1                    0.215346\n",
       "total sulfur dioxide  57.9985                0.700638             0.15088\n",
       "sulphates             44.7827                0.540987             0.116499\n",
       "volatile acidity      43.2864                0.522912             0.112607\n",
       "pH                    30.9878                0.374341             0.0806128\n",
       "citric acid           27.9364                0.337479             0.0726749\n",
       "chlorides             23.5329                0.284284             0.0612194\n",
       "free sulfur dioxide   20.7279                0.250398             0.0539223\n",
       "fixed acidity         19.8784                0.240136             0.0517124\n",
       "density               17.9172                0.216444             0.0466104\n",
       "residual sugar        14.5749                0.176069             0.0379157"
      ]
     },
     "metadata": {},
     "output_type": "display_data"
    },
    {
     "name": "stdout",
     "output_type": "stream",
     "text": [
      "\n"
     ]
    }
   ],
   "source": [
    "# Single decision tree, no boosting single tree\n",
    "rfe = H2ORandomForestEstimator(ntrees=1)\n",
    "rfe.train(x=X.columns, y=y.columns[0], training_frame=train)\n",
    "\n",
    "# Show model summary\n",
    "print rfe"
   ]
  },
  {
   "cell_type": "code",
   "execution_count": 6,
   "metadata": {
    "scrolled": true
   },
   "outputs": [
    {
     "name": "stdout",
     "output_type": "stream",
     "text": [
      "\n",
      "ModelMetricsRegression: drf\n",
      "** Reported on test data. **\n",
      "\n",
      "MSE: 0.796472661794\n",
      "RMSE: 0.892453170645\n",
      "MAE: 0.569312168303\n",
      "RMSLE: 0.138566868176\n",
      "Mean Residual Deviance: 0.796472661794\n"
     ]
    },
    {
     "data": {
      "text/plain": []
     },
     "execution_count": 6,
     "metadata": {},
     "output_type": "execute_result"
    }
   ],
   "source": [
    "perf = rfe.model_performance(valid)\n",
    "perf"
   ]
  },
  {
   "cell_type": "markdown",
   "metadata": {},
   "source": [
    "## Cross-Validation Tuning"
   ]
  },
  {
   "cell_type": "code",
   "execution_count": 7,
   "metadata": {},
   "outputs": [
    {
     "name": "stdout",
     "output_type": "stream",
     "text": [
      "drf Grid Build progress: |████████████████████████████████████████████████| 100%\n",
      "      balance_classes distribution   histogram_type max_depth ntrees  \\\n",
      "0               false      poisson  QuantilesGlobal        20      1   \n",
      "1               false      poisson  UniformAdaptive         5      1   \n",
      "2               false      poisson           Random         5      1   \n",
      "3               false      poisson  QuantilesGlobal         5      1   \n",
      "4                true      poisson           Random         5      1   \n",
      "5                true      poisson           Random        20      1   \n",
      "6                true      poisson  QuantilesGlobal         5      1   \n",
      "7                true      poisson  UniformAdaptive         5      1   \n",
      "8                true      poisson  UniformAdaptive        20      1   \n",
      "9                true      poisson       RoundRobin        20      1   \n",
      "10               true      poisson       RoundRobin         5      1   \n",
      "11              false      poisson       RoundRobin         5      1   \n",
      "12              false      poisson       RoundRobin        20      1   \n",
      "13              false      poisson  UniformAdaptive        20      1   \n",
      "14              false      poisson           Random        20      1   \n",
      "15               true      poisson  QuantilesGlobal        20      1   \n",
      "16               true      tweedie           Random         5      1   \n",
      "17               true      tweedie       RoundRobin         5      1   \n",
      "18               true      tweedie  UniformAdaptive         5      1   \n",
      "19              false      tweedie       RoundRobin         5      1   \n",
      "20               true      tweedie  QuantilesGlobal         5      1   \n",
      "21              false      tweedie           Random         5      1   \n",
      "22              false      tweedie  UniformAdaptive         5      1   \n",
      "23              false      tweedie  QuantilesGlobal         5      1   \n",
      "24              false      tweedie       RoundRobin        20      1   \n",
      "25              false      tweedie  QuantilesGlobal        20      1   \n",
      "26              false      tweedie           Random        20      1   \n",
      "27              false      tweedie  UniformAdaptive        20      1   \n",
      "28               true      tweedie       RoundRobin        20      1   \n",
      "29               true      tweedie  QuantilesGlobal        20      1   \n",
      ".. ..             ...          ...              ...       ...    ...   \n",
      "50              false        gamma       RoundRobin        20      1   \n",
      "51               true        gamma           Random        20      1   \n",
      "52              false        gamma           Random         5      1   \n",
      "53               true        gamma           Random         5      1   \n",
      "54               true        gamma       RoundRobin        20      1   \n",
      "55              false        gamma  QuantilesGlobal        20      1   \n",
      "56              false        gamma  UniformAdaptive         5      1   \n",
      "57              false        gamma           Random        20      1   \n",
      "58              false        gamma  UniformAdaptive        20      1   \n",
      "59               true        gamma  UniformAdaptive         5      1   \n",
      "60               true        gamma  UniformAdaptive        20      1   \n",
      "61               true        gamma  QuantilesGlobal        20      1   \n",
      "62              false        gamma       RoundRobin         5      1   \n",
      "63               true        gamma  QuantilesGlobal         5      1   \n",
      "64               true    bernoulli           Random        20      1   \n",
      "65               true    bernoulli  UniformAdaptive        20      1   \n",
      "66              false    bernoulli       RoundRobin        20      1   \n",
      "67              false    bernoulli           Random         5      1   \n",
      "68              false    bernoulli  QuantilesGlobal        20      1   \n",
      "69              false    bernoulli  UniformAdaptive         5      1   \n",
      "70              false    bernoulli  UniformAdaptive        20      1   \n",
      "71               true    bernoulli           Random         5      1   \n",
      "72               true    bernoulli  QuantilesGlobal        20      1   \n",
      "73               true    bernoulli       RoundRobin         5      1   \n",
      "74              false    bernoulli       RoundRobin         5      1   \n",
      "75              false    bernoulli  QuantilesGlobal         5      1   \n",
      "76               true    bernoulli       RoundRobin        20      1   \n",
      "77              false    bernoulli           Random        20      1   \n",
      "78               true    bernoulli  QuantilesGlobal         5      1   \n",
      "79               true    bernoulli  UniformAdaptive         5      1   \n",
      "\n",
      "                                                    model_ids  \\\n",
      "0    Grid_DRF_train.hex_model_python_1517169977397_2_model_33   \n",
      "1    Grid_DRF_train.hex_model_python_1517169977397_2_model_61   \n",
      "2    Grid_DRF_train.hex_model_python_1517169977397_2_model_75   \n",
      "3    Grid_DRF_train.hex_model_python_1517169977397_2_model_89   \n",
      "4    Grid_DRF_train.hex_model_python_1517169977397_2_model_74   \n",
      "5    Grid_DRF_train.hex_model_python_1517169977397_2_model_18   \n",
      "6    Grid_DRF_train.hex_model_python_1517169977397_2_model_88   \n",
      "7    Grid_DRF_train.hex_model_python_1517169977397_2_model_60   \n",
      "8     Grid_DRF_train.hex_model_python_1517169977397_2_model_4   \n",
      "9    Grid_DRF_train.hex_model_python_1517169977397_2_model_46   \n",
      "10  Grid_DRF_train.hex_model_python_1517169977397_2_model_102   \n",
      "11  Grid_DRF_train.hex_model_python_1517169977397_2_model_103   \n",
      "12   Grid_DRF_train.hex_model_python_1517169977397_2_model_47   \n",
      "13    Grid_DRF_train.hex_model_python_1517169977397_2_model_5   \n",
      "14   Grid_DRF_train.hex_model_python_1517169977397_2_model_19   \n",
      "15   Grid_DRF_train.hex_model_python_1517169977397_2_model_32   \n",
      "16   Grid_DRF_train.hex_model_python_1517169977397_2_model_78   \n",
      "17  Grid_DRF_train.hex_model_python_1517169977397_2_model_106   \n",
      "18   Grid_DRF_train.hex_model_python_1517169977397_2_model_64   \n",
      "19  Grid_DRF_train.hex_model_python_1517169977397_2_model_107   \n",
      "20   Grid_DRF_train.hex_model_python_1517169977397_2_model_92   \n",
      "21   Grid_DRF_train.hex_model_python_1517169977397_2_model_79   \n",
      "22   Grid_DRF_train.hex_model_python_1517169977397_2_model_65   \n",
      "23   Grid_DRF_train.hex_model_python_1517169977397_2_model_93   \n",
      "24   Grid_DRF_train.hex_model_python_1517169977397_2_model_51   \n",
      "25   Grid_DRF_train.hex_model_python_1517169977397_2_model_37   \n",
      "26   Grid_DRF_train.hex_model_python_1517169977397_2_model_23   \n",
      "27    Grid_DRF_train.hex_model_python_1517169977397_2_model_9   \n",
      "28   Grid_DRF_train.hex_model_python_1517169977397_2_model_50   \n",
      "29   Grid_DRF_train.hex_model_python_1517169977397_2_model_36   \n",
      "..                                                        ...   \n",
      "50   Grid_DRF_train.hex_model_python_1517169977397_2_model_49   \n",
      "51   Grid_DRF_train.hex_model_python_1517169977397_2_model_20   \n",
      "52   Grid_DRF_train.hex_model_python_1517169977397_2_model_77   \n",
      "53   Grid_DRF_train.hex_model_python_1517169977397_2_model_76   \n",
      "54   Grid_DRF_train.hex_model_python_1517169977397_2_model_48   \n",
      "55   Grid_DRF_train.hex_model_python_1517169977397_2_model_35   \n",
      "56   Grid_DRF_train.hex_model_python_1517169977397_2_model_63   \n",
      "57   Grid_DRF_train.hex_model_python_1517169977397_2_model_21   \n",
      "58    Grid_DRF_train.hex_model_python_1517169977397_2_model_7   \n",
      "59   Grid_DRF_train.hex_model_python_1517169977397_2_model_62   \n",
      "60    Grid_DRF_train.hex_model_python_1517169977397_2_model_6   \n",
      "61   Grid_DRF_train.hex_model_python_1517169977397_2_model_34   \n",
      "62  Grid_DRF_train.hex_model_python_1517169977397_2_model_105   \n",
      "63   Grid_DRF_train.hex_model_python_1517169977397_2_model_90   \n",
      "64   Grid_DRF_train.hex_model_python_1517169977397_2_model_14   \n",
      "65    Grid_DRF_train.hex_model_python_1517169977397_2_model_0   \n",
      "66   Grid_DRF_train.hex_model_python_1517169977397_2_model_43   \n",
      "67   Grid_DRF_train.hex_model_python_1517169977397_2_model_71   \n",
      "68   Grid_DRF_train.hex_model_python_1517169977397_2_model_29   \n",
      "69   Grid_DRF_train.hex_model_python_1517169977397_2_model_57   \n",
      "70    Grid_DRF_train.hex_model_python_1517169977397_2_model_1   \n",
      "71   Grid_DRF_train.hex_model_python_1517169977397_2_model_70   \n",
      "72   Grid_DRF_train.hex_model_python_1517169977397_2_model_28   \n",
      "73   Grid_DRF_train.hex_model_python_1517169977397_2_model_98   \n",
      "74   Grid_DRF_train.hex_model_python_1517169977397_2_model_99   \n",
      "75   Grid_DRF_train.hex_model_python_1517169977397_2_model_85   \n",
      "76   Grid_DRF_train.hex_model_python_1517169977397_2_model_42   \n",
      "77   Grid_DRF_train.hex_model_python_1517169977397_2_model_15   \n",
      "78   Grid_DRF_train.hex_model_python_1517169977397_2_model_84   \n",
      "79   Grid_DRF_train.hex_model_python_1517169977397_2_model_56   \n",
      "\n",
      "       residual_deviance  \n",
      "0      -8.44918103414965  \n",
      "1      -8.43771885527226  \n",
      "2     -8.381067194063755  \n",
      "3     -8.350332580425935  \n",
      "4     -8.343373236151065  \n",
      "5     -8.321260553097236  \n",
      "6     -8.240422878227363  \n",
      "7     -8.238871400657974  \n",
      "8     -8.192477775001409  \n",
      "9      -8.15143530771694  \n",
      "10    -8.141515058076234  \n",
      "11    -8.139984367507726  \n",
      "12     -8.13870124642548  \n",
      "13     -8.12106115581009  \n",
      "14    -7.980028951152454  \n",
      "15    -7.975760141910395  \n",
      "16  0.035514948357491936  \n",
      "17   0.03611630160718394  \n",
      "18   0.03920329975764582  \n",
      "19   0.04042419768067576  \n",
      "20   0.04326115495423378  \n",
      "21   0.04485349058793178  \n",
      "22   0.04613007617633019  \n",
      "23  0.052428784719271114  \n",
      "24   0.05396639637723914  \n",
      "25   0.05775426660718403  \n",
      "26    0.0579181967394727  \n",
      "27   0.05858478881391515  \n",
      "28  0.059069156296443846  \n",
      "29   0.06299704332621718  \n",
      "..                   ...  \n",
      "50     5.448439163342164  \n",
      "51    5.4491171390365665  \n",
      "52     5.449959040945673  \n",
      "53     5.451077713628084  \n",
      "54     5.451504099828865  \n",
      "55    5.4577576949374285  \n",
      "56     5.457764424733764  \n",
      "57     5.458128545179524  \n",
      "58     5.460394046501526  \n",
      "59     5.463898114875839  \n",
      "60     5.464519771500006  \n",
      "61     5.467010501462495  \n",
      "62     5.470645391639018  \n",
      "63    5.4709555619919445  \n",
      "64    210.79656161579013  \n",
      "65    211.03768117062586  \n",
      "66     211.6225352224732  \n",
      "67    211.89830509595132  \n",
      "68    212.60344828706764  \n",
      "69      213.005405416611  \n",
      "70    213.35977338231038  \n",
      "71    213.91379311465383  \n",
      "72     214.1235955168235  \n",
      "73    214.52325582515905  \n",
      "74    214.63736264856826  \n",
      "75     214.8628571540627  \n",
      "76    215.59411765826445  \n",
      "77    216.15864023783448  \n",
      "78    216.23561644956175  \n",
      "79    217.29885058591825  \n",
      "\n"
     ]
    },
    {
     "name": "stdout",
     "output_type": "stream",
     "text": [
      "[80 rows x 8 columns]\n"
     ]
    }
   ],
   "source": [
    "# Lets see if we can do better on one tree\n",
    "hyper_parameters = {'ntrees':[1], \n",
    "                    'max_depth':[20, 5], \n",
    "                    'balance_classes':[True, False], \n",
    "                    'distribution':['bernoulli', 'multinominal', 'gaussian', 'poisson', 'gamma', 'tweedie', 'laplace', 'huber'],\n",
    "                    'histogram_type':['uniform_adaptive', 'random', 'quantiles_global', 'round_robin']}\n",
    "grid_search = H2OGridSearch(H2ORandomForestEstimator, hyper_params=hyper_parameters)\n",
    "grid_search.train(x=X.columns, y=y.columns[0], training_frame=train)\n",
    "grid_search.show()"
   ]
  },
  {
   "cell_type": "code",
   "execution_count": 8,
   "metadata": {
    "collapsed": true
   },
   "outputs": [],
   "source": [
    "# Now select the configuration with the lowest logloss\n",
    "opt_tree = grid_search.get_grid(sort_by='mse', decreasing=True)[-1]"
   ]
  },
  {
   "cell_type": "code",
   "execution_count": 9,
   "metadata": {
    "scrolled": true
   },
   "outputs": [
    {
     "name": "stdout",
     "output_type": "stream",
     "text": [
      "\n",
      "ModelMetricsRegression: drf\n",
      "** Reported on test data. **\n",
      "\n",
      "MSE: 0.573080253014\n",
      "RMSE: 0.757020642396\n",
      "MAE: 0.561674569145\n",
      "RMSLE: 0.116156691531\n",
      "Mean Residual Deviance: 214.4888889\n"
     ]
    },
    {
     "data": {
      "text/plain": []
     },
     "execution_count": 9,
     "metadata": {},
     "output_type": "execute_result"
    }
   ],
   "source": [
    "opt_tree.model_performance(valid)"
   ]
  },
  {
   "cell_type": "code",
   "execution_count": 10,
   "metadata": {},
   "outputs": [
    {
     "name": "stdout",
     "output_type": "stream",
     "text": [
      "H2O session _sid_8a5b closed.\n"
     ]
    }
   ],
   "source": [
    "h2o.shutdown()"
   ]
  },
  {
   "cell_type": "code",
   "execution_count": null,
   "metadata": {
    "collapsed": true
   },
   "outputs": [],
   "source": []
  }
 ],
 "metadata": {
  "kernelspec": {
   "display_name": "Python 2",
   "language": "python",
   "name": "python2"
  },
  "language_info": {
   "codemirror_mode": {
    "name": "ipython",
    "version": 2
   },
   "file_extension": ".py",
   "mimetype": "text/x-python",
   "name": "python",
   "nbconvert_exporter": "python",
   "pygments_lexer": "ipython2",
   "version": "2.7.14"
  }
 },
 "nbformat": 4,
 "nbformat_minor": 2
}
