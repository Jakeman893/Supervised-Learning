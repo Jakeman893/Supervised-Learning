{
 "cells": [
  {
   "cell_type": "code",
   "execution_count": 1,
   "metadata": {},
   "outputs": [
    {
     "name": "stdout",
     "output_type": "stream",
     "text": [
      "Checking whether there is an H2O instance running at http://localhost:54321..... not found.\n",
      "Attempting to start a local H2O server...\n",
      "  Java Version: openjdk version \"1.8.0_121\"; OpenJDK Runtime Environment (Zulu 8.20.0.5-linux64) (build 1.8.0_121-b15); OpenJDK 64-Bit Server VM (Zulu 8.20.0.5-linux64) (build 25.121-b15, mixed mode)\n",
      "  Starting server from /home/rocket/anaconda2/h2o_jar/h2o.jar\n",
      "  Ice root: /tmp/tmpS3f4d5\n",
      "  JVM stdout: /tmp/tmpS3f4d5/h2o_rocket_started_from_python.out\n",
      "  JVM stderr: /tmp/tmpS3f4d5/h2o_rocket_started_from_python.err\n",
      "  Server is running at http://127.0.0.1:54321\n",
      "Connecting to H2O server at http://127.0.0.1:54321... successful.\n",
      "Warning: Your H2O cluster version is too old (1 year, 2 months and 29 days)! Please download and install the latest version from http://h2o.ai/download/\n"
     ]
    },
    {
     "data": {
      "text/html": [
       "<div style=\"overflow:auto\"><table style=\"width:50%\"><tr><td>H2O cluster uptime:</td>\n",
       "<td>06 secs</td></tr>\n",
       "<tr><td>H2O cluster version:</td>\n",
       "<td>3.10.0.9</td></tr>\n",
       "<tr><td>H2O cluster version age:</td>\n",
       "<td>1 year, 2 months and 29 days !!!</td></tr>\n",
       "<tr><td>H2O cluster name:</td>\n",
       "<td>H2O_from_python_rocket_zc10lv</td></tr>\n",
       "<tr><td>H2O cluster total nodes:</td>\n",
       "<td>1</td></tr>\n",
       "<tr><td>H2O cluster free memory:</td>\n",
       "<td>3.464 Gb</td></tr>\n",
       "<tr><td>H2O cluster total cores:</td>\n",
       "<td>4</td></tr>\n",
       "<tr><td>H2O cluster allowed cores:</td>\n",
       "<td>4</td></tr>\n",
       "<tr><td>H2O cluster status:</td>\n",
       "<td>accepting new members, healthy</td></tr>\n",
       "<tr><td>H2O connection url:</td>\n",
       "<td>http://127.0.0.1:54321</td></tr>\n",
       "<tr><td>H2O connection proxy:</td>\n",
       "<td>None</td></tr>\n",
       "<tr><td>Python version:</td>\n",
       "<td>2.7.14 final</td></tr></table></div>"
      ],
      "text/plain": [
       "--------------------------  --------------------------------\n",
       "H2O cluster uptime:         06 secs\n",
       "H2O cluster version:        3.10.0.9\n",
       "H2O cluster version age:    1 year, 2 months and 29 days !!!\n",
       "H2O cluster name:           H2O_from_python_rocket_zc10lv\n",
       "H2O cluster total nodes:    1\n",
       "H2O cluster free memory:    3.464 Gb\n",
       "H2O cluster total cores:    4\n",
       "H2O cluster allowed cores:  4\n",
       "H2O cluster status:         accepting new members, healthy\n",
       "H2O connection url:         http://127.0.0.1:54321\n",
       "H2O connection proxy:\n",
       "Python version:             2.7.14 final\n",
       "--------------------------  --------------------------------"
      ]
     },
     "metadata": {},
     "output_type": "display_data"
    }
   ],
   "source": [
    "import h2o\n",
    "import numpy as np\n",
    "\n",
    "import math\n",
    "from matplotlib import pyplot as plt\n",
    "from matplotlib.colors import ListedColormap\n",
    "from sklearn.preprocessing import StandardScaler\n",
    "from sklearn.model_selection import train_test_split, ShuffleSplit, learning_curve, GridSearchCV\n",
    "from sklearn.metrics import recall_score, classification_report, confusion_matrix\n",
    "import itertools\n",
    "\n",
    "from h2o.estimators.gbm import H2OGradientBoostingEstimator\n",
    "from h2o.estimators import H2ORandomForestEstimator\n",
    "from h2o.grid.grid_search import H2OGridSearch\n",
    "h2o.init()"
   ]
  },
  {
   "cell_type": "markdown",
   "metadata": {},
   "source": [
    "# Learning Curve Definition"
   ]
  },
  {
   "cell_type": "code",
   "execution_count": 2,
   "metadata": {
    "collapsed": true
   },
   "outputs": [],
   "source": [
    "# Courtesy of http://scikit-learn.org/stable/auto_examples/model_selection/plot_learning_curve.html\n",
    "\n",
    "def plot_learning_curve(estimator, title, X, y, ylim=None, cv=None,\n",
    "                        n_jobs=1, train_sizes=np.linspace(.1, 1.0, 5)):\n",
    "    \"\"\"\n",
    "    Generate a simple plot of the test and training learning curve.\n",
    "\n",
    "    Parameters\n",
    "    ----------\n",
    "    estimator : object type that implements the \"fit\" and \"predict\" methods\n",
    "        An object of that type which is cloned for each validation.\n",
    "\n",
    "    title : string\n",
    "        Title for the chart.\n",
    "\n",
    "    X : array-like, shape (n_samples, n_features)\n",
    "        Training vector, where n_samples is the number of samples and\n",
    "        n_features is the number of features.\n",
    "\n",
    "    y : array-like, shape (n_samples) or (n_samples, n_features), optional\n",
    "        Target relative to X for classification or regression;\n",
    "        None for unsupervised learning.\n",
    "\n",
    "    ylim : tuple, shape (ymin, ymax), optional\n",
    "        Defines minimum and maximum yvalues plotted.\n",
    "\n",
    "    cv : int, cross-validation generator or an iterable, optional\n",
    "        Determines the cross-validation splitting strategy.\n",
    "        Possible inputs for cv are:\n",
    "          - None, to use the default 3-fold cross-validation,\n",
    "          - integer, to specify the number of folds.\n",
    "          - An object to be used as a cross-validation generator.\n",
    "          - An iterable yielding train/test splits.\n",
    "\n",
    "        For integer/None inputs, if ``y`` is binary or multiclass,\n",
    "        :class:`StratifiedKFold` used. If the estimator is not a classifier\n",
    "        or if ``y`` is neither binary nor multiclass, :class:`KFold` is used.\n",
    "\n",
    "        Refer :ref:`User Guide <cross_validation>` for the various\n",
    "        cross-validators that can be used here.\n",
    "\n",
    "    n_jobs : integer, optional\n",
    "        Number of jobs to run in parallel (default 1).\n",
    "    \"\"\"\n",
    "    plt.figure()\n",
    "    plt.title(title)\n",
    "    if ylim is not None:\n",
    "        plt.ylim(*ylim)\n",
    "    plt.xlabel(\"Training examples\")\n",
    "    plt.ylabel(\"Score\")\n",
    "    train_sizes, train_scores, test_scores = learning_curve(\n",
    "        estimator, X, y, cv=cv, n_jobs=n_jobs, train_sizes=train_sizes)\n",
    "    train_scores_mean = np.mean(train_scores, axis=1)\n",
    "    train_scores_std = np.std(train_scores, axis=1)\n",
    "    test_scores_mean = np.mean(test_scores, axis=1)\n",
    "    test_scores_std = np.std(test_scores, axis=1)\n",
    "    plt.grid()\n",
    "\n",
    "    plt.fill_between(train_sizes, train_scores_mean - train_scores_std,\n",
    "                     train_scores_mean + train_scores_std, alpha=0.1,\n",
    "                     color=\"r\")\n",
    "    plt.fill_between(train_sizes, test_scores_mean - test_scores_std,\n",
    "                     test_scores_mean + test_scores_std, alpha=0.1, color=\"g\")\n",
    "    plt.plot(train_sizes, train_scores_mean, 'o-', color=\"r\",\n",
    "             label=\"Training score\")\n",
    "    plt.plot(train_sizes, test_scores_mean, 'o-', color=\"g\",\n",
    "             label=\"Cross-validation score\")\n",
    "\n",
    "    plt.legend(loc=\"best\")\n",
    "    return plt\n"
   ]
  },
  {
   "cell_type": "markdown",
   "metadata": {},
   "source": [
    "# Confusion Matrix Definition"
   ]
  },
  {
   "cell_type": "code",
   "execution_count": 3,
   "metadata": {
    "collapsed": true
   },
   "outputs": [],
   "source": [
    "def plot_confusion_matrix(cm, classes,\n",
    "                          normalize=False,\n",
    "                          title='Confusion matrix',\n",
    "                          cmap=plt.cm.Blues):\n",
    "    \"\"\"\n",
    "    This function prints and plots the confusion matrix.\n",
    "    Normalization can be applied by setting `normalize=True`.\n",
    "    \"\"\"\n",
    "    if normalize:\n",
    "        cm = cm.astype('float') / cm.sum(axis=1)[:, np.newaxis]\n",
    "        print(\"Normalized confusion matrix\")\n",
    "    else:\n",
    "        print('Confusion matrix, without normalization')\n",
    "\n",
    "    print(cm)\n",
    "\n",
    "    plt.imshow(cm, interpolation='nearest', cmap=cmap)\n",
    "    plt.title(title)\n",
    "    plt.colorbar()\n",
    "    tick_marks = np.arange(len(classes))\n",
    "    plt.xticks(tick_marks, classes, rotation=45)\n",
    "    plt.yticks(tick_marks, classes)\n",
    "\n",
    "    fmt = '.2f' if normalize else 'd'\n",
    "    thresh = cm.max() / 2.\n",
    "    for i, j in itertools.product(range(cm.shape[0]), range(cm.shape[1])):\n",
    "        plt.text(j, i, format(cm[i, j], fmt),\n",
    "                 horizontalalignment=\"center\",\n",
    "                 color=\"white\" if cm[i, j] > thresh else \"black\")\n",
    "\n",
    "    plt.tight_layout()\n",
    "    plt.ylabel('True label')\n",
    "    plt.xlabel('Predicted label')"
   ]
  },
  {
   "cell_type": "code",
   "execution_count": 4,
   "metadata": {},
   "outputs": [
    {
     "name": "stdout",
     "output_type": "stream",
     "text": [
      "Parse progress: |█████████████████████████████████████████████████████████| 100%\n",
      "Rows:480\n",
      "Cols:17\n",
      "\n",
      "\n"
     ]
    },
    {
     "data": {
      "text/html": [
       "<table>\n",
       "<tr><th>       </th><th>gender        </th><th>NationalITy  </th><th>PlaceofBirth  </th><th>StageID     </th><th>GradeID  </th><th>SectionID  </th><th>Topic  </th><th>Semester      </th><th>Relation      </th><th>raisedhands  </th><th>VisITedResources  </th><th>AnnouncementsView  </th><th>Discussion   </th><th>ParentAnsweringSurvey  </th><th>ParentschoolSatisfaction  </th><th>StudentAbsenceDays  </th><th>Class  </th></tr>\n",
       "<tr><td>type   </td><td>enum          </td><td>enum         </td><td>enum          </td><td>enum        </td><td>enum     </td><td>enum       </td><td>enum   </td><td>enum          </td><td>enum          </td><td>int          </td><td>int               </td><td>int                </td><td>int          </td><td>enum                   </td><td>enum                      </td><td>enum                </td><td>enum   </td></tr>\n",
       "<tr><td>mins   </td><td>0.0           </td><td>0.0          </td><td>0.0           </td><td>0.0         </td><td>0.0      </td><td>0.0        </td><td>0.0    </td><td>0.0           </td><td>0.0           </td><td>0.0          </td><td>0.0               </td><td>0.0                </td><td>1.0          </td><td>0.0                    </td><td>0.0                       </td><td>0.0                 </td><td>0.0    </td></tr>\n",
       "<tr><td>mean   </td><td>0.635416666667</td><td>NaN          </td><td>NaN           </td><td>NaN         </td><td>NaN      </td><td>NaN        </td><td>NaN    </td><td>0.489583333333</td><td>0.410416666667</td><td>46.775       </td><td>54.7979166667     </td><td>37.91875           </td><td>43.2833333333</td><td>0.5625                 </td><td>0.608333333333            </td><td>0.602083333333      </td><td>NaN    </td></tr>\n",
       "<tr><td>maxs   </td><td>1.0           </td><td>13.0         </td><td>13.0          </td><td>2.0         </td><td>9.0      </td><td>2.0        </td><td>11.0   </td><td>1.0           </td><td>1.0           </td><td>100.0        </td><td>99.0              </td><td>98.0               </td><td>99.0         </td><td>1.0                    </td><td>1.0                       </td><td>1.0                 </td><td>2.0    </td></tr>\n",
       "<tr><td>sigma  </td><td>0.481815279763</td><td>NaN          </td><td>NaN           </td><td>NaN         </td><td>NaN      </td><td>NaN        </td><td>NaN    </td><td>0.500413016613</td><td>0.492422575682</td><td>30.7792225827</td><td>33.0800066997     </td><td>26.6112440819      </td><td>27.6377350384</td><td>0.496595927951         </td><td>0.488632078645            </td><td>0.489978732159      </td><td>NaN    </td></tr>\n",
       "<tr><td>zeros  </td><td>175           </td><td>9            </td><td>9             </td><td>33          </td><td>147      </td><td>283        </td><td>59     </td><td>245           </td><td>283           </td><td>9            </td><td>7                 </td><td>10                 </td><td>0            </td><td>210                    </td><td>188                       </td><td>191                 </td><td>142    </td></tr>\n",
       "<tr><td>missing</td><td>0             </td><td>0            </td><td>0             </td><td>0           </td><td>0        </td><td>0          </td><td>0      </td><td>0             </td><td>0             </td><td>0            </td><td>0                 </td><td>0                  </td><td>0            </td><td>0                      </td><td>0                         </td><td>0                   </td><td>0      </td></tr>\n",
       "<tr><td>0      </td><td>M             </td><td>KW           </td><td>KuwaIT        </td><td>lowerlevel  </td><td>G-04     </td><td>A          </td><td>IT     </td><td>F             </td><td>Father        </td><td>15.0         </td><td>16.0              </td><td>2.0                </td><td>20.0         </td><td>Yes                    </td><td>Good                      </td><td>Under-7             </td><td>M      </td></tr>\n",
       "<tr><td>1      </td><td>M             </td><td>KW           </td><td>KuwaIT        </td><td>lowerlevel  </td><td>G-04     </td><td>A          </td><td>IT     </td><td>F             </td><td>Father        </td><td>20.0         </td><td>20.0              </td><td>3.0                </td><td>25.0         </td><td>Yes                    </td><td>Good                      </td><td>Under-7             </td><td>M      </td></tr>\n",
       "<tr><td>2      </td><td>M             </td><td>KW           </td><td>KuwaIT        </td><td>lowerlevel  </td><td>G-04     </td><td>A          </td><td>IT     </td><td>F             </td><td>Father        </td><td>10.0         </td><td>7.0               </td><td>0.0                </td><td>30.0         </td><td>No                     </td><td>Bad                       </td><td>Above-7             </td><td>L      </td></tr>\n",
       "<tr><td>3      </td><td>M             </td><td>KW           </td><td>KuwaIT        </td><td>lowerlevel  </td><td>G-04     </td><td>A          </td><td>IT     </td><td>F             </td><td>Father        </td><td>30.0         </td><td>25.0              </td><td>5.0                </td><td>35.0         </td><td>No                     </td><td>Bad                       </td><td>Above-7             </td><td>L      </td></tr>\n",
       "<tr><td>4      </td><td>M             </td><td>KW           </td><td>KuwaIT        </td><td>lowerlevel  </td><td>G-04     </td><td>A          </td><td>IT     </td><td>F             </td><td>Father        </td><td>40.0         </td><td>50.0              </td><td>12.0               </td><td>50.0         </td><td>No                     </td><td>Bad                       </td><td>Above-7             </td><td>M      </td></tr>\n",
       "<tr><td>5      </td><td>F             </td><td>KW           </td><td>KuwaIT        </td><td>lowerlevel  </td><td>G-04     </td><td>A          </td><td>IT     </td><td>F             </td><td>Father        </td><td>42.0         </td><td>30.0              </td><td>13.0               </td><td>70.0         </td><td>Yes                    </td><td>Bad                       </td><td>Above-7             </td><td>M      </td></tr>\n",
       "<tr><td>6      </td><td>M             </td><td>KW           </td><td>KuwaIT        </td><td>MiddleSchool</td><td>G-07     </td><td>A          </td><td>Math   </td><td>F             </td><td>Father        </td><td>35.0         </td><td>12.0              </td><td>0.0                </td><td>17.0         </td><td>No                     </td><td>Bad                       </td><td>Above-7             </td><td>L      </td></tr>\n",
       "<tr><td>7      </td><td>M             </td><td>KW           </td><td>KuwaIT        </td><td>MiddleSchool</td><td>G-07     </td><td>A          </td><td>Math   </td><td>F             </td><td>Father        </td><td>50.0         </td><td>10.0              </td><td>15.0               </td><td>22.0         </td><td>Yes                    </td><td>Good                      </td><td>Under-7             </td><td>M      </td></tr>\n",
       "<tr><td>8      </td><td>F             </td><td>KW           </td><td>KuwaIT        </td><td>MiddleSchool</td><td>G-07     </td><td>A          </td><td>Math   </td><td>F             </td><td>Father        </td><td>12.0         </td><td>21.0              </td><td>16.0               </td><td>50.0         </td><td>Yes                    </td><td>Good                      </td><td>Under-7             </td><td>M      </td></tr>\n",
       "<tr><td>9      </td><td>F             </td><td>KW           </td><td>KuwaIT        </td><td>MiddleSchool</td><td>G-07     </td><td>B          </td><td>IT     </td><td>F             </td><td>Father        </td><td>70.0         </td><td>80.0              </td><td>25.0               </td><td>70.0         </td><td>Yes                    </td><td>Good                      </td><td>Under-7             </td><td>M      </td></tr>\n",
       "</table>"
      ]
     },
     "metadata": {},
     "output_type": "display_data"
    }
   ],
   "source": [
    "df = h2o.import_file(path=\"../datasets/student_perform.csv\")\n",
    "df.describe()"
   ]
  },
  {
   "cell_type": "code",
   "execution_count": 5,
   "metadata": {},
   "outputs": [
    {
     "name": "stdout",
     "output_type": "stream",
     "text": [
      "Rows:480\n",
      "Cols:16\n",
      "\n",
      "\n"
     ]
    },
    {
     "data": {
      "text/html": [
       "<table>\n",
       "<tr><th>       </th><th>gender        </th><th>NationalITy  </th><th>PlaceofBirth  </th><th>StageID     </th><th>GradeID  </th><th>SectionID  </th><th>Topic  </th><th>Semester      </th><th>Relation      </th><th>raisedhands  </th><th>VisITedResources  </th><th>AnnouncementsView  </th><th>Discussion   </th><th>ParentAnsweringSurvey  </th><th>ParentschoolSatisfaction  </th><th>StudentAbsenceDays  </th></tr>\n",
       "<tr><td>type   </td><td>enum          </td><td>enum         </td><td>enum          </td><td>enum        </td><td>enum     </td><td>enum       </td><td>enum   </td><td>enum          </td><td>enum          </td><td>int          </td><td>int               </td><td>int                </td><td>int          </td><td>enum                   </td><td>enum                      </td><td>enum                </td></tr>\n",
       "<tr><td>mins   </td><td>0.0           </td><td>0.0          </td><td>0.0           </td><td>0.0         </td><td>0.0      </td><td>0.0        </td><td>0.0    </td><td>0.0           </td><td>0.0           </td><td>0.0          </td><td>0.0               </td><td>0.0                </td><td>1.0          </td><td>0.0                    </td><td>0.0                       </td><td>0.0                 </td></tr>\n",
       "<tr><td>mean   </td><td>0.635416666667</td><td>NaN          </td><td>NaN           </td><td>NaN         </td><td>NaN      </td><td>NaN        </td><td>NaN    </td><td>0.489583333333</td><td>0.410416666667</td><td>46.775       </td><td>54.7979166667     </td><td>37.91875           </td><td>43.2833333333</td><td>0.5625                 </td><td>0.608333333333            </td><td>0.602083333333      </td></tr>\n",
       "<tr><td>maxs   </td><td>1.0           </td><td>13.0         </td><td>13.0          </td><td>2.0         </td><td>9.0      </td><td>2.0        </td><td>11.0   </td><td>1.0           </td><td>1.0           </td><td>100.0        </td><td>99.0              </td><td>98.0               </td><td>99.0         </td><td>1.0                    </td><td>1.0                       </td><td>1.0                 </td></tr>\n",
       "<tr><td>sigma  </td><td>0.481815279763</td><td>NaN          </td><td>NaN           </td><td>NaN         </td><td>NaN      </td><td>NaN        </td><td>NaN    </td><td>0.500413016613</td><td>0.492422575682</td><td>30.7792225827</td><td>33.0800066997     </td><td>26.6112440819      </td><td>27.6377350384</td><td>0.496595927951         </td><td>0.488632078645            </td><td>0.489978732159      </td></tr>\n",
       "<tr><td>zeros  </td><td>175           </td><td>9            </td><td>9             </td><td>33          </td><td>147      </td><td>283        </td><td>59     </td><td>245           </td><td>283           </td><td>9            </td><td>7                 </td><td>10                 </td><td>0            </td><td>210                    </td><td>188                       </td><td>191                 </td></tr>\n",
       "<tr><td>missing</td><td>0             </td><td>0            </td><td>0             </td><td>0           </td><td>0        </td><td>0          </td><td>0      </td><td>0             </td><td>0             </td><td>0            </td><td>0                 </td><td>0                  </td><td>0            </td><td>0                      </td><td>0                         </td><td>0                   </td></tr>\n",
       "<tr><td>0      </td><td>M             </td><td>KW           </td><td>KuwaIT        </td><td>lowerlevel  </td><td>G-04     </td><td>A          </td><td>IT     </td><td>F             </td><td>Father        </td><td>15.0         </td><td>16.0              </td><td>2.0                </td><td>20.0         </td><td>Yes                    </td><td>Good                      </td><td>Under-7             </td></tr>\n",
       "<tr><td>1      </td><td>M             </td><td>KW           </td><td>KuwaIT        </td><td>lowerlevel  </td><td>G-04     </td><td>A          </td><td>IT     </td><td>F             </td><td>Father        </td><td>20.0         </td><td>20.0              </td><td>3.0                </td><td>25.0         </td><td>Yes                    </td><td>Good                      </td><td>Under-7             </td></tr>\n",
       "<tr><td>2      </td><td>M             </td><td>KW           </td><td>KuwaIT        </td><td>lowerlevel  </td><td>G-04     </td><td>A          </td><td>IT     </td><td>F             </td><td>Father        </td><td>10.0         </td><td>7.0               </td><td>0.0                </td><td>30.0         </td><td>No                     </td><td>Bad                       </td><td>Above-7             </td></tr>\n",
       "<tr><td>3      </td><td>M             </td><td>KW           </td><td>KuwaIT        </td><td>lowerlevel  </td><td>G-04     </td><td>A          </td><td>IT     </td><td>F             </td><td>Father        </td><td>30.0         </td><td>25.0              </td><td>5.0                </td><td>35.0         </td><td>No                     </td><td>Bad                       </td><td>Above-7             </td></tr>\n",
       "<tr><td>4      </td><td>M             </td><td>KW           </td><td>KuwaIT        </td><td>lowerlevel  </td><td>G-04     </td><td>A          </td><td>IT     </td><td>F             </td><td>Father        </td><td>40.0         </td><td>50.0              </td><td>12.0               </td><td>50.0         </td><td>No                     </td><td>Bad                       </td><td>Above-7             </td></tr>\n",
       "<tr><td>5      </td><td>F             </td><td>KW           </td><td>KuwaIT        </td><td>lowerlevel  </td><td>G-04     </td><td>A          </td><td>IT     </td><td>F             </td><td>Father        </td><td>42.0         </td><td>30.0              </td><td>13.0               </td><td>70.0         </td><td>Yes                    </td><td>Bad                       </td><td>Above-7             </td></tr>\n",
       "<tr><td>6      </td><td>M             </td><td>KW           </td><td>KuwaIT        </td><td>MiddleSchool</td><td>G-07     </td><td>A          </td><td>Math   </td><td>F             </td><td>Father        </td><td>35.0         </td><td>12.0              </td><td>0.0                </td><td>17.0         </td><td>No                     </td><td>Bad                       </td><td>Above-7             </td></tr>\n",
       "<tr><td>7      </td><td>M             </td><td>KW           </td><td>KuwaIT        </td><td>MiddleSchool</td><td>G-07     </td><td>A          </td><td>Math   </td><td>F             </td><td>Father        </td><td>50.0         </td><td>10.0              </td><td>15.0               </td><td>22.0         </td><td>Yes                    </td><td>Good                      </td><td>Under-7             </td></tr>\n",
       "<tr><td>8      </td><td>F             </td><td>KW           </td><td>KuwaIT        </td><td>MiddleSchool</td><td>G-07     </td><td>A          </td><td>Math   </td><td>F             </td><td>Father        </td><td>12.0         </td><td>21.0              </td><td>16.0               </td><td>50.0         </td><td>Yes                    </td><td>Good                      </td><td>Under-7             </td></tr>\n",
       "<tr><td>9      </td><td>F             </td><td>KW           </td><td>KuwaIT        </td><td>MiddleSchool</td><td>G-07     </td><td>B          </td><td>IT     </td><td>F             </td><td>Father        </td><td>70.0         </td><td>80.0              </td><td>25.0               </td><td>70.0         </td><td>Yes                    </td><td>Good                      </td><td>Under-7             </td></tr>\n",
       "</table>"
      ]
     },
     "metadata": {},
     "output_type": "display_data"
    },
    {
     "name": "stdout",
     "output_type": "stream",
     "text": [
      "Rows:480\n",
      "Cols:1\n",
      "\n",
      "\n"
     ]
    },
    {
     "data": {
      "text/html": [
       "<table>\n",
       "<tr><th>       </th><th>Class  </th></tr>\n",
       "<tr><td>type   </td><td>enum   </td></tr>\n",
       "<tr><td>mins   </td><td>0.0    </td></tr>\n",
       "<tr><td>mean   </td><td>NaN    </td></tr>\n",
       "<tr><td>maxs   </td><td>2.0    </td></tr>\n",
       "<tr><td>sigma  </td><td>NaN    </td></tr>\n",
       "<tr><td>zeros  </td><td>142    </td></tr>\n",
       "<tr><td>missing</td><td>0      </td></tr>\n",
       "<tr><td>0      </td><td>M      </td></tr>\n",
       "<tr><td>1      </td><td>M      </td></tr>\n",
       "<tr><td>2      </td><td>L      </td></tr>\n",
       "<tr><td>3      </td><td>L      </td></tr>\n",
       "<tr><td>4      </td><td>M      </td></tr>\n",
       "<tr><td>5      </td><td>M      </td></tr>\n",
       "<tr><td>6      </td><td>L      </td></tr>\n",
       "<tr><td>7      </td><td>M      </td></tr>\n",
       "<tr><td>8      </td><td>M      </td></tr>\n",
       "<tr><td>9      </td><td>M      </td></tr>\n",
       "</table>"
      ]
     },
     "metadata": {},
     "output_type": "display_data"
    }
   ],
   "source": [
    "# Define predictors\n",
    "y = df['Class']\n",
    "X = df.drop('Class', axis=1)\n",
    "X.describe()\n",
    "y.describe()\n",
    "# Apply the transformations to the data\n",
    "X_train, X_test, y_train, y_test = train_test_split(X.as_data_frame().as_matrix(),y.as_data_frame().as_matrix())"
   ]
  },
  {
   "cell_type": "code",
   "execution_count": 6,
   "metadata": {
    "collapsed": true
   },
   "outputs": [],
   "source": [
    "# Split for training\n",
    "train, valid, test = df.split_frame(\n",
    "    ratios = [0.6, 0.2],\n",
    "    seed=4567,\n",
    "    destination_frames=['train.hex','valid.hex','test.hex']\n",
    ")"
   ]
  },
  {
   "cell_type": "code",
   "execution_count": 7,
   "metadata": {},
   "outputs": [
    {
     "name": "stdout",
     "output_type": "stream",
     "text": [
      "drf Model Build progress: |███████████████████████████████████████████████| 100%\n",
      "Model Details\n",
      "=============\n",
      "H2ORandomForestEstimator :  Distributed Random Forest\n",
      "Model Key:  DRF_model_python_1517517668925_1\n",
      "Model Summary: \n"
     ]
    },
    {
     "data": {
      "text/html": [
       "<div style=\"overflow:auto\"><table style=\"width:50%\"><tr><td><b></b></td>\n",
       "<td><b>number_of_trees</b></td>\n",
       "<td><b>number_of_internal_trees</b></td>\n",
       "<td><b>model_size_in_bytes</b></td>\n",
       "<td><b>min_depth</b></td>\n",
       "<td><b>max_depth</b></td>\n",
       "<td><b>mean_depth</b></td>\n",
       "<td><b>min_leaves</b></td>\n",
       "<td><b>max_leaves</b></td>\n",
       "<td><b>mean_leaves</b></td></tr>\n",
       "<tr><td></td>\n",
       "<td>1.0</td>\n",
       "<td>3.0</td>\n",
       "<td>1563.0</td>\n",
       "<td>7.0</td>\n",
       "<td>10.0</td>\n",
       "<td>8.666667</td>\n",
       "<td>13.0</td>\n",
       "<td>55.0</td>\n",
       "<td>36.666668</td></tr></table></div>"
      ],
      "text/plain": [
       "    number_of_trees    number_of_internal_trees    model_size_in_bytes    min_depth    max_depth    mean_depth    min_leaves    max_leaves    mean_leaves\n",
       "--  -----------------  --------------------------  ---------------------  -----------  -----------  ------------  ------------  ------------  -------------\n",
       "    1                  3                           1563                   7            10           8.66667       13            55            36.6667"
      ]
     },
     "metadata": {},
     "output_type": "display_data"
    },
    {
     "name": "stdout",
     "output_type": "stream",
     "text": [
      "\n",
      "\n",
      "ModelMetricsMultinomial: drf\n",
      "** Reported on train data. **\n",
      "\n",
      "MSE: 0.445833333333\n",
      "RMSE: 0.6677075208\n",
      "LogLoss: 14.7367422329\n",
      "Mean Per-Class Error: 0.407407407407\n",
      "Confusion Matrix: vertical: actual; across: predicted\n",
      "\n"
     ]
    },
    {
     "data": {
      "text/html": [
       "<div style=\"overflow:auto\"><table style=\"width:50%\"><tr><td><b>H</b></td>\n",
       "<td><b>L</b></td>\n",
       "<td><b>M</b></td>\n",
       "<td><b>Error</b></td>\n",
       "<td><b>Rate</b></td></tr>\n",
       "<tr><td>11.0</td>\n",
       "<td>0.0</td>\n",
       "<td>25.0</td>\n",
       "<td>0.6944444</td>\n",
       "<td>25 / 36</td></tr>\n",
       "<tr><td>0.0</td>\n",
       "<td>26.0</td>\n",
       "<td>10.0</td>\n",
       "<td>0.2777778</td>\n",
       "<td>10 / 36</td></tr>\n",
       "<tr><td>5.0</td>\n",
       "<td>7.0</td>\n",
       "<td>36.0</td>\n",
       "<td>0.25</td>\n",
       "<td>12 / 48</td></tr>\n",
       "<tr><td>16.0</td>\n",
       "<td>33.0</td>\n",
       "<td>71.0</td>\n",
       "<td>0.3916667</td>\n",
       "<td>47 / 120</td></tr></table></div>"
      ],
      "text/plain": [
       "H    L    M    Error     Rate\n",
       "---  ---  ---  --------  --------\n",
       "11   0    25   0.694444  25 / 36\n",
       "0    26   10   0.277778  10 / 36\n",
       "5    7    36   0.25      12 / 48\n",
       "16   33   71   0.391667  47 / 120"
      ]
     },
     "metadata": {},
     "output_type": "display_data"
    },
    {
     "name": "stdout",
     "output_type": "stream",
     "text": [
      "Top-3 Hit Ratios: \n"
     ]
    },
    {
     "data": {
      "text/html": [
       "<div style=\"overflow:auto\"><table style=\"width:50%\"><tr><td><b>k</b></td>\n",
       "<td><b>hit_ratio</b></td></tr>\n",
       "<tr><td>1</td>\n",
       "<td>0.6083333</td></tr>\n",
       "<tr><td>2</td>\n",
       "<td>0.725</td></tr>\n",
       "<tr><td>3</td>\n",
       "<td>1.0</td></tr></table></div>"
      ],
      "text/plain": [
       "k    hit_ratio\n",
       "---  -----------\n",
       "1    0.608333\n",
       "2    0.725\n",
       "3    1"
      ]
     },
     "metadata": {},
     "output_type": "display_data"
    },
    {
     "name": "stdout",
     "output_type": "stream",
     "text": [
      "Scoring History: \n"
     ]
    },
    {
     "data": {
      "text/html": [
       "<div style=\"overflow:auto\"><table style=\"width:50%\"><tr><td><b></b></td>\n",
       "<td><b>timestamp</b></td>\n",
       "<td><b>duration</b></td>\n",
       "<td><b>number_of_trees</b></td>\n",
       "<td><b>training_rmse</b></td>\n",
       "<td><b>training_logloss</b></td>\n",
       "<td><b>training_classification_error</b></td></tr>\n",
       "<tr><td></td>\n",
       "<td>2018-02-01 15:41:23</td>\n",
       "<td> 0.019 sec</td>\n",
       "<td>0.0</td>\n",
       "<td>nan</td>\n",
       "<td>nan</td>\n",
       "<td>nan</td></tr>\n",
       "<tr><td></td>\n",
       "<td>2018-02-01 15:41:23</td>\n",
       "<td> 0.390 sec</td>\n",
       "<td>1.0</td>\n",
       "<td>0.6677075</td>\n",
       "<td>14.7367422</td>\n",
       "<td>0.3916667</td></tr></table></div>"
      ],
      "text/plain": [
       "    timestamp            duration    number_of_trees    training_rmse    training_logloss    training_classification_error\n",
       "--  -------------------  ----------  -----------------  ---------------  ------------------  -------------------------------\n",
       "    2018-02-01 15:41:23  0.019 sec   0                  nan              nan                 nan\n",
       "    2018-02-01 15:41:23  0.390 sec   1                  0.667708         14.7367             0.391667"
      ]
     },
     "metadata": {},
     "output_type": "display_data"
    },
    {
     "name": "stdout",
     "output_type": "stream",
     "text": [
      "Variable Importances: \n"
     ]
    },
    {
     "data": {
      "text/html": [
       "<div style=\"overflow:auto\"><table style=\"width:50%\"><tr><td><b>variable</b></td>\n",
       "<td><b>relative_importance</b></td>\n",
       "<td><b>scaled_importance</b></td>\n",
       "<td><b>percentage</b></td></tr>\n",
       "<tr><td>StudentAbsenceDays</td>\n",
       "<td>41.0712051</td>\n",
       "<td>1.0</td>\n",
       "<td>0.3223420</td></tr>\n",
       "<tr><td>raisedhands</td>\n",
       "<td>27.5646954</td>\n",
       "<td>0.6711441</td>\n",
       "<td>0.2163379</td></tr>\n",
       "<tr><td>NationalITy</td>\n",
       "<td>9.6754503</td>\n",
       "<td>0.2355775</td>\n",
       "<td>0.0759365</td></tr>\n",
       "<tr><td>AnnouncementsView</td>\n",
       "<td>9.5429621</td>\n",
       "<td>0.2323516</td>\n",
       "<td>0.0748967</td></tr>\n",
       "<tr><td>Discussion</td>\n",
       "<td>7.3840170</td>\n",
       "<td>0.1797857</td>\n",
       "<td>0.0579525</td></tr>\n",
       "<tr><td>VisITedResources</td>\n",
       "<td>6.5579901</td>\n",
       "<td>0.1596737</td>\n",
       "<td>0.0514695</td></tr>\n",
       "<tr><td>Topic</td>\n",
       "<td>5.7524123</td>\n",
       "<td>0.1400595</td>\n",
       "<td>0.0451471</td></tr>\n",
       "<tr><td>GradeID</td>\n",
       "<td>5.1247411</td>\n",
       "<td>0.1247770</td>\n",
       "<td>0.0402209</td></tr>\n",
       "<tr><td>Relation</td>\n",
       "<td>3.9609463</td>\n",
       "<td>0.0964410</td>\n",
       "<td>0.0310870</td></tr>\n",
       "<tr><td>ParentAnsweringSurvey</td>\n",
       "<td>3.2629764</td>\n",
       "<td>0.0794468</td>\n",
       "<td>0.0256090</td></tr>\n",
       "<tr><td>ParentschoolSatisfaction</td>\n",
       "<td>2.9726191</td>\n",
       "<td>0.0723772</td>\n",
       "<td>0.0233302</td></tr>\n",
       "<tr><td>gender</td>\n",
       "<td>2.1071429</td>\n",
       "<td>0.0513046</td>\n",
       "<td>0.0165376</td></tr>\n",
       "<tr><td>SectionID</td>\n",
       "<td>1.1780589</td>\n",
       "<td>0.0286833</td>\n",
       "<td>0.0092458</td></tr>\n",
       "<tr><td>Semester</td>\n",
       "<td>0.7586835</td>\n",
       "<td>0.0184724</td>\n",
       "<td>0.0059544</td></tr>\n",
       "<tr><td>PlaceofBirth</td>\n",
       "<td>0.5011030</td>\n",
       "<td>0.0122008</td>\n",
       "<td>0.0039328</td></tr>\n",
       "<tr><td>StageID</td>\n",
       "<td>0.0</td>\n",
       "<td>0.0</td>\n",
       "<td>0.0</td></tr></table></div>"
      ],
      "text/plain": [
       "variable                  relative_importance    scaled_importance    percentage\n",
       "------------------------  ---------------------  -------------------  ------------\n",
       "StudentAbsenceDays        41.0712                1                    0.322342\n",
       "raisedhands               27.5647                0.671144             0.216338\n",
       "NationalITy               9.67545                0.235577             0.0759365\n",
       "AnnouncementsView         9.54296                0.232352             0.0748967\n",
       "Discussion                7.38402                0.179786             0.0579525\n",
       "VisITedResources          6.55799                0.159674             0.0514695\n",
       "Topic                     5.75241                0.140059             0.0451471\n",
       "GradeID                   5.12474                0.124777             0.0402209\n",
       "Relation                  3.96095                0.096441             0.031087\n",
       "ParentAnsweringSurvey     3.26298                0.0794468            0.025609\n",
       "ParentschoolSatisfaction  2.97262                0.0723772            0.0233302\n",
       "gender                    2.10714                0.0513046            0.0165376\n",
       "SectionID                 1.17806                0.0286833            0.00924584\n",
       "Semester                  0.758684               0.0184724            0.00595443\n",
       "PlaceofBirth              0.501103               0.0122008            0.00393284\n",
       "StageID                   0                      0                    0"
      ]
     },
     "metadata": {},
     "output_type": "display_data"
    },
    {
     "name": "stdout",
     "output_type": "stream",
     "text": [
      "\n"
     ]
    }
   ],
   "source": [
    "# Single decision tree, no boosting single tree\n",
    "clf = H2ORandomForestEstimator(ntrees=1)\n",
    "clf.train(x=X.columns, y=y.columns[0], training_frame=train)\n",
    "\n",
    "# Show model summary\n",
    "print clf"
   ]
  },
  {
   "cell_type": "code",
   "execution_count": 8,
   "metadata": {
    "scrolled": true
   },
   "outputs": [
    {
     "name": "stdout",
     "output_type": "stream",
     "text": [
      "\n",
      "ModelMetricsMultinomial: drf\n",
      "** Reported on test data. **\n",
      "\n",
      "MSE: 0.456896551724\n",
      "RMSE: 0.675941233928\n",
      "LogLoss: 15.1416727962\n",
      "Mean Per-Class Error: 0.371405567058\n",
      "Confusion Matrix: vertical: actual; across: predicted\n",
      "\n"
     ]
    },
    {
     "data": {
      "text/html": [
       "<div style=\"overflow:auto\"><table style=\"width:50%\"><tr><td><b>H</b></td>\n",
       "<td><b>L</b></td>\n",
       "<td><b>M</b></td>\n",
       "<td><b>Error</b></td>\n",
       "<td><b>Rate</b></td></tr>\n",
       "<tr><td>13.0</td>\n",
       "<td>1.0</td>\n",
       "<td>14.0</td>\n",
       "<td>0.5357143</td>\n",
       "<td>15 / 28</td></tr>\n",
       "<tr><td>1.0</td>\n",
       "<td>18.0</td>\n",
       "<td>4.0</td>\n",
       "<td>0.2173913</td>\n",
       "<td>5 / 23</td></tr>\n",
       "<tr><td>7.0</td>\n",
       "<td>6.0</td>\n",
       "<td>23.0</td>\n",
       "<td>0.3611111</td>\n",
       "<td>13 / 36</td></tr>\n",
       "<tr><td>21.0</td>\n",
       "<td>25.0</td>\n",
       "<td>41.0</td>\n",
       "<td>0.3793103</td>\n",
       "<td>33 / 87</td></tr></table></div>"
      ],
      "text/plain": [
       "H    L    M    Error     Rate\n",
       "---  ---  ---  --------  -------\n",
       "13   1    14   0.535714  15 / 28\n",
       "1    18   4    0.217391  5 / 23\n",
       "7    6    23   0.361111  13 / 36\n",
       "21   25   41   0.37931   33 / 87"
      ]
     },
     "metadata": {},
     "output_type": "display_data"
    },
    {
     "name": "stdout",
     "output_type": "stream",
     "text": [
      "Top-3 Hit Ratios: \n"
     ]
    },
    {
     "data": {
      "text/html": [
       "<div style=\"overflow:auto\"><table style=\"width:50%\"><tr><td><b>k</b></td>\n",
       "<td><b>hit_ratio</b></td></tr>\n",
       "<tr><td>1</td>\n",
       "<td>0.6206896</td></tr>\n",
       "<tr><td>2</td>\n",
       "<td>0.7586207</td></tr>\n",
       "<tr><td>3</td>\n",
       "<td>1.0</td></tr></table></div>"
      ],
      "text/plain": [
       "k    hit_ratio\n",
       "---  -----------\n",
       "1    0.62069\n",
       "2    0.758621\n",
       "3    1"
      ]
     },
     "metadata": {},
     "output_type": "display_data"
    },
    {
     "data": {
      "text/plain": []
     },
     "execution_count": 8,
     "metadata": {},
     "output_type": "execute_result"
    }
   ],
   "source": [
    "perf = clf.model_performance(valid)\n",
    "perf"
   ]
  },
  {
   "cell_type": "code",
   "execution_count": 9,
   "metadata": {},
   "outputs": [
    {
     "name": "stdout",
     "output_type": "stream",
     "text": [
      "drf prediction progress: |████████████████████████████████████████████████| 100%\n",
      "[['L' 0.0 1.0 0.0]\n",
      " ['H' 0.0 0.0 0.0]\n",
      " ['M' 0.0 0.0 1.0]\n",
      " ['L' 0.0 1.0 0.0]\n",
      " ['M' 0.0 0.0 1.0]\n",
      " ['M' 0.0 0.0 1.0]\n",
      " ['H' 1.0 0.0 0.0]\n",
      " ['M' 0.0 0.0 1.0]\n",
      " ['L' 0.0 1.0 0.0]\n",
      " ['L' 0.0 1.0 0.0]\n",
      " ['M' 0.0 0.0 1.0]\n",
      " ['L' 0.0 1.0 0.0]\n",
      " ['L' 0.0 0.0 0.0]\n",
      " ['L' 0.0 0.0 0.0]\n",
      " ['M' 0.0 0.0 1.0]\n",
      " ['M' 0.0 0.0 0.0]\n",
      " ['L' 0.0 1.0 0.0]\n",
      " ['L' 0.0 1.0 0.0]\n",
      " ['M' 0.5 0.0 0.5]\n",
      " ['L' 0.0 1.0 0.0]\n",
      " ['L' 0.0 1.0 0.0]\n",
      " ['L' 0.0 1.0 0.0]\n",
      " ['L' 0.0 1.0 0.0]\n",
      " ['M' 0.0 0.0 0.0]\n",
      " ['H' 0.0 0.0 0.0]\n",
      " ['L' 0.0 1.0 0.0]\n",
      " ['M' 0.0 0.0 1.0]\n",
      " ['M' 0.0 0.0 1.0]\n",
      " ['H' 0.5 0.0 0.5]\n",
      " ['L' 0.0 1.0 0.0]\n",
      " ['H' 1.0 0.0 0.0]\n",
      " ['M' 0.5 0.0 0.5]\n",
      " ['M' 0.5 0.0 0.5]\n",
      " ['H' 0.0 0.0 0.0]\n",
      " ['H' 0.0 0.0 0.0]\n",
      " ['M' 0.5 0.0 0.5]\n",
      " ['H' 1.0 0.0 0.0]\n",
      " ['M' 0.0 0.0 0.0]\n",
      " ['M' 0.0 0.0 1.0]\n",
      " ['M' 0.0 0.0 1.0]\n",
      " ['L' 0.0 1.0 0.0]\n",
      " ['L' 0.0 1.0 0.0]\n",
      " ['M' 0.5 0.0 0.5]\n",
      " ['M' 0.0 0.0 1.0]\n",
      " ['M' 0.0 0.0 1.0]\n",
      " ['L' 0.0 0.0 0.0]\n",
      " ['M' 0.0 0.0 0.0]\n",
      " ['M' 0.0 0.5 0.5]\n",
      " ['L' 0.0 1.0 0.0]\n",
      " ['M' 0.0 0.0 1.0]\n",
      " ['L' 0.0 1.0 0.0]\n",
      " ['L' 0.0 0.0 0.0]\n",
      " ['M' 0.0 0.0 0.0]\n",
      " ['H' 0.0 0.0 0.0]\n",
      " ['M' 0.0 0.0 1.0]\n",
      " ['M' 0.0 0.0 1.0]\n",
      " ['M' 0.0 0.0 1.0]\n",
      " ['H' 1.0 0.0 0.0]\n",
      " ['M' 0.0 0.0 1.0]\n",
      " ['M' 0.0 0.0 1.0]\n",
      " ['M' 0.0 0.0 0.0]\n",
      " ['H' 1.0 0.0 0.0]\n",
      " ['H' 0.0 0.0 0.0]\n",
      " ['L' 0.0 1.0 0.0]\n",
      " ['L' 0.0 0.0 0.0]\n",
      " ['M' 0.5 0.0 0.5]\n",
      " ['M' 0.0 0.0 1.0]\n",
      " ['M' 0.0 0.0 1.0]\n",
      " ['L' 0.0 1.0 0.0]\n",
      " ['H' 0.5 0.0 0.5]\n",
      " ['H' 1.0 0.0 0.0]\n",
      " ['L' 0.0 1.0 0.0]\n",
      " ['H' 1.0 0.0 0.0]\n",
      " ['H' 1.0 0.0 0.0]\n",
      " ['H' 1.0 0.0 0.0]\n",
      " ['H' 0.0 0.0 0.0]\n",
      " ['H' 1.0 0.0 0.0]\n",
      " ['H' 0.0 0.0 0.0]\n",
      " ['L' 0.0 0.0 0.0]\n",
      " ['H' 1.0 0.0 0.0]\n",
      " ['H' 0.5 0.0 0.5]\n",
      " ['L' 0.0 1.0 0.0]\n",
      " ['M' 0.0 0.0 0.0]\n",
      " ['M' 0.0 0.0 1.0]\n",
      " ['M' 0.0 0.0 1.0]\n",
      " ['M' 0.0 0.0 1.0]\n",
      " ['M' 0.0 0.0 1.0]\n",
      " ['H' 0.0 0.0 0.0]\n",
      " ['M' 0.0 0.0 1.0]\n",
      " ['M' 0.0 0.0 1.0]\n",
      " ['M' 0.5 0.0 0.5]\n",
      " ['M' 0.0 0.0 1.0]\n",
      " ['L' 0.0 0.0 0.0]\n",
      " ['L' 0.0 1.0 0.0]\n",
      " ['L' 0.0 1.0 0.0]\n",
      " ['M' 0.0 0.0 0.0]\n",
      " ['M' 0.0 0.0 1.0]]\n"
     ]
    },
    {
     "ename": "H2OResponseError",
     "evalue": "Server error java.lang.IllegalArgumentException:\n  Error: Column Rating not found\n  Request: POST /99/Rapids\n    data: {u'session_id': '_sid_bfa8', u'ast': '(tmp= py_8_sid_bfa8 (cols_py test.hex \"Rating\"))'}\n",
     "output_type": "error",
     "traceback": [
      "\u001b[0;31m---------------------------------------------------------------------------\u001b[0m",
      "\u001b[0;31mH2OResponseError\u001b[0m                          Traceback (most recent call last)",
      "\u001b[0;32m<ipython-input-9-449f940b89d2>\u001b[0m in \u001b[0;36m<module>\u001b[0;34m()\u001b[0m\n\u001b[1;32m      1\u001b[0m \u001b[0my_pred\u001b[0m \u001b[0;34m=\u001b[0m \u001b[0mclf\u001b[0m\u001b[0;34m.\u001b[0m\u001b[0mpredict\u001b[0m\u001b[0;34m(\u001b[0m\u001b[0mtest\u001b[0m\u001b[0;34m)\u001b[0m\u001b[0;34m.\u001b[0m\u001b[0mas_data_frame\u001b[0m\u001b[0;34m(\u001b[0m\u001b[0;34m)\u001b[0m\u001b[0;34m.\u001b[0m\u001b[0mas_matrix\u001b[0m\u001b[0;34m(\u001b[0m\u001b[0;34m)\u001b[0m\u001b[0;34m\u001b[0m\u001b[0m\n\u001b[1;32m      2\u001b[0m \u001b[0;32mprint\u001b[0m \u001b[0my_pred\u001b[0m\u001b[0;34m\u001b[0m\u001b[0m\n\u001b[0;32m----> 3\u001b[0;31m \u001b[0my_test\u001b[0m \u001b[0;34m=\u001b[0m \u001b[0mtest\u001b[0m\u001b[0;34m[\u001b[0m\u001b[0;34m'Rating'\u001b[0m\u001b[0;34m]\u001b[0m\u001b[0;34m.\u001b[0m\u001b[0mas_data_frame\u001b[0m\u001b[0;34m(\u001b[0m\u001b[0;34m)\u001b[0m\u001b[0;34m.\u001b[0m\u001b[0mas_matrix\u001b[0m\u001b[0;34m(\u001b[0m\u001b[0;34m)\u001b[0m\u001b[0;34m\u001b[0m\u001b[0m\n\u001b[0m\u001b[1;32m      4\u001b[0m \u001b[0mX_test\u001b[0m \u001b[0;34m=\u001b[0m \u001b[0mtest\u001b[0m\u001b[0;34m.\u001b[0m\u001b[0mas_data_frame\u001b[0m\u001b[0;34m(\u001b[0m\u001b[0;34m)\u001b[0m\u001b[0;34m.\u001b[0m\u001b[0mas_matrix\u001b[0m\u001b[0;34m(\u001b[0m\u001b[0;34m)\u001b[0m\u001b[0;34m\u001b[0m\u001b[0m\n\u001b[1;32m      5\u001b[0m \u001b[0;31m# print y_test\u001b[0m\u001b[0;34m\u001b[0m\u001b[0;34m\u001b[0m\u001b[0m\n",
      "\u001b[0;32m/home/rocket/anaconda2/lib/python2.7/site-packages/h2o/frame.pyc\u001b[0m in \u001b[0;36mas_data_frame\u001b[0;34m(self, use_pandas)\u001b[0m\n\u001b[1;32m   1084\u001b[0m         \u001b[0;32mif\u001b[0m \u001b[0mcan_use_pandas\u001b[0m\u001b[0;34m(\u001b[0m\u001b[0;34m)\u001b[0m \u001b[0;32mand\u001b[0m \u001b[0muse_pandas\u001b[0m\u001b[0;34m:\u001b[0m\u001b[0;34m\u001b[0m\u001b[0m\n\u001b[1;32m   1085\u001b[0m             \u001b[0;32mimport\u001b[0m \u001b[0mpandas\u001b[0m\u001b[0;34m\u001b[0m\u001b[0m\n\u001b[0;32m-> 1086\u001b[0;31m             \u001b[0;32mreturn\u001b[0m \u001b[0mpandas\u001b[0m\u001b[0;34m.\u001b[0m\u001b[0mread_csv\u001b[0m\u001b[0;34m(\u001b[0m\u001b[0mStringIO\u001b[0m\u001b[0;34m(\u001b[0m\u001b[0mself\u001b[0m\u001b[0;34m.\u001b[0m\u001b[0mget_frame_data\u001b[0m\u001b[0;34m(\u001b[0m\u001b[0;34m)\u001b[0m\u001b[0;34m)\u001b[0m\u001b[0;34m,\u001b[0m \u001b[0mlow_memory\u001b[0m\u001b[0;34m=\u001b[0m\u001b[0mFalse\u001b[0m\u001b[0;34m)\u001b[0m\u001b[0;34m\u001b[0m\u001b[0m\n\u001b[0m\u001b[1;32m   1087\u001b[0m         \u001b[0;32mreturn\u001b[0m \u001b[0;34m[\u001b[0m\u001b[0mrow\u001b[0m \u001b[0;32mfor\u001b[0m \u001b[0mrow\u001b[0m \u001b[0;32min\u001b[0m \u001b[0mcsv\u001b[0m\u001b[0;34m.\u001b[0m\u001b[0mreader\u001b[0m\u001b[0;34m(\u001b[0m\u001b[0mStringIO\u001b[0m\u001b[0;34m(\u001b[0m\u001b[0mself\u001b[0m\u001b[0;34m.\u001b[0m\u001b[0mget_frame_data\u001b[0m\u001b[0;34m(\u001b[0m\u001b[0;34m)\u001b[0m\u001b[0;34m)\u001b[0m\u001b[0;34m)\u001b[0m\u001b[0;34m]\u001b[0m\u001b[0;34m\u001b[0m\u001b[0m\n\u001b[1;32m   1088\u001b[0m \u001b[0;34m\u001b[0m\u001b[0m\n",
      "\u001b[0;32m/home/rocket/anaconda2/lib/python2.7/site-packages/h2o/frame.pyc\u001b[0m in \u001b[0;36mget_frame_data\u001b[0;34m(self)\u001b[0m\n\u001b[1;32m   1095\u001b[0m           \u001b[0mcontaining\u001b[0m \u001b[0mthis\u001b[0m \u001b[0mH2OFrame\u001b[0m \u001b[0minstance\u001b[0m\u001b[0;31m'\u001b[0m\u001b[0ms\u001b[0m \u001b[0mdata\u001b[0m\u001b[0;34m.\u001b[0m\u001b[0;34m\u001b[0m\u001b[0m\n\u001b[1;32m   1096\u001b[0m         \"\"\"\n\u001b[0;32m-> 1097\u001b[0;31m         \u001b[0murl\u001b[0m \u001b[0;34m=\u001b[0m \u001b[0mh2o\u001b[0m\u001b[0;34m.\u001b[0m\u001b[0mconnection\u001b[0m\u001b[0;34m(\u001b[0m\u001b[0;34m)\u001b[0m\u001b[0;34m.\u001b[0m\u001b[0mmake_url\u001b[0m\u001b[0;34m(\u001b[0m\u001b[0;34m\"DownloadDataset\"\u001b[0m\u001b[0;34m,\u001b[0m \u001b[0;36m3\u001b[0m\u001b[0;34m)\u001b[0m \u001b[0;34m+\u001b[0m \u001b[0;34m\"?frame_id={}&hex_string=false\"\u001b[0m\u001b[0;34m.\u001b[0m\u001b[0mformat\u001b[0m\u001b[0;34m(\u001b[0m\u001b[0mself\u001b[0m\u001b[0;34m.\u001b[0m\u001b[0mframe_id\u001b[0m\u001b[0;34m)\u001b[0m\u001b[0;34m\u001b[0m\u001b[0m\n\u001b[0m\u001b[1;32m   1098\u001b[0m         \u001b[0;31m# TODO: this should be moved into H2OConnection class\u001b[0m\u001b[0;34m\u001b[0m\u001b[0;34m\u001b[0m\u001b[0m\n\u001b[1;32m   1099\u001b[0m         return requests.get(url, headers={'User-Agent': 'H2O Python client/' + sys.version.replace('\\n', '')},\n",
      "\u001b[0;32m/home/rocket/anaconda2/lib/python2.7/site-packages/h2o/frame.pyc\u001b[0m in \u001b[0;36mframe_id\u001b[0;34m(self)\u001b[0m\n\u001b[1;32m    277\u001b[0m     \u001b[0;32mdef\u001b[0m \u001b[0mframe_id\u001b[0m\u001b[0;34m(\u001b[0m\u001b[0mself\u001b[0m\u001b[0;34m)\u001b[0m\u001b[0;34m:\u001b[0m\u001b[0;34m\u001b[0m\u001b[0m\n\u001b[1;32m    278\u001b[0m         \u001b[0;34m\"\"\"The name of the frame.\"\"\"\u001b[0m\u001b[0;34m\u001b[0m\u001b[0m\n\u001b[0;32m--> 279\u001b[0;31m         \u001b[0;32mreturn\u001b[0m \u001b[0mself\u001b[0m\u001b[0;34m.\u001b[0m\u001b[0m_frame\u001b[0m\u001b[0;34m(\u001b[0m\u001b[0;34m)\u001b[0m\u001b[0;34m.\u001b[0m\u001b[0m_ex\u001b[0m\u001b[0;34m.\u001b[0m\u001b[0m_cache\u001b[0m\u001b[0;34m.\u001b[0m\u001b[0m_id\u001b[0m\u001b[0;34m\u001b[0m\u001b[0m\n\u001b[0m\u001b[1;32m    280\u001b[0m \u001b[0;34m\u001b[0m\u001b[0m\n\u001b[1;32m    281\u001b[0m     \u001b[0;34m@\u001b[0m\u001b[0mframe_id\u001b[0m\u001b[0;34m.\u001b[0m\u001b[0msetter\u001b[0m\u001b[0;34m\u001b[0m\u001b[0m\n",
      "\u001b[0;32m/home/rocket/anaconda2/lib/python2.7/site-packages/h2o/frame.pyc\u001b[0m in \u001b[0;36m_frame\u001b[0;34m(self, fill_cache)\u001b[0m\n\u001b[1;32m    456\u001b[0m \u001b[0;34m\u001b[0m\u001b[0m\n\u001b[1;32m    457\u001b[0m     \u001b[0;32mdef\u001b[0m \u001b[0m_frame\u001b[0m\u001b[0;34m(\u001b[0m\u001b[0mself\u001b[0m\u001b[0;34m,\u001b[0m \u001b[0mfill_cache\u001b[0m\u001b[0;34m=\u001b[0m\u001b[0mFalse\u001b[0m\u001b[0;34m)\u001b[0m\u001b[0;34m:\u001b[0m\u001b[0;34m\u001b[0m\u001b[0m\n\u001b[0;32m--> 458\u001b[0;31m         \u001b[0mself\u001b[0m\u001b[0;34m.\u001b[0m\u001b[0m_ex\u001b[0m\u001b[0;34m.\u001b[0m\u001b[0m_eager_frame\u001b[0m\u001b[0;34m(\u001b[0m\u001b[0;34m)\u001b[0m\u001b[0;34m\u001b[0m\u001b[0m\n\u001b[0m\u001b[1;32m    459\u001b[0m         \u001b[0;32mif\u001b[0m \u001b[0mfill_cache\u001b[0m\u001b[0;34m:\u001b[0m\u001b[0;34m\u001b[0m\u001b[0m\n\u001b[1;32m    460\u001b[0m             \u001b[0mself\u001b[0m\u001b[0;34m.\u001b[0m\u001b[0m_ex\u001b[0m\u001b[0;34m.\u001b[0m\u001b[0m_cache\u001b[0m\u001b[0;34m.\u001b[0m\u001b[0mfill\u001b[0m\u001b[0;34m(\u001b[0m\u001b[0;34m)\u001b[0m\u001b[0;34m\u001b[0m\u001b[0m\n",
      "\u001b[0;32m/home/rocket/anaconda2/lib/python2.7/site-packages/h2o/expr.pyc\u001b[0m in \u001b[0;36m_eager_frame\u001b[0;34m(self)\u001b[0m\n\u001b[1;32m     83\u001b[0m         \u001b[0;32mif\u001b[0m \u001b[0;32mnot\u001b[0m \u001b[0mself\u001b[0m\u001b[0;34m.\u001b[0m\u001b[0m_cache\u001b[0m\u001b[0;34m.\u001b[0m\u001b[0mis_empty\u001b[0m\u001b[0;34m(\u001b[0m\u001b[0;34m)\u001b[0m\u001b[0;34m:\u001b[0m \u001b[0;32mreturn\u001b[0m\u001b[0;34m\u001b[0m\u001b[0m\n\u001b[1;32m     84\u001b[0m         \u001b[0;32mif\u001b[0m \u001b[0mself\u001b[0m\u001b[0;34m.\u001b[0m\u001b[0m_cache\u001b[0m\u001b[0;34m.\u001b[0m\u001b[0m_id\u001b[0m \u001b[0;32mis\u001b[0m \u001b[0;32mnot\u001b[0m \u001b[0mNone\u001b[0m\u001b[0;34m:\u001b[0m \u001b[0;32mreturn\u001b[0m  \u001b[0;31m# Data already computed under ID, but not cached locally\u001b[0m\u001b[0;34m\u001b[0m\u001b[0m\n\u001b[0;32m---> 85\u001b[0;31m         \u001b[0mself\u001b[0m\u001b[0;34m.\u001b[0m\u001b[0m_eval_driver\u001b[0m\u001b[0;34m(\u001b[0m\u001b[0mTrue\u001b[0m\u001b[0;34m)\u001b[0m\u001b[0;34m\u001b[0m\u001b[0m\n\u001b[0m\u001b[1;32m     86\u001b[0m \u001b[0;34m\u001b[0m\u001b[0m\n\u001b[1;32m     87\u001b[0m     \u001b[0;32mdef\u001b[0m \u001b[0m_eager_scalar\u001b[0m\u001b[0;34m(\u001b[0m\u001b[0mself\u001b[0m\u001b[0;34m)\u001b[0m\u001b[0;34m:\u001b[0m  \u001b[0;31m# returns a scalar (or a list of scalars)\u001b[0m\u001b[0;34m\u001b[0m\u001b[0m\n",
      "\u001b[0;32m/home/rocket/anaconda2/lib/python2.7/site-packages/h2o/expr.pyc\u001b[0m in \u001b[0;36m_eval_driver\u001b[0;34m(self, top)\u001b[0m\n\u001b[1;32m     97\u001b[0m     \u001b[0;32mdef\u001b[0m \u001b[0m_eval_driver\u001b[0m\u001b[0;34m(\u001b[0m\u001b[0mself\u001b[0m\u001b[0;34m,\u001b[0m \u001b[0mtop\u001b[0m\u001b[0;34m)\u001b[0m\u001b[0;34m:\u001b[0m\u001b[0;34m\u001b[0m\u001b[0m\n\u001b[1;32m     98\u001b[0m         \u001b[0mexec_str\u001b[0m \u001b[0;34m=\u001b[0m \u001b[0mself\u001b[0m\u001b[0;34m.\u001b[0m\u001b[0m_get_ast_str\u001b[0m\u001b[0;34m(\u001b[0m\u001b[0mtop\u001b[0m\u001b[0;34m)\u001b[0m\u001b[0;34m\u001b[0m\u001b[0m\n\u001b[0;32m---> 99\u001b[0;31m         \u001b[0mres\u001b[0m \u001b[0;34m=\u001b[0m \u001b[0mExprNode\u001b[0m\u001b[0;34m.\u001b[0m\u001b[0mrapids\u001b[0m\u001b[0;34m(\u001b[0m\u001b[0mexec_str\u001b[0m\u001b[0;34m)\u001b[0m\u001b[0;34m\u001b[0m\u001b[0m\n\u001b[0m\u001b[1;32m    100\u001b[0m         \u001b[0;32mif\u001b[0m \u001b[0;34m'scalar'\u001b[0m \u001b[0;32min\u001b[0m \u001b[0mres\u001b[0m\u001b[0;34m:\u001b[0m\u001b[0;34m\u001b[0m\u001b[0m\n\u001b[1;32m    101\u001b[0m             \u001b[0;32mif\u001b[0m \u001b[0misinstance\u001b[0m\u001b[0;34m(\u001b[0m\u001b[0mres\u001b[0m\u001b[0;34m[\u001b[0m\u001b[0;34m'scalar'\u001b[0m\u001b[0;34m]\u001b[0m\u001b[0;34m,\u001b[0m \u001b[0mlist\u001b[0m\u001b[0;34m)\u001b[0m\u001b[0;34m:\u001b[0m\u001b[0;34m\u001b[0m\u001b[0m\n",
      "\u001b[0;32m/home/rocket/anaconda2/lib/python2.7/site-packages/h2o/expr.pyc\u001b[0m in \u001b[0;36mrapids\u001b[0;34m(expr)\u001b[0m\n\u001b[1;32m    205\u001b[0m         \u001b[0;34m:\u001b[0m\u001b[0mreturns\u001b[0m\u001b[0;34m:\u001b[0m \u001b[0mThe\u001b[0m \u001b[0mJSON\u001b[0m \u001b[0mresponse\u001b[0m \u001b[0;34m(\u001b[0m\u001b[0;32mas\u001b[0m \u001b[0ma\u001b[0m \u001b[0mpython\u001b[0m \u001b[0mdictionary\u001b[0m\u001b[0;34m)\u001b[0m \u001b[0mof\u001b[0m \u001b[0mthe\u001b[0m \u001b[0mRapids\u001b[0m \u001b[0mexecution\u001b[0m\u001b[0;34m\u001b[0m\u001b[0m\n\u001b[1;32m    206\u001b[0m         \"\"\"\n\u001b[0;32m--> 207\u001b[0;31m         \u001b[0;32mreturn\u001b[0m \u001b[0mh2o\u001b[0m\u001b[0;34m.\u001b[0m\u001b[0mapi\u001b[0m\u001b[0;34m(\u001b[0m\u001b[0;34m\"POST /99/Rapids\"\u001b[0m\u001b[0;34m,\u001b[0m \u001b[0mdata\u001b[0m\u001b[0;34m=\u001b[0m\u001b[0;34m{\u001b[0m\u001b[0;34m\"ast\"\u001b[0m\u001b[0;34m:\u001b[0m \u001b[0mexpr\u001b[0m\u001b[0;34m,\u001b[0m \u001b[0;34m\"session_id\"\u001b[0m\u001b[0;34m:\u001b[0m \u001b[0mh2o\u001b[0m\u001b[0;34m.\u001b[0m\u001b[0mconnection\u001b[0m\u001b[0;34m(\u001b[0m\u001b[0;34m)\u001b[0m\u001b[0;34m.\u001b[0m\u001b[0msession_id\u001b[0m\u001b[0;34m}\u001b[0m\u001b[0;34m)\u001b[0m\u001b[0;34m\u001b[0m\u001b[0m\n\u001b[0m\u001b[1;32m    208\u001b[0m \u001b[0;34m\u001b[0m\u001b[0m\n\u001b[1;32m    209\u001b[0m \u001b[0;34m\u001b[0m\u001b[0m\n",
      "\u001b[0;32m/home/rocket/anaconda2/lib/python2.7/site-packages/h2o/h2o.pyc\u001b[0m in \u001b[0;36mapi\u001b[0;34m(endpoint, data, json, filename, save_to)\u001b[0m\n\u001b[1;32m     82\u001b[0m     \u001b[0;31m# type checks are performed in H2OConnection class\u001b[0m\u001b[0;34m\u001b[0m\u001b[0;34m\u001b[0m\u001b[0m\n\u001b[1;32m     83\u001b[0m     \u001b[0m_check_connection\u001b[0m\u001b[0;34m(\u001b[0m\u001b[0;34m)\u001b[0m\u001b[0;34m\u001b[0m\u001b[0m\n\u001b[0;32m---> 84\u001b[0;31m     \u001b[0;32mreturn\u001b[0m \u001b[0mh2oconn\u001b[0m\u001b[0;34m.\u001b[0m\u001b[0mrequest\u001b[0m\u001b[0;34m(\u001b[0m\u001b[0mendpoint\u001b[0m\u001b[0;34m,\u001b[0m \u001b[0mdata\u001b[0m\u001b[0;34m=\u001b[0m\u001b[0mdata\u001b[0m\u001b[0;34m,\u001b[0m \u001b[0mjson\u001b[0m\u001b[0;34m=\u001b[0m\u001b[0mjson\u001b[0m\u001b[0;34m,\u001b[0m \u001b[0mfilename\u001b[0m\u001b[0;34m=\u001b[0m\u001b[0mfilename\u001b[0m\u001b[0;34m,\u001b[0m \u001b[0msave_to\u001b[0m\u001b[0;34m=\u001b[0m\u001b[0msave_to\u001b[0m\u001b[0;34m)\u001b[0m\u001b[0;34m\u001b[0m\u001b[0m\n\u001b[0m\u001b[1;32m     85\u001b[0m \u001b[0;34m\u001b[0m\u001b[0m\n\u001b[1;32m     86\u001b[0m \u001b[0;34m\u001b[0m\u001b[0m\n",
      "\u001b[0;32m/home/rocket/anaconda2/lib/python2.7/site-packages/h2o/backend/connection.pyc\u001b[0m in \u001b[0;36mrequest\u001b[0;34m(self, endpoint, data, json, filename, save_to)\u001b[0m\n\u001b[1;32m    257\u001b[0m                                     auth=self._auth, verify=self._verify_ssl_cert, proxies=self._proxies)\n\u001b[1;32m    258\u001b[0m             \u001b[0mself\u001b[0m\u001b[0;34m.\u001b[0m\u001b[0m_log_end_transaction\u001b[0m\u001b[0;34m(\u001b[0m\u001b[0mstart_time\u001b[0m\u001b[0;34m,\u001b[0m \u001b[0mresp\u001b[0m\u001b[0;34m)\u001b[0m\u001b[0;34m\u001b[0m\u001b[0m\n\u001b[0;32m--> 259\u001b[0;31m             \u001b[0;32mreturn\u001b[0m \u001b[0mself\u001b[0m\u001b[0;34m.\u001b[0m\u001b[0m_process_response\u001b[0m\u001b[0;34m(\u001b[0m\u001b[0mresp\u001b[0m\u001b[0;34m,\u001b[0m \u001b[0msave_to\u001b[0m\u001b[0;34m)\u001b[0m\u001b[0;34m\u001b[0m\u001b[0m\n\u001b[0m\u001b[1;32m    260\u001b[0m \u001b[0;34m\u001b[0m\u001b[0m\n\u001b[1;32m    261\u001b[0m         \u001b[0;32mexcept\u001b[0m \u001b[0;34m(\u001b[0m\u001b[0mrequests\u001b[0m\u001b[0;34m.\u001b[0m\u001b[0mexceptions\u001b[0m\u001b[0;34m.\u001b[0m\u001b[0mConnectionError\u001b[0m\u001b[0;34m,\u001b[0m \u001b[0mrequests\u001b[0m\u001b[0;34m.\u001b[0m\u001b[0mexceptions\u001b[0m\u001b[0;34m.\u001b[0m\u001b[0mHTTPError\u001b[0m\u001b[0;34m)\u001b[0m \u001b[0;32mas\u001b[0m \u001b[0me\u001b[0m\u001b[0;34m:\u001b[0m\u001b[0;34m\u001b[0m\u001b[0m\n",
      "\u001b[0;32m/home/rocket/anaconda2/lib/python2.7/site-packages/h2o/backend/connection.pyc\u001b[0m in \u001b[0;36m_process_response\u001b[0;34m(response, save_to)\u001b[0m\n\u001b[1;32m    584\u001b[0m         \u001b[0;31m# Client errors (400 = \"Bad Request\", 404 = \"Not Found\", 412 = \"Precondition Failed\")\u001b[0m\u001b[0;34m\u001b[0m\u001b[0;34m\u001b[0m\u001b[0m\n\u001b[1;32m    585\u001b[0m         \u001b[0;32mif\u001b[0m \u001b[0mstatus_code\u001b[0m \u001b[0;32min\u001b[0m \u001b[0;34m{\u001b[0m\u001b[0;36m400\u001b[0m\u001b[0;34m,\u001b[0m \u001b[0;36m404\u001b[0m\u001b[0;34m,\u001b[0m \u001b[0;36m412\u001b[0m\u001b[0;34m}\u001b[0m \u001b[0;32mand\u001b[0m \u001b[0misinstance\u001b[0m\u001b[0;34m(\u001b[0m\u001b[0mdata\u001b[0m\u001b[0;34m,\u001b[0m \u001b[0;34m(\u001b[0m\u001b[0mH2OErrorV3\u001b[0m\u001b[0;34m,\u001b[0m \u001b[0mH2OModelBuilderErrorV3\u001b[0m\u001b[0;34m)\u001b[0m\u001b[0;34m)\u001b[0m\u001b[0;34m:\u001b[0m\u001b[0;34m\u001b[0m\u001b[0m\n\u001b[0;32m--> 586\u001b[0;31m             \u001b[0;32mraise\u001b[0m \u001b[0mH2OResponseError\u001b[0m\u001b[0;34m(\u001b[0m\u001b[0mdata\u001b[0m\u001b[0;34m)\u001b[0m\u001b[0;34m\u001b[0m\u001b[0m\n\u001b[0m\u001b[1;32m    587\u001b[0m \u001b[0;34m\u001b[0m\u001b[0m\n\u001b[1;32m    588\u001b[0m         \u001b[0;31m# Server errors (notably 500 = \"Server Error\")\u001b[0m\u001b[0;34m\u001b[0m\u001b[0;34m\u001b[0m\u001b[0m\n",
      "\u001b[0;31mH2OResponseError\u001b[0m: Server error java.lang.IllegalArgumentException:\n  Error: Column Rating not found\n  Request: POST /99/Rapids\n    data: {u'session_id': '_sid_bfa8', u'ast': '(tmp= py_8_sid_bfa8 (cols_py test.hex \"Rating\"))'}\n"
     ]
    }
   ],
   "source": [
    "y_pred = clf.predict(test).as_data_frame().as_matrix()\n",
    "print y_pred\n",
    "y_test = test['Rating'].as_data_frame().as_matrix()\n",
    "X_test = test.as_data_frame().as_matrix()\n",
    "# print y_test\n",
    "# print X_test\n",
    "cnf_matrix = confusion_matrix(y_test, y_pred)\n",
    "\n",
    "plt.figure()\n",
    "plot_confusion_matrix(cnf_matrix, classes=['2', '3','4','5','6','7','8', '9', '10'], title='Confusion Matrix MLP Default')\n",
    "plt.show()\n",
    "plt.clf()"
   ]
  },
  {
   "cell_type": "code",
   "execution_count": 10,
   "metadata": {},
   "outputs": [
    {
     "name": "stdout",
     "output_type": "stream",
     "text": [
      "drf Grid Build progress: |████████████████████████████████████████████████| 100%\n",
      "       balance_classes distribution   histogram_type max_depth ntrees  \\\n",
      "0                 true      poisson       RoundRobin         5      1   \n",
      "1                 true        huber  QuantilesGlobal         5      1   \n",
      "2                 true      laplace       RoundRobin         5      1   \n",
      "3                false      poisson  UniformAdaptive         5      1   \n",
      "4                 true        gamma       RoundRobin         5      1   \n",
      "5                 true     gaussian  UniformAdaptive         5      1   \n",
      "6                 true      poisson  UniformAdaptive         5      1   \n",
      "7                 true     gaussian  QuantilesGlobal         5      1   \n",
      "8                 true      tweedie           Random         5      1   \n",
      "9                false      laplace       RoundRobin         5      1   \n",
      "10                true        huber       RoundRobin         5      1   \n",
      "11                true        gamma  UniformAdaptive         5      1   \n",
      "12                true     gaussian       RoundRobin         5      1   \n",
      "13                true      tweedie       RoundRobin         5      1   \n",
      "14               false      laplace           Random         5      1   \n",
      "15                true      laplace  QuantilesGlobal         5      1   \n",
      "16               false      tweedie           Random         5      1   \n",
      "17               false      tweedie       RoundRobin         5      1   \n",
      "18               false        huber  UniformAdaptive         5      1   \n",
      "19                true        huber           Random         5      1   \n",
      "20                true        gamma  QuantilesGlobal         5      1   \n",
      "21               false      poisson           Random         5      1   \n",
      "22                true        huber  UniformAdaptive         5      1   \n",
      "23                true      poisson  QuantilesGlobal         5      1   \n",
      "24                true    bernoulli       RoundRobin         5      1   \n",
      "25                true    bernoulli  UniformAdaptive         5      1   \n",
      "26               false     gaussian       RoundRobin         5      1   \n",
      "27                true    bernoulli  QuantilesGlobal         5      1   \n",
      "28               false     gaussian           Random         5      1   \n",
      "29               false        huber  QuantilesGlobal         5      1   \n",
      "..  ..             ...          ...              ...       ...    ...   \n",
      "82                true      poisson  UniformAdaptive        20      1   \n",
      "83               false      poisson       RoundRobin        20      1   \n",
      "84                true     gaussian           Random        20      1   \n",
      "85                true      laplace           Random        20      1   \n",
      "86               false        huber  QuantilesGlobal        20      1   \n",
      "87                true      poisson           Random        20      1   \n",
      "88               false    bernoulli  UniformAdaptive        20      1   \n",
      "89               false      laplace  UniformAdaptive        20      1   \n",
      "90               false      tweedie       RoundRobin        20      1   \n",
      "91               false      tweedie  QuantilesGlobal        20      1   \n",
      "92               false    bernoulli  QuantilesGlobal        20      1   \n",
      "93               false      tweedie  UniformAdaptive        20      1   \n",
      "94               false     gaussian       RoundRobin        20      1   \n",
      "95               false    bernoulli           Random        20      1   \n",
      "96               false        huber       RoundRobin        20      1   \n",
      "97               false     gaussian  QuantilesGlobal        20      1   \n",
      "98               false      poisson  UniformAdaptive        20      1   \n",
      "99               false        huber  UniformAdaptive        20      1   \n",
      "100              false      poisson  QuantilesGlobal        20      1   \n",
      "101               true        huber           Random        20      1   \n",
      "102              false      laplace  QuantilesGlobal        20      1   \n",
      "103              false    bernoulli       RoundRobin        20      1   \n",
      "104              false        gamma       RoundRobin        20      1   \n",
      "105              false     gaussian           Random        20      1   \n",
      "106              false        huber           Random        20      1   \n",
      "107               true    bernoulli           Random        20      1   \n",
      "108               true      tweedie           Random        20      1   \n",
      "109              false     gaussian  UniformAdaptive        20      1   \n",
      "110              false      poisson           Random        20      1   \n",
      "111              false      tweedie           Random        20      1   \n",
      "\n",
      "                                                     model_ids  \\\n",
      "0    Grid_DRF_train.hex_model_python_1517517668925_2_model_102   \n",
      "1     Grid_DRF_train.hex_model_python_1517517668925_2_model_96   \n",
      "2    Grid_DRF_train.hex_model_python_1517517668925_2_model_108   \n",
      "3     Grid_DRF_train.hex_model_python_1517517668925_2_model_61   \n",
      "4    Grid_DRF_train.hex_model_python_1517517668925_2_model_104   \n",
      "5     Grid_DRF_train.hex_model_python_1517517668925_2_model_58   \n",
      "6     Grid_DRF_train.hex_model_python_1517517668925_2_model_60   \n",
      "7     Grid_DRF_train.hex_model_python_1517517668925_2_model_86   \n",
      "8     Grid_DRF_train.hex_model_python_1517517668925_2_model_78   \n",
      "9    Grid_DRF_train.hex_model_python_1517517668925_2_model_109   \n",
      "10   Grid_DRF_train.hex_model_python_1517517668925_2_model_110   \n",
      "11    Grid_DRF_train.hex_model_python_1517517668925_2_model_62   \n",
      "12   Grid_DRF_train.hex_model_python_1517517668925_2_model_100   \n",
      "13   Grid_DRF_train.hex_model_python_1517517668925_2_model_106   \n",
      "14    Grid_DRF_train.hex_model_python_1517517668925_2_model_81   \n",
      "15    Grid_DRF_train.hex_model_python_1517517668925_2_model_94   \n",
      "16    Grid_DRF_train.hex_model_python_1517517668925_2_model_79   \n",
      "17   Grid_DRF_train.hex_model_python_1517517668925_2_model_107   \n",
      "18    Grid_DRF_train.hex_model_python_1517517668925_2_model_69   \n",
      "19    Grid_DRF_train.hex_model_python_1517517668925_2_model_82   \n",
      "20    Grid_DRF_train.hex_model_python_1517517668925_2_model_90   \n",
      "21    Grid_DRF_train.hex_model_python_1517517668925_2_model_75   \n",
      "22    Grid_DRF_train.hex_model_python_1517517668925_2_model_68   \n",
      "23    Grid_DRF_train.hex_model_python_1517517668925_2_model_88   \n",
      "24    Grid_DRF_train.hex_model_python_1517517668925_2_model_98   \n",
      "25    Grid_DRF_train.hex_model_python_1517517668925_2_model_56   \n",
      "26   Grid_DRF_train.hex_model_python_1517517668925_2_model_101   \n",
      "27    Grid_DRF_train.hex_model_python_1517517668925_2_model_84   \n",
      "28    Grid_DRF_train.hex_model_python_1517517668925_2_model_73   \n",
      "29    Grid_DRF_train.hex_model_python_1517517668925_2_model_97   \n",
      "..                                                         ...   \n",
      "82     Grid_DRF_train.hex_model_python_1517517668925_2_model_4   \n",
      "83    Grid_DRF_train.hex_model_python_1517517668925_2_model_47   \n",
      "84    Grid_DRF_train.hex_model_python_1517517668925_2_model_16   \n",
      "85    Grid_DRF_train.hex_model_python_1517517668925_2_model_24   \n",
      "86    Grid_DRF_train.hex_model_python_1517517668925_2_model_41   \n",
      "87    Grid_DRF_train.hex_model_python_1517517668925_2_model_18   \n",
      "88     Grid_DRF_train.hex_model_python_1517517668925_2_model_1   \n",
      "89    Grid_DRF_train.hex_model_python_1517517668925_2_model_11   \n",
      "90    Grid_DRF_train.hex_model_python_1517517668925_2_model_51   \n",
      "91    Grid_DRF_train.hex_model_python_1517517668925_2_model_37   \n",
      "92    Grid_DRF_train.hex_model_python_1517517668925_2_model_29   \n",
      "93     Grid_DRF_train.hex_model_python_1517517668925_2_model_9   \n",
      "94    Grid_DRF_train.hex_model_python_1517517668925_2_model_45   \n",
      "95    Grid_DRF_train.hex_model_python_1517517668925_2_model_15   \n",
      "96    Grid_DRF_train.hex_model_python_1517517668925_2_model_55   \n",
      "97    Grid_DRF_train.hex_model_python_1517517668925_2_model_31   \n",
      "98     Grid_DRF_train.hex_model_python_1517517668925_2_model_5   \n",
      "99    Grid_DRF_train.hex_model_python_1517517668925_2_model_13   \n",
      "100   Grid_DRF_train.hex_model_python_1517517668925_2_model_33   \n",
      "101   Grid_DRF_train.hex_model_python_1517517668925_2_model_26   \n",
      "102   Grid_DRF_train.hex_model_python_1517517668925_2_model_39   \n",
      "103   Grid_DRF_train.hex_model_python_1517517668925_2_model_43   \n",
      "104   Grid_DRF_train.hex_model_python_1517517668925_2_model_49   \n",
      "105   Grid_DRF_train.hex_model_python_1517517668925_2_model_17   \n",
      "106   Grid_DRF_train.hex_model_python_1517517668925_2_model_27   \n",
      "107   Grid_DRF_train.hex_model_python_1517517668925_2_model_14   \n",
      "108   Grid_DRF_train.hex_model_python_1517517668925_2_model_22   \n",
      "109    Grid_DRF_train.hex_model_python_1517517668925_2_model_3   \n",
      "110   Grid_DRF_train.hex_model_python_1517517668925_2_model_19   \n",
      "111   Grid_DRF_train.hex_model_python_1517517668925_2_model_23   \n",
      "\n",
      "                logloss  \n",
      "0    1.8317618800343043  \n",
      "1     1.880816086215176  \n",
      "2     2.028257787661266  \n",
      "3     2.421798001485474  \n",
      "4    2.8411834135031033  \n",
      "5     2.918130876121385  \n",
      "6    3.0298050250230752  \n",
      "7     3.087634079653774  \n",
      "8     3.197354761338334  \n",
      "9     3.215460925926752  \n",
      "10   3.2329720191996474  \n",
      "11    3.266565731170603  \n",
      "12    3.268516220000566  \n",
      "13    3.281419116824055  \n",
      "14    3.801434375744445  \n",
      "15   3.8146734785386767  \n",
      "16    4.025538933662237  \n",
      "17    4.204644791230949  \n",
      "18     4.34763698600612  \n",
      "19    4.472339827190434  \n",
      "20    4.653454920063691  \n",
      "21    4.680101524944171  \n",
      "22    4.752470789393369  \n",
      "23    4.765080364545351  \n",
      "24    4.782243174736266  \n",
      "25    5.077641398503914  \n",
      "26    5.177418808297016  \n",
      "27    5.188171418943983  \n",
      "28    5.288347434602704  \n",
      "29   5.6677159424886385  \n",
      "..                  ...  \n",
      "82   13.479728495051509  \n",
      "83    13.50374055990178  \n",
      "84   13.678363647912061  \n",
      "85   13.932315360896862  \n",
      "86   14.206258245819127  \n",
      "87   14.503828943120482  \n",
      "88    14.65337664427148  \n",
      "89   14.825661148444432  \n",
      "90   14.945616092283075  \n",
      "91   14.986493083676816  \n",
      "92    15.03938468280578  \n",
      "93   15.096805691278238  \n",
      "94   15.210102681793623  \n",
      "95   15.418750260857976  \n",
      "96   15.535476141731229  \n",
      "97    15.69691364276774  \n",
      "98   15.739536520610072  \n",
      "99   15.838330121118858  \n",
      "100  15.860585584968847  \n",
      "101   16.08699405101982  \n",
      "102   16.40957989618501  \n",
      "103  16.505093809094966  \n",
      "104  17.672626065438564  \n",
      "105  17.683056501888878  \n",
      "106  18.386652017772278  \n",
      "107  18.961108810204077  \n",
      "108   19.00745479121014  \n",
      "109  19.148020918289216  \n",
      "110  19.921867615560004  \n",
      "111   20.95973162354516  \n",
      "\n"
     ]
    },
    {
     "name": "stdout",
     "output_type": "stream",
     "text": [
      "[112 rows x 8 columns]\n"
     ]
    }
   ],
   "source": [
    "# Lets see if we can do better on one tree\n",
    "hyper_parameters = {'ntrees':[1], \n",
    "                    'max_depth':[20, 5], \n",
    "                    'balance_classes':[True, False], \n",
    "                    'distribution':['bernoulli', 'multinominal', 'gaussian', 'poisson', 'gamma', 'tweedie', 'laplace', 'huber'],\n",
    "                    'histogram_type':['uniform_adaptive', 'random', 'quantiles_global', 'round_robin']}\n",
    "grid_search = H2OGridSearch(H2ORandomForestEstimator, hyper_params=hyper_parameters)\n",
    "grid_search.train(x=X.columns, y=y.columns[0], training_frame=train)\n",
    "grid_search.show()"
   ]
  },
  {
   "cell_type": "code",
   "execution_count": 11,
   "metadata": {
    "collapsed": true
   },
   "outputs": [],
   "source": [
    "# Now select the configuration with the lowest logloss\n",
    "opt_tree = grid_search.get_grid(sort_by='rmse', decreasing=True)[-1]"
   ]
  },
  {
   "cell_type": "code",
   "execution_count": 12,
   "metadata": {},
   "outputs": [
    {
     "name": "stdout",
     "output_type": "stream",
     "text": [
      "\n",
      "ModelMetricsMultinomial: drf\n",
      "** Reported on test data. **\n",
      "\n",
      "MSE: 0.287004834223\n",
      "RMSE: 0.535728321282\n",
      "LogLoss: 5.18644634466\n",
      "Mean Per-Class Error: 0.401713825627\n",
      "Confusion Matrix: vertical: actual; across: predicted\n",
      "\n"
     ]
    },
    {
     "data": {
      "text/html": [
       "<div style=\"overflow:auto\"><table style=\"width:50%\"><tr><td><b>H</b></td>\n",
       "<td><b>L</b></td>\n",
       "<td><b>M</b></td>\n",
       "<td><b>Error</b></td>\n",
       "<td><b>Rate</b></td></tr>\n",
       "<tr><td>9.0</td>\n",
       "<td>0.0</td>\n",
       "<td>19.0</td>\n",
       "<td>0.6785714</td>\n",
       "<td>19 / 28</td></tr>\n",
       "<tr><td>3.0</td>\n",
       "<td>16.0</td>\n",
       "<td>4.0</td>\n",
       "<td>0.3043478</td>\n",
       "<td>7 / 23</td></tr>\n",
       "<tr><td>3.0</td>\n",
       "<td>5.0</td>\n",
       "<td>28.0</td>\n",
       "<td>0.2222222</td>\n",
       "<td>8 / 36</td></tr>\n",
       "<tr><td>15.0</td>\n",
       "<td>21.0</td>\n",
       "<td>51.0</td>\n",
       "<td>0.3908046</td>\n",
       "<td>34 / 87</td></tr></table></div>"
      ],
      "text/plain": [
       "H    L    M    Error     Rate\n",
       "---  ---  ---  --------  -------\n",
       "9    0    19   0.678571  19 / 28\n",
       "3    16   4    0.304348  7 / 23\n",
       "3    5    28   0.222222  8 / 36\n",
       "15   21   51   0.390805  34 / 87"
      ]
     },
     "metadata": {},
     "output_type": "display_data"
    },
    {
     "name": "stdout",
     "output_type": "stream",
     "text": [
      "Top-3 Hit Ratios: \n"
     ]
    },
    {
     "data": {
      "text/html": [
       "<div style=\"overflow:auto\"><table style=\"width:50%\"><tr><td><b>k</b></td>\n",
       "<td><b>hit_ratio</b></td></tr>\n",
       "<tr><td>1</td>\n",
       "<td>0.6091954</td></tr>\n",
       "<tr><td>2</td>\n",
       "<td>0.8965517</td></tr>\n",
       "<tr><td>3</td>\n",
       "<td>1.0</td></tr></table></div>"
      ],
      "text/plain": [
       "k    hit_ratio\n",
       "---  -----------\n",
       "1    0.609195\n",
       "2    0.896552\n",
       "3    1"
      ]
     },
     "metadata": {},
     "output_type": "display_data"
    },
    {
     "data": {
      "text/plain": []
     },
     "execution_count": 12,
     "metadata": {},
     "output_type": "execute_result"
    }
   ],
   "source": [
    "opt_tree.model_performance(valid)"
   ]
  },
  {
   "cell_type": "code",
   "execution_count": 11,
   "metadata": {},
   "outputs": [
    {
     "ename": "AttributeError",
     "evalue": "type object 'H2ORandomForestEstimator' has no attribute 'hit_ratio_table'",
     "output_type": "error",
     "traceback": [
      "\u001b[0;31m---------------------------------------------------------------------------\u001b[0m",
      "\u001b[0;31mAttributeError\u001b[0m                            Traceback (most recent call last)",
      "\u001b[0;32m<ipython-input-11-817ad226ac9b>\u001b[0m in \u001b[0;36m<module>\u001b[0;34m()\u001b[0m\n\u001b[0;32m----> 1\u001b[0;31m \u001b[0mopt_tree\u001b[0m\u001b[0;34m.\u001b[0m\u001b[0mhit_ratio_table\u001b[0m\u001b[0;34m(\u001b[0m\u001b[0;34m)\u001b[0m\u001b[0;34m\u001b[0m\u001b[0m\n\u001b[0m",
      "\u001b[0;32m/home/rocket/anaconda2/lib/python2.7/site-packages/h2o/utils/backward_compatibility.pyc\u001b[0m in \u001b[0;36m__getattr__\u001b[0;34m(self, item)\u001b[0m\n\u001b[1;32m     72\u001b[0m             \u001b[0;32mreturn\u001b[0m \u001b[0mself\u001b[0m\u001b[0;34m.\u001b[0m\u001b[0m_bcin\u001b[0m\u001b[0;34m[\u001b[0m\u001b[0mitem\u001b[0m\u001b[0;34m]\u001b[0m\u001b[0;34m\u001b[0m\u001b[0m\n\u001b[1;32m     73\u001b[0m         \u001b[0;31m# Make sure that we look up any names not found on the instance also in the class\u001b[0m\u001b[0;34m\u001b[0m\u001b[0;34m\u001b[0m\u001b[0m\n\u001b[0;32m---> 74\u001b[0;31m         \u001b[0;32mreturn\u001b[0m \u001b[0mgetattr\u001b[0m\u001b[0;34m(\u001b[0m\u001b[0mself\u001b[0m\u001b[0;34m.\u001b[0m\u001b[0m__class__\u001b[0m\u001b[0;34m,\u001b[0m \u001b[0mitem\u001b[0m\u001b[0;34m)\u001b[0m\u001b[0;34m\u001b[0m\u001b[0m\n\u001b[0m\u001b[1;32m     75\u001b[0m \u001b[0;34m\u001b[0m\u001b[0m\n\u001b[1;32m     76\u001b[0m \u001b[0;34m\u001b[0m\u001b[0m\n",
      "\u001b[0;32m/home/rocket/anaconda2/lib/python2.7/site-packages/h2o/utils/backward_compatibility.pyc\u001b[0m in \u001b[0;36m__getattribute__\u001b[0;34m(cls, name)\u001b[0m\n\u001b[1;32m     47\u001b[0m                 \u001b[0;31m# print(\"Warning: Method %s in class %s is deprecated.\" % (name, cls.__name__))\u001b[0m\u001b[0;34m\u001b[0m\u001b[0;34m\u001b[0m\u001b[0m\n\u001b[1;32m     48\u001b[0m                 \u001b[0;32mreturn\u001b[0m \u001b[0mbc\u001b[0m\u001b[0;34m[\u001b[0m\u001b[0;34m\"sm\"\u001b[0m\u001b[0;34m]\u001b[0m\u001b[0;34m[\u001b[0m\u001b[0mname\u001b[0m\u001b[0;34m]\u001b[0m\u001b[0;34m\u001b[0m\u001b[0m\n\u001b[0;32m---> 49\u001b[0;31m         \u001b[0;32mreturn\u001b[0m \u001b[0mtype\u001b[0m\u001b[0;34m.\u001b[0m\u001b[0m__getattribute__\u001b[0m\u001b[0;34m(\u001b[0m\u001b[0mcls\u001b[0m\u001b[0;34m,\u001b[0m \u001b[0mname\u001b[0m\u001b[0;34m)\u001b[0m\u001b[0;34m\u001b[0m\u001b[0m\n\u001b[0m\u001b[1;32m     50\u001b[0m \u001b[0;34m\u001b[0m\u001b[0m\n\u001b[1;32m     51\u001b[0m     \u001b[0;32mdef\u001b[0m \u001b[0m__setattr__\u001b[0m\u001b[0;34m(\u001b[0m\u001b[0mcls\u001b[0m\u001b[0;34m,\u001b[0m \u001b[0mname\u001b[0m\u001b[0;34m,\u001b[0m \u001b[0mvalue\u001b[0m\u001b[0;34m)\u001b[0m\u001b[0;34m:\u001b[0m\u001b[0;34m\u001b[0m\u001b[0m\n",
      "\u001b[0;31mAttributeError\u001b[0m: type object 'H2ORandomForestEstimator' has no attribute 'hit_ratio_table'"
     ]
    }
   ],
   "source": [
    "opt_tree.hit_ratio_table()"
   ]
  },
  {
   "cell_type": "code",
   "execution_count": 10,
   "metadata": {},
   "outputs": [
    {
     "name": "stdout",
     "output_type": "stream",
     "text": [
      "H2O session _sid_bc7d closed.\n"
     ]
    }
   ],
   "source": [
    "h2o.shutdown()"
   ]
  },
  {
   "cell_type": "code",
   "execution_count": null,
   "metadata": {
    "collapsed": true
   },
   "outputs": [],
   "source": []
  }
 ],
 "metadata": {
  "kernelspec": {
   "display_name": "Python 2",
   "language": "python",
   "name": "python2"
  },
  "language_info": {
   "codemirror_mode": {
    "name": "ipython",
    "version": 2
   },
   "file_extension": ".py",
   "mimetype": "text/x-python",
   "name": "python",
   "nbconvert_exporter": "python",
   "pygments_lexer": "ipython2",
   "version": "2.7.14"
  }
 },
 "nbformat": 4,
 "nbformat_minor": 2
}
