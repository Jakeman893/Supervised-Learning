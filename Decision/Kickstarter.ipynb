{
 "cells": [
  {
   "cell_type": "code",
   "execution_count": 1,
   "metadata": {},
   "outputs": [
    {
     "name": "stdout",
     "output_type": "stream",
     "text": [
      "Checking whether there is an H2O instance running at http://localhost:54321..... not found.\n",
      "Attempting to start a local H2O server...\n",
      "  Java Version: openjdk version \"1.8.0_121\"; OpenJDK Runtime Environment (Zulu 8.20.0.5-linux64) (build 1.8.0_121-b15); OpenJDK 64-Bit Server VM (Zulu 8.20.0.5-linux64) (build 25.121-b15, mixed mode)\n",
      "  Starting server from /home/rocket/anaconda2/h2o_jar/h2o.jar\n",
      "  Ice root: /tmp/tmpcA_IWq\n",
      "  JVM stdout: /tmp/tmpcA_IWq/h2o_rocket_started_from_python.out\n",
      "  JVM stderr: /tmp/tmpcA_IWq/h2o_rocket_started_from_python.err\n",
      "  Server is running at http://127.0.0.1:54321\n",
      "Connecting to H2O server at http://127.0.0.1:54321... successful.\n",
      "Warning: Your H2O cluster version is too old (1 year, 2 months and 24 days)! Please download and install the latest version from http://h2o.ai/download/\n"
     ]
    },
    {
     "data": {
      "text/html": [
       "<div style=\"overflow:auto\"><table style=\"width:50%\"><tr><td>H2O cluster uptime:</td>\n",
       "<td>01 secs</td></tr>\n",
       "<tr><td>H2O cluster version:</td>\n",
       "<td>3.10.0.9</td></tr>\n",
       "<tr><td>H2O cluster version age:</td>\n",
       "<td>1 year, 2 months and 24 days !!!</td></tr>\n",
       "<tr><td>H2O cluster name:</td>\n",
       "<td>H2O_from_python_rocket_5u3500</td></tr>\n",
       "<tr><td>H2O cluster total nodes:</td>\n",
       "<td>1</td></tr>\n",
       "<tr><td>H2O cluster free memory:</td>\n",
       "<td>3.464 Gb</td></tr>\n",
       "<tr><td>H2O cluster total cores:</td>\n",
       "<td>4</td></tr>\n",
       "<tr><td>H2O cluster allowed cores:</td>\n",
       "<td>4</td></tr>\n",
       "<tr><td>H2O cluster status:</td>\n",
       "<td>accepting new members, healthy</td></tr>\n",
       "<tr><td>H2O connection url:</td>\n",
       "<td>http://127.0.0.1:54321</td></tr>\n",
       "<tr><td>H2O connection proxy:</td>\n",
       "<td>None</td></tr>\n",
       "<tr><td>Python version:</td>\n",
       "<td>2.7.14 final</td></tr></table></div>"
      ],
      "text/plain": [
       "--------------------------  --------------------------------\n",
       "H2O cluster uptime:         01 secs\n",
       "H2O cluster version:        3.10.0.9\n",
       "H2O cluster version age:    1 year, 2 months and 24 days !!!\n",
       "H2O cluster name:           H2O_from_python_rocket_5u3500\n",
       "H2O cluster total nodes:    1\n",
       "H2O cluster free memory:    3.464 Gb\n",
       "H2O cluster total cores:    4\n",
       "H2O cluster allowed cores:  4\n",
       "H2O cluster status:         accepting new members, healthy\n",
       "H2O connection url:         http://127.0.0.1:54321\n",
       "H2O connection proxy:\n",
       "Python version:             2.7.14 final\n",
       "--------------------------  --------------------------------"
      ]
     },
     "metadata": {},
     "output_type": "display_data"
    }
   ],
   "source": [
    "import h2o\n",
    "import numpy as np\n",
    "import math\n",
    "from h2o.estimators.gbm import H2OGradientBoostingEstimator\n",
    "from h2o.estimators import H2ORandomForestEstimator\n",
    "from h2o.grid.grid_search import H2OGridSearch\n",
    "h2o.init()"
   ]
  },
  {
   "cell_type": "code",
   "execution_count": 2,
   "metadata": {},
   "outputs": [
    {
     "name": "stdout",
     "output_type": "stream",
     "text": [
      "Parse progress: |█████████████████████████████████████████████████████████| 100%\n",
      "Rows:29999\n",
      "Cols:10\n",
      "\n",
      "\n"
     ]
    },
    {
     "data": {
      "text/html": [
       "<table>\n",
       "<tr><th>       </th><th>category      </th><th>main_category  </th><th>currency  </th><th>goal         </th><th>launched_utc  </th><th>state     </th><th>backers      </th><th>country  </th><th>usd pledged  </th><th>time_open    </th></tr>\n",
       "<tr><td>type   </td><td>enum          </td><td>enum           </td><td>enum      </td><td>real         </td><td>int           </td><td>enum      </td><td>int          </td><td>enum     </td><td>real         </td><td>int          </td></tr>\n",
       "<tr><td>mins   </td><td>0.0           </td><td>0.0            </td><td>0.0       </td><td>1.0          </td><td>3600.0        </td><td>0.0       </td><td>0.0          </td><td>0.0      </td><td>0.0          </td><td>24.0         </td></tr>\n",
       "<tr><td>mean   </td><td>NaN           </td><td>NaN            </td><td>NaN       </td><td>39679.8923187</td><td>1411614526.6  </td><td>NaN       </td><td>104.256908564</td><td>NaN      </td><td>6904.48511524</td><td>831.233841128</td></tr>\n",
       "<tr><td>maxs   </td><td>158.0         </td><td>14.0           </td><td>13.0      </td><td>100000000.0  </td><td>1514880718.0  </td><td>5.0       </td><td>85581.0      </td><td>22.0     </td><td>8596474.58   </td><td>356809.0     </td></tr>\n",
       "<tr><td>sigma  </td><td>NaN           </td><td>NaN            </td><td>NaN       </td><td>743464.274157</td><td>61066107.2589 </td><td>NaN       </td><td>899.326567671</td><td>NaN      </td><td>75466.6634392</td><td>2078.18963537</td></tr>\n",
       "<tr><td>zeros  </td><td>58            </td><td>2266           </td><td>622       </td><td>0            </td><td>0             </td><td>3032      </td><td>4275         </td><td>51       </td><td>5216         </td><td>0            </td></tr>\n",
       "<tr><td>missing</td><td>0             </td><td>0              </td><td>0         </td><td>0            </td><td>0             </td><td>0         </td><td>0            </td><td>0        </td><td>304          </td><td>0            </td></tr>\n",
       "<tr><td>0      </td><td>Poetry        </td><td>Publishing     </td><td>GBP       </td><td>1000.0       </td><td>1439295148.0  </td><td>failed    </td><td>0.0          </td><td>GB       </td><td>0.0          </td><td>1415.0       </td></tr>\n",
       "<tr><td>1      </td><td>Narrative Film</td><td>Film & Video   </td><td>USD       </td><td>30000.0      </td><td>1504327437.0  </td><td>failed    </td><td>15.0         </td><td>US       </td><td>100.0        </td><td>1438.0       </td></tr>\n",
       "<tr><td>2      </td><td>Narrative Film</td><td>Film & Video   </td><td>USD       </td><td>45000.0      </td><td>1357950050.0  </td><td>failed    </td><td>3.0          </td><td>US       </td><td>220.0        </td><td>1080.0       </td></tr>\n",
       "<tr><td>3      </td><td>Music         </td><td>Music          </td><td>USD       </td><td>5000.0       </td><td>1331954651.0  </td><td>failed    </td><td>1.0          </td><td>US       </td><td>1.0          </td><td>721.0        </td></tr>\n",
       "<tr><td>4      </td><td>Film & Video  </td><td>Film & Video   </td><td>USD       </td><td>19500.0      </td><td>1435998903.0  </td><td>canceled  </td><td>14.0         </td><td>US       </td><td>1283.0       </td><td>1336.0       </td></tr>\n",
       "<tr><td>5      </td><td>Restaurants   </td><td>Food           </td><td>USD       </td><td>50000.0      </td><td>1456493907.0  </td><td>successful</td><td>224.0        </td><td>US       </td><td>52375.0      </td><td>840.0        </td></tr>\n",
       "<tr><td>6      </td><td>Food          </td><td>Food           </td><td>USD       </td><td>1000.0       </td><td>1417458644.0  </td><td>successful</td><td>16.0         </td><td>US       </td><td>1205.0       </td><td>480.0        </td></tr>\n",
       "<tr><td>7      </td><td>Drinks        </td><td>Food           </td><td>USD       </td><td>25000.0      </td><td>1454357112.0  </td><td>failed    </td><td>40.0         </td><td>US       </td><td>453.0        </td><td>1078.0       </td></tr>\n",
       "<tr><td>8      </td><td>Product Design</td><td>Design         </td><td>USD       </td><td>125000.0     </td><td>1398363283.0  </td><td>canceled  </td><td>58.0         </td><td>US       </td><td>8233.0       </td><td>840.0        </td></tr>\n",
       "<tr><td>9      </td><td>Documentary   </td><td>Film & Video   </td><td>USD       </td><td>65000.0      </td><td>1405115748.0  </td><td>canceled  </td><td>43.0         </td><td>US       </td><td>6240.57      </td><td>720.0        </td></tr>\n",
       "</table>"
      ]
     },
     "metadata": {},
     "output_type": "display_data"
    }
   ],
   "source": [
    "df = h2o.import_file(path=\"../datasets/kickstarter-2018-reduced.csv\")\n",
    "df.describe()"
   ]
  },
  {
   "cell_type": "code",
   "execution_count": 3,
   "metadata": {},
   "outputs": [
    {
     "name": "stdout",
     "output_type": "stream",
     "text": [
      "Rows:29999\n",
      "Cols:6\n",
      "\n",
      "\n"
     ]
    },
    {
     "data": {
      "text/html": [
       "<table>\n",
       "<tr><th>       </th><th>category      </th><th>main_category  </th><th>currency  </th><th>goal         </th><th>launched_utc  </th><th>time_open    </th></tr>\n",
       "<tr><td>type   </td><td>enum          </td><td>enum           </td><td>enum      </td><td>real         </td><td>int           </td><td>int          </td></tr>\n",
       "<tr><td>mins   </td><td>0.0           </td><td>0.0            </td><td>0.0       </td><td>1.0          </td><td>3600.0        </td><td>24.0         </td></tr>\n",
       "<tr><td>mean   </td><td>NaN           </td><td>NaN            </td><td>NaN       </td><td>39679.8923187</td><td>1411614526.6  </td><td>831.233841128</td></tr>\n",
       "<tr><td>maxs   </td><td>158.0         </td><td>14.0           </td><td>13.0      </td><td>100000000.0  </td><td>1514880718.0  </td><td>356809.0     </td></tr>\n",
       "<tr><td>sigma  </td><td>NaN           </td><td>NaN            </td><td>NaN       </td><td>743464.274157</td><td>61066107.2589 </td><td>2078.18963537</td></tr>\n",
       "<tr><td>zeros  </td><td>58            </td><td>2266           </td><td>622       </td><td>0            </td><td>0             </td><td>0            </td></tr>\n",
       "<tr><td>missing</td><td>0             </td><td>0              </td><td>0         </td><td>0            </td><td>0             </td><td>0            </td></tr>\n",
       "<tr><td>0      </td><td>Poetry        </td><td>Publishing     </td><td>GBP       </td><td>1000.0       </td><td>1439295148.0  </td><td>1415.0       </td></tr>\n",
       "<tr><td>1      </td><td>Narrative Film</td><td>Film & Video   </td><td>USD       </td><td>30000.0      </td><td>1504327437.0  </td><td>1438.0       </td></tr>\n",
       "<tr><td>2      </td><td>Narrative Film</td><td>Film & Video   </td><td>USD       </td><td>45000.0      </td><td>1357950050.0  </td><td>1080.0       </td></tr>\n",
       "<tr><td>3      </td><td>Music         </td><td>Music          </td><td>USD       </td><td>5000.0       </td><td>1331954651.0  </td><td>721.0        </td></tr>\n",
       "<tr><td>4      </td><td>Film & Video  </td><td>Film & Video   </td><td>USD       </td><td>19500.0      </td><td>1435998903.0  </td><td>1336.0       </td></tr>\n",
       "<tr><td>5      </td><td>Restaurants   </td><td>Food           </td><td>USD       </td><td>50000.0      </td><td>1456493907.0  </td><td>840.0        </td></tr>\n",
       "<tr><td>6      </td><td>Food          </td><td>Food           </td><td>USD       </td><td>1000.0       </td><td>1417458644.0  </td><td>480.0        </td></tr>\n",
       "<tr><td>7      </td><td>Drinks        </td><td>Food           </td><td>USD       </td><td>25000.0      </td><td>1454357112.0  </td><td>1078.0       </td></tr>\n",
       "<tr><td>8      </td><td>Product Design</td><td>Design         </td><td>USD       </td><td>125000.0     </td><td>1398363283.0  </td><td>840.0        </td></tr>\n",
       "<tr><td>9      </td><td>Documentary   </td><td>Film & Video   </td><td>USD       </td><td>65000.0      </td><td>1405115748.0  </td><td>720.0        </td></tr>\n",
       "</table>"
      ]
     },
     "metadata": {},
     "output_type": "display_data"
    },
    {
     "name": "stdout",
     "output_type": "stream",
     "text": [
      "Rows:29999\n",
      "Cols:1\n",
      "\n",
      "\n"
     ]
    },
    {
     "data": {
      "text/html": [
       "<table>\n",
       "<tr><th>       </th><th>state     </th></tr>\n",
       "<tr><td>type   </td><td>enum      </td></tr>\n",
       "<tr><td>mins   </td><td>0.0       </td></tr>\n",
       "<tr><td>mean   </td><td>NaN       </td></tr>\n",
       "<tr><td>maxs   </td><td>5.0       </td></tr>\n",
       "<tr><td>sigma  </td><td>NaN       </td></tr>\n",
       "<tr><td>zeros  </td><td>3032      </td></tr>\n",
       "<tr><td>missing</td><td>0         </td></tr>\n",
       "<tr><td>0      </td><td>failed    </td></tr>\n",
       "<tr><td>1      </td><td>failed    </td></tr>\n",
       "<tr><td>2      </td><td>failed    </td></tr>\n",
       "<tr><td>3      </td><td>failed    </td></tr>\n",
       "<tr><td>4      </td><td>canceled  </td></tr>\n",
       "<tr><td>5      </td><td>successful</td></tr>\n",
       "<tr><td>6      </td><td>successful</td></tr>\n",
       "<tr><td>7      </td><td>failed    </td></tr>\n",
       "<tr><td>8      </td><td>canceled  </td></tr>\n",
       "<tr><td>9      </td><td>canceled  </td></tr>\n",
       "</table>"
      ]
     },
     "metadata": {},
     "output_type": "display_data"
    }
   ],
   "source": [
    "# Define predictors\n",
    "y = df['state']\n",
    "X = df\n",
    "X = X.drop(['state', 'backers', 'country', 'usd pledged'])\n",
    "X.describe()\n",
    "y.describe()"
   ]
  },
  {
   "cell_type": "code",
   "execution_count": 4,
   "metadata": {
    "collapsed": true
   },
   "outputs": [],
   "source": [
    "# Split for training\n",
    "train, valid, test = df.split_frame(\n",
    "    ratios = [0.6, 0.2],\n",
    "    seed=4567,\n",
    "    destination_frames=['train.hex','valid.hex','test.hex']\n",
    ")"
   ]
  },
  {
   "cell_type": "code",
   "execution_count": 5,
   "metadata": {},
   "outputs": [
    {
     "name": "stdout",
     "output_type": "stream",
     "text": [
      "drf Model Build progress: |███████████████████████████████████████████████| 100%\n",
      "Model Details\n",
      "=============\n",
      "H2ORandomForestEstimator :  Distributed Random Forest\n",
      "Model Key:  DRF_model_python_1517160836387_1\n",
      "Model Summary: \n"
     ]
    },
    {
     "data": {
      "text/html": [
       "<div style=\"overflow:auto\"><table style=\"width:50%\"><tr><td><b></b></td>\n",
       "<td><b>number_of_trees</b></td>\n",
       "<td><b>number_of_internal_trees</b></td>\n",
       "<td><b>model_size_in_bytes</b></td>\n",
       "<td><b>min_depth</b></td>\n",
       "<td><b>max_depth</b></td>\n",
       "<td><b>mean_depth</b></td>\n",
       "<td><b>min_leaves</b></td>\n",
       "<td><b>max_leaves</b></td>\n",
       "<td><b>mean_leaves</b></td></tr>\n",
       "<tr><td></td>\n",
       "<td>1.0</td>\n",
       "<td>6.0</td>\n",
       "<td>68107.0</td>\n",
       "<td>11.0</td>\n",
       "<td>20.0</td>\n",
       "<td>17.666666</td>\n",
       "<td>47.0</td>\n",
       "<td>1936.0</td>\n",
       "<td>774.5</td></tr></table></div>"
      ],
      "text/plain": [
       "    number_of_trees    number_of_internal_trees    model_size_in_bytes    min_depth    max_depth    mean_depth    min_leaves    max_leaves    mean_leaves\n",
       "--  -----------------  --------------------------  ---------------------  -----------  -----------  ------------  ------------  ------------  -------------\n",
       "    1                  6                           68107                  11           20           17.6667       47            1936          774.5"
      ]
     },
     "metadata": {},
     "output_type": "display_data"
    },
    {
     "name": "stdout",
     "output_type": "stream",
     "text": [
      "\n",
      "\n",
      "ModelMetricsMultinomial: drf\n",
      "** Reported on train data. **\n",
      "\n",
      "MSE: 0.531895812537\n",
      "RMSE: 0.729311876043\n",
      "LogLoss: 15.7755368063\n",
      "Mean Per-Class Error: 0.589138242633\n",
      "Confusion Matrix: vertical: actual; across: predicted\n",
      "\n"
     ]
    },
    {
     "data": {
      "text/html": [
       "<div style=\"overflow:auto\"><table style=\"width:50%\"><tr><td><b>canceled</b></td>\n",
       "<td><b>failed</b></td>\n",
       "<td><b>live</b></td>\n",
       "<td><b>successful</b></td>\n",
       "<td><b>suspended</b></td>\n",
       "<td><b>undefined</b></td>\n",
       "<td><b>Error</b></td>\n",
       "<td><b>Rate</b></td></tr>\n",
       "<tr><td>72.0</td>\n",
       "<td>331.0</td>\n",
       "<td>0.0</td>\n",
       "<td>265.0</td>\n",
       "<td>0.0</td>\n",
       "<td>0.0</td>\n",
       "<td>0.8922156</td>\n",
       "<td>596 / 668</td></tr>\n",
       "<tr><td>286.0</td>\n",
       "<td>1817.0</td>\n",
       "<td>5.0</td>\n",
       "<td>1334.0</td>\n",
       "<td>11.0</td>\n",
       "<td>3.0</td>\n",
       "<td>0.4742477</td>\n",
       "<td>1,639 / 3,456</td></tr>\n",
       "<tr><td>6.0</td>\n",
       "<td>4.0</td>\n",
       "<td>27.0</td>\n",
       "<td>10.0</td>\n",
       "<td>0.0</td>\n",
       "<td>0.0</td>\n",
       "<td>0.4255319</td>\n",
       "<td>20 / 47</td></tr>\n",
       "<tr><td>167.0</td>\n",
       "<td>900.0</td>\n",
       "<td>0.0</td>\n",
       "<td>1294.0</td>\n",
       "<td>4.0</td>\n",
       "<td>8.0</td>\n",
       "<td>0.4546987</td>\n",
       "<td>1,079 / 2,373</td></tr>\n",
       "<tr><td>4.0</td>\n",
       "<td>10.0</td>\n",
       "<td>0.0</td>\n",
       "<td>10.0</td>\n",
       "<td>0.0</td>\n",
       "<td>0.0</td>\n",
       "<td>1.0</td>\n",
       "<td>24 / 24</td></tr>\n",
       "<tr><td>4.0</td>\n",
       "<td>8.0</td>\n",
       "<td>0.0</td>\n",
       "<td>4.0</td>\n",
       "<td>1.0</td>\n",
       "<td>42.0</td>\n",
       "<td>0.2881356</td>\n",
       "<td>17 / 59</td></tr>\n",
       "<tr><td>539.0</td>\n",
       "<td>3070.0</td>\n",
       "<td>32.0</td>\n",
       "<td>2917.0</td>\n",
       "<td>16.0</td>\n",
       "<td>53.0</td>\n",
       "<td>0.5092802</td>\n",
       "<td>3,375 / 6,627</td></tr></table></div>"
      ],
      "text/plain": [
       "canceled    failed    live    successful    suspended    undefined    Error     Rate\n",
       "----------  --------  ------  ------------  -----------  -----------  --------  -------------\n",
       "72          331       0       265           0            0            0.892216  596 / 668\n",
       "286         1817      5       1334          11           3            0.474248  1,639 / 3,456\n",
       "6           4         27      10            0            0            0.425532  20 / 47\n",
       "167         900       0       1294          4            8            0.454699  1,079 / 2,373\n",
       "4           10        0       10            0            0            1         24 / 24\n",
       "4           8         0       4             1            42           0.288136  17 / 59\n",
       "539         3070      32      2917          16           53           0.50928   3,375 / 6,627"
      ]
     },
     "metadata": {},
     "output_type": "display_data"
    },
    {
     "name": "stdout",
     "output_type": "stream",
     "text": [
      "Top-6 Hit Ratios: \n"
     ]
    },
    {
     "data": {
      "text/html": [
       "<div style=\"overflow:auto\"><table style=\"width:50%\"><tr><td><b>k</b></td>\n",
       "<td><b>hit_ratio</b></td></tr>\n",
       "<tr><td>1</td>\n",
       "<td>0.4907198</td></tr>\n",
       "<tr><td>2</td>\n",
       "<td>0.833107</td></tr>\n",
       "<tr><td>3</td>\n",
       "<td>0.8681153</td></tr>\n",
       "<tr><td>4</td>\n",
       "<td>0.8687189</td></tr>\n",
       "<tr><td>5</td>\n",
       "<td>0.8687189</td></tr>\n",
       "<tr><td>6</td>\n",
       "<td>1.0</td></tr></table></div>"
      ],
      "text/plain": [
       "k    hit_ratio\n",
       "---  -----------\n",
       "1    0.49072\n",
       "2    0.833107\n",
       "3    0.868115\n",
       "4    0.868719\n",
       "5    0.868719\n",
       "6    1"
      ]
     },
     "metadata": {},
     "output_type": "display_data"
    },
    {
     "name": "stdout",
     "output_type": "stream",
     "text": [
      "Scoring History: \n"
     ]
    },
    {
     "data": {
      "text/html": [
       "<div style=\"overflow:auto\"><table style=\"width:50%\"><tr><td><b></b></td>\n",
       "<td><b>timestamp</b></td>\n",
       "<td><b>duration</b></td>\n",
       "<td><b>number_of_trees</b></td>\n",
       "<td><b>training_rmse</b></td>\n",
       "<td><b>training_logloss</b></td>\n",
       "<td><b>training_classification_error</b></td></tr>\n",
       "<tr><td></td>\n",
       "<td>2018-01-28 12:33:59</td>\n",
       "<td> 0.016 sec</td>\n",
       "<td>0.0</td>\n",
       "<td>nan</td>\n",
       "<td>nan</td>\n",
       "<td>nan</td></tr>\n",
       "<tr><td></td>\n",
       "<td>2018-01-28 12:34:00</td>\n",
       "<td> 0.835 sec</td>\n",
       "<td>1.0</td>\n",
       "<td>0.7293119</td>\n",
       "<td>15.7755368</td>\n",
       "<td>0.5092802</td></tr></table></div>"
      ],
      "text/plain": [
       "    timestamp            duration    number_of_trees    training_rmse    training_logloss    training_classification_error\n",
       "--  -------------------  ----------  -----------------  ---------------  ------------------  -------------------------------\n",
       "    2018-01-28 12:33:59  0.016 sec   0                  nan              nan                 nan\n",
       "    2018-01-28 12:34:00  0.835 sec   1                  0.729312         15.7755             0.50928"
      ]
     },
     "metadata": {},
     "output_type": "display_data"
    },
    {
     "name": "stdout",
     "output_type": "stream",
     "text": [
      "Variable Importances: \n"
     ]
    },
    {
     "data": {
      "text/html": [
       "<div style=\"overflow:auto\"><table style=\"width:50%\"><tr><td><b>variable</b></td>\n",
       "<td><b>relative_importance</b></td>\n",
       "<td><b>scaled_importance</b></td>\n",
       "<td><b>percentage</b></td></tr>\n",
       "<tr><td>category</td>\n",
       "<td>1603.7889404</td>\n",
       "<td>1.0</td>\n",
       "<td>0.4090965</td></tr>\n",
       "<tr><td>launched_utc</td>\n",
       "<td>746.4356689</td>\n",
       "<td>0.4654201</td>\n",
       "<td>0.1904017</td></tr>\n",
       "<tr><td>goal</td>\n",
       "<td>572.1552124</td>\n",
       "<td>0.3567522</td>\n",
       "<td>0.1459461</td></tr>\n",
       "<tr><td>time_open</td>\n",
       "<td>470.0491638</td>\n",
       "<td>0.2930867</td>\n",
       "<td>0.1199007</td></tr>\n",
       "<tr><td>main_category</td>\n",
       "<td>300.5323486</td>\n",
       "<td>0.1873890</td>\n",
       "<td>0.0766602</td></tr>\n",
       "<tr><td>currency</td>\n",
       "<td>227.3581543</td>\n",
       "<td>0.1417631</td>\n",
       "<td>0.0579948</td></tr></table></div>"
      ],
      "text/plain": [
       "variable       relative_importance    scaled_importance    percentage\n",
       "-------------  ---------------------  -------------------  ------------\n",
       "category       1603.79                1                    0.409096\n",
       "launched_utc   746.436                0.46542              0.190402\n",
       "goal           572.155                0.356752             0.145946\n",
       "time_open      470.049                0.293087             0.119901\n",
       "main_category  300.532                0.187389             0.0766602\n",
       "currency       227.358                0.141763             0.0579948"
      ]
     },
     "metadata": {},
     "output_type": "display_data"
    },
    {
     "name": "stdout",
     "output_type": "stream",
     "text": [
      "\n"
     ]
    }
   ],
   "source": [
    "# Single decision tree, no boosting single tree\n",
    "rfe = H2ORandomForestEstimator(ntrees=1)\n",
    "rfe.train(x=X.columns, y=y.columns[0], training_frame=train)\n",
    "\n",
    "# Show model summary\n",
    "print rfe"
   ]
  },
  {
   "cell_type": "code",
   "execution_count": 6,
   "metadata": {
    "scrolled": true
   },
   "outputs": [
    {
     "name": "stdout",
     "output_type": "stream",
     "text": [
      "\n",
      "ModelMetricsMultinomial: drf\n",
      "** Reported on test data. **\n",
      "\n",
      "MSE: 0.532875994861\n",
      "RMSE: 0.729983557939\n",
      "LogLoss: 15.6708229318\n",
      "Mean Per-Class Error: 0.597857725129\n",
      "Confusion Matrix: vertical: actual; across: predicted\n",
      "\n"
     ]
    },
    {
     "data": {
      "text/html": [
       "<div style=\"overflow:auto\"><table style=\"width:50%\"><tr><td><b>canceled</b></td>\n",
       "<td><b>failed</b></td>\n",
       "<td><b>live</b></td>\n",
       "<td><b>successful</b></td>\n",
       "<td><b>suspended</b></td>\n",
       "<td><b>undefined</b></td>\n",
       "<td><b>Error</b></td>\n",
       "<td><b>Rate</b></td></tr>\n",
       "<tr><td>78.0</td>\n",
       "<td>399.0</td>\n",
       "<td>6.0</td>\n",
       "<td>164.0</td>\n",
       "<td>4.0</td>\n",
       "<td>1.0</td>\n",
       "<td>0.8803681</td>\n",
       "<td>574 / 652</td></tr>\n",
       "<tr><td>315.0</td>\n",
       "<td>1883.0</td>\n",
       "<td>12.0</td>\n",
       "<td>885.0</td>\n",
       "<td>12.0</td>\n",
       "<td>13.0</td>\n",
       "<td>0.3964744</td>\n",
       "<td>1,237 / 3,120</td></tr>\n",
       "<tr><td>9.0</td>\n",
       "<td>10.0</td>\n",
       "<td>31.0</td>\n",
       "<td>1.0</td>\n",
       "<td>1.0</td>\n",
       "<td>0.0</td>\n",
       "<td>0.4038462</td>\n",
       "<td>21 / 52</td></tr>\n",
       "<tr><td>188.0</td>\n",
       "<td>998.0</td>\n",
       "<td>3.0</td>\n",
       "<td>899.0</td>\n",
       "<td>8.0</td>\n",
       "<td>10.0</td>\n",
       "<td>0.5731244</td>\n",
       "<td>1,207 / 2,106</td></tr>\n",
       "<tr><td>2.0</td>\n",
       "<td>19.0</td>\n",
       "<td>1.0</td>\n",
       "<td>8.0</td>\n",
       "<td>0.0</td>\n",
       "<td>0.0</td>\n",
       "<td>1.0</td>\n",
       "<td>30 / 30</td></tr>\n",
       "<tr><td>0.0</td>\n",
       "<td>7.0</td>\n",
       "<td>0.0</td>\n",
       "<td>10.0</td>\n",
       "<td>0.0</td>\n",
       "<td>34.0</td>\n",
       "<td>0.3333333</td>\n",
       "<td>17 / 51</td></tr>\n",
       "<tr><td>592.0</td>\n",
       "<td>3316.0</td>\n",
       "<td>53.0</td>\n",
       "<td>1967.0</td>\n",
       "<td>25.0</td>\n",
       "<td>58.0</td>\n",
       "<td>0.5133921</td>\n",
       "<td>3,086 / 6,011</td></tr></table></div>"
      ],
      "text/plain": [
       "canceled    failed    live    successful    suspended    undefined    Error     Rate\n",
       "----------  --------  ------  ------------  -----------  -----------  --------  -------------\n",
       "78          399       6       164           4            1            0.880368  574 / 652\n",
       "315         1883      12      885           12           13           0.396474  1,237 / 3,120\n",
       "9           10        31      1             1            0            0.403846  21 / 52\n",
       "188         998       3       899           8            10           0.573124  1,207 / 2,106\n",
       "2           19        1       8             0            0            1         30 / 30\n",
       "0           7         0       10            0            34           0.333333  17 / 51\n",
       "592         3316      53      1967          25           58           0.513392  3,086 / 6,011"
      ]
     },
     "metadata": {},
     "output_type": "display_data"
    },
    {
     "name": "stdout",
     "output_type": "stream",
     "text": [
      "Top-6 Hit Ratios: \n"
     ]
    },
    {
     "data": {
      "text/html": [
       "<div style=\"overflow:auto\"><table style=\"width:50%\"><tr><td><b>k</b></td>\n",
       "<td><b>hit_ratio</b></td></tr>\n",
       "<tr><td>1</td>\n",
       "<td>0.4866079</td></tr>\n",
       "<tr><td>2</td>\n",
       "<td>0.7927133</td></tr>\n",
       "<tr><td>3</td>\n",
       "<td>0.8303111</td></tr>\n",
       "<tr><td>4</td>\n",
       "<td>0.8306438</td></tr>\n",
       "<tr><td>5</td>\n",
       "<td>0.8306438</td></tr>\n",
       "<tr><td>6</td>\n",
       "<td>0.9999999</td></tr></table></div>"
      ],
      "text/plain": [
       "k    hit_ratio\n",
       "---  -----------\n",
       "1    0.486608\n",
       "2    0.792713\n",
       "3    0.830311\n",
       "4    0.830644\n",
       "5    0.830644\n",
       "6    1"
      ]
     },
     "metadata": {},
     "output_type": "display_data"
    },
    {
     "data": {
      "text/plain": []
     },
     "execution_count": 6,
     "metadata": {},
     "output_type": "execute_result"
    }
   ],
   "source": [
    "perf = rfe.model_performance(valid)\n",
    "perf"
   ]
  },
  {
   "cell_type": "code",
   "execution_count": 7,
   "metadata": {},
   "outputs": [
    {
     "name": "stdout",
     "output_type": "stream",
     "text": [
      "drf Grid Build progress: |████████████████████████████████████████████████| 100%\n",
      "       balance_classes distribution   histogram_type max_depth ntrees  \\\n",
      "0                false      laplace  QuantilesGlobal         5      1   \n",
      "1                false        huber       RoundRobin         5      1   \n",
      "2                false        gamma           Random         5      1   \n",
      "3                false        gamma  QuantilesGlobal         5      1   \n",
      "4                false    bernoulli  QuantilesGlobal         5      1   \n",
      "5                false        gamma       RoundRobin         5      1   \n",
      "6                false    bernoulli  UniformAdaptive         5      1   \n",
      "7                false      tweedie  QuantilesGlobal         5      1   \n",
      "8                false      poisson  UniformAdaptive         5      1   \n",
      "9                false      poisson       RoundRobin         5      1   \n",
      "10               false        gamma  UniformAdaptive         5      1   \n",
      "11               false     gaussian       RoundRobin         5      1   \n",
      "12               false      laplace       RoundRobin         5      1   \n",
      "13               false     gaussian  UniformAdaptive         5      1   \n",
      "14               false      laplace  UniformAdaptive         5      1   \n",
      "15               false      poisson           Random         5      1   \n",
      "16               false     gaussian  QuantilesGlobal         5      1   \n",
      "17               false      poisson  QuantilesGlobal         5      1   \n",
      "18               false      tweedie       RoundRobin         5      1   \n",
      "19               false      tweedie           Random         5      1   \n",
      "20               false        huber  UniformAdaptive         5      1   \n",
      "21               false      tweedie  UniformAdaptive         5      1   \n",
      "22               false        huber  QuantilesGlobal         5      1   \n",
      "23               false     gaussian           Random         5      1   \n",
      "24               false        huber           Random         5      1   \n",
      "25               false    bernoulli           Random         5      1   \n",
      "26               false    bernoulli       RoundRobin         5      1   \n",
      "27                true        gamma  UniformAdaptive         5      1   \n",
      "28                true        gamma  QuantilesGlobal         5      1   \n",
      "29               false      laplace           Random         5      1   \n",
      "..  ..             ...          ...              ...       ...    ...   \n",
      "82               false        huber  UniformAdaptive        20      1   \n",
      "83               false      laplace  QuantilesGlobal        20      1   \n",
      "84                true    bernoulli  UniformAdaptive        20      1   \n",
      "85               false     gaussian       RoundRobin        20      1   \n",
      "86               false      tweedie  QuantilesGlobal        20      1   \n",
      "87               false    bernoulli  QuantilesGlobal        20      1   \n",
      "88               false      tweedie       RoundRobin        20      1   \n",
      "89               false        huber       RoundRobin        20      1   \n",
      "90               false     gaussian           Random        20      1   \n",
      "91               false      poisson           Random        20      1   \n",
      "92               false        huber  QuantilesGlobal        20      1   \n",
      "93               false    bernoulli  UniformAdaptive        20      1   \n",
      "94               false      tweedie           Random        20      1   \n",
      "95               false        huber           Random        20      1   \n",
      "96               false        gamma  UniformAdaptive        20      1   \n",
      "97               false    bernoulli       RoundRobin        20      1   \n",
      "98               false     gaussian  QuantilesGlobal        20      1   \n",
      "99               false        gamma       RoundRobin        20      1   \n",
      "100              false      laplace           Random        20      1   \n",
      "101              false        gamma  QuantilesGlobal        20      1   \n",
      "102              false      tweedie  UniformAdaptive        20      1   \n",
      "103              false     gaussian  UniformAdaptive        20      1   \n",
      "104              false      poisson  QuantilesGlobal        20      1   \n",
      "105               true      tweedie           Random        20      1   \n",
      "106               true      poisson           Random        20      1   \n",
      "107               true        huber           Random        20      1   \n",
      "108               true        gamma           Random        20      1   \n",
      "109               true      laplace           Random        20      1   \n",
      "110               true     gaussian           Random        20      1   \n",
      "111               true    bernoulli           Random        20      1   \n",
      "\n",
      "                                                     model_ids  \\\n",
      "0     Grid_DRF_train.hex_model_python_1517160836387_2_model_95   \n",
      "1    Grid_DRF_train.hex_model_python_1517160836387_2_model_111   \n",
      "2     Grid_DRF_train.hex_model_python_1517160836387_2_model_77   \n",
      "3     Grid_DRF_train.hex_model_python_1517160836387_2_model_91   \n",
      "4     Grid_DRF_train.hex_model_python_1517160836387_2_model_85   \n",
      "5    Grid_DRF_train.hex_model_python_1517160836387_2_model_105   \n",
      "6     Grid_DRF_train.hex_model_python_1517160836387_2_model_57   \n",
      "7     Grid_DRF_train.hex_model_python_1517160836387_2_model_93   \n",
      "8     Grid_DRF_train.hex_model_python_1517160836387_2_model_61   \n",
      "9    Grid_DRF_train.hex_model_python_1517160836387_2_model_103   \n",
      "10    Grid_DRF_train.hex_model_python_1517160836387_2_model_63   \n",
      "11   Grid_DRF_train.hex_model_python_1517160836387_2_model_101   \n",
      "12   Grid_DRF_train.hex_model_python_1517160836387_2_model_109   \n",
      "13    Grid_DRF_train.hex_model_python_1517160836387_2_model_59   \n",
      "14    Grid_DRF_train.hex_model_python_1517160836387_2_model_67   \n",
      "15    Grid_DRF_train.hex_model_python_1517160836387_2_model_75   \n",
      "16    Grid_DRF_train.hex_model_python_1517160836387_2_model_87   \n",
      "17    Grid_DRF_train.hex_model_python_1517160836387_2_model_89   \n",
      "18   Grid_DRF_train.hex_model_python_1517160836387_2_model_107   \n",
      "19    Grid_DRF_train.hex_model_python_1517160836387_2_model_79   \n",
      "20    Grid_DRF_train.hex_model_python_1517160836387_2_model_69   \n",
      "21    Grid_DRF_train.hex_model_python_1517160836387_2_model_65   \n",
      "22    Grid_DRF_train.hex_model_python_1517160836387_2_model_97   \n",
      "23    Grid_DRF_train.hex_model_python_1517160836387_2_model_73   \n",
      "24    Grid_DRF_train.hex_model_python_1517160836387_2_model_83   \n",
      "25    Grid_DRF_train.hex_model_python_1517160836387_2_model_71   \n",
      "26    Grid_DRF_train.hex_model_python_1517160836387_2_model_99   \n",
      "27    Grid_DRF_train.hex_model_python_1517160836387_2_model_62   \n",
      "28    Grid_DRF_train.hex_model_python_1517160836387_2_model_90   \n",
      "29    Grid_DRF_train.hex_model_python_1517160836387_2_model_81   \n",
      "..                                                         ...   \n",
      "82    Grid_DRF_train.hex_model_python_1517160836387_2_model_13   \n",
      "83    Grid_DRF_train.hex_model_python_1517160836387_2_model_39   \n",
      "84     Grid_DRF_train.hex_model_python_1517160836387_2_model_0   \n",
      "85    Grid_DRF_train.hex_model_python_1517160836387_2_model_45   \n",
      "86    Grid_DRF_train.hex_model_python_1517160836387_2_model_37   \n",
      "87    Grid_DRF_train.hex_model_python_1517160836387_2_model_29   \n",
      "88    Grid_DRF_train.hex_model_python_1517160836387_2_model_51   \n",
      "89    Grid_DRF_train.hex_model_python_1517160836387_2_model_55   \n",
      "90    Grid_DRF_train.hex_model_python_1517160836387_2_model_17   \n",
      "91    Grid_DRF_train.hex_model_python_1517160836387_2_model_19   \n",
      "92    Grid_DRF_train.hex_model_python_1517160836387_2_model_41   \n",
      "93     Grid_DRF_train.hex_model_python_1517160836387_2_model_1   \n",
      "94    Grid_DRF_train.hex_model_python_1517160836387_2_model_23   \n",
      "95    Grid_DRF_train.hex_model_python_1517160836387_2_model_27   \n",
      "96     Grid_DRF_train.hex_model_python_1517160836387_2_model_7   \n",
      "97    Grid_DRF_train.hex_model_python_1517160836387_2_model_43   \n",
      "98    Grid_DRF_train.hex_model_python_1517160836387_2_model_31   \n",
      "99    Grid_DRF_train.hex_model_python_1517160836387_2_model_49   \n",
      "100   Grid_DRF_train.hex_model_python_1517160836387_2_model_25   \n",
      "101   Grid_DRF_train.hex_model_python_1517160836387_2_model_35   \n",
      "102    Grid_DRF_train.hex_model_python_1517160836387_2_model_9   \n",
      "103    Grid_DRF_train.hex_model_python_1517160836387_2_model_3   \n",
      "104   Grid_DRF_train.hex_model_python_1517160836387_2_model_33   \n",
      "105   Grid_DRF_train.hex_model_python_1517160836387_2_model_22   \n",
      "106   Grid_DRF_train.hex_model_python_1517160836387_2_model_18   \n",
      "107   Grid_DRF_train.hex_model_python_1517160836387_2_model_26   \n",
      "108   Grid_DRF_train.hex_model_python_1517160836387_2_model_20   \n",
      "109   Grid_DRF_train.hex_model_python_1517160836387_2_model_24   \n",
      "110   Grid_DRF_train.hex_model_python_1517160836387_2_model_16   \n",
      "111   Grid_DRF_train.hex_model_python_1517160836387_2_model_14   \n",
      "\n",
      "                logloss  \n",
      "0       1.0330760791013  \n",
      "1    1.0688646896460987  \n",
      "2    1.0743416372739867  \n",
      "3    1.0748411618211398  \n",
      "4    1.0787968243869597  \n",
      "5     1.083043685102165  \n",
      "6    1.0842300276869785  \n",
      "7    1.0879443411451453  \n",
      "8    1.0914364642587084  \n",
      "9    1.1022668479658428  \n",
      "10    1.110197909815575  \n",
      "11    1.113724047891071  \n",
      "12   1.1230083872723824  \n",
      "13    1.161279582308184  \n",
      "14   1.1695760013511236  \n",
      "15    1.177123710080888  \n",
      "16   1.1790325805609103  \n",
      "17   1.1876980343864392  \n",
      "18   1.1929216635767161  \n",
      "19   1.1962940382650595  \n",
      "20   1.2135460336459567  \n",
      "21   1.2658684282711543  \n",
      "22   1.2894554034006325  \n",
      "23   1.3013325424875122  \n",
      "24   1.4101986271177196  \n",
      "25    1.430255374483643  \n",
      "26   1.5250144811641353  \n",
      "27   1.7494525297346164  \n",
      "28   1.8240985084946444  \n",
      "29   1.8406421324592805  \n",
      "..                  ...  \n",
      "82    13.70845032013172  \n",
      "83   13.794580925486853  \n",
      "84   14.029430031416522  \n",
      "85   14.627458276207637  \n",
      "86   14.627855685237307  \n",
      "87   14.701947033347873  \n",
      "88   14.737002772645178  \n",
      "89   14.781821517897274  \n",
      "90   14.819128231393238  \n",
      "91   14.913010019283034  \n",
      "92   14.954172583770891  \n",
      "93    15.10992034851223  \n",
      "94   15.300704938840122  \n",
      "95   15.457806248945074  \n",
      "96   15.574808421318872  \n",
      "97   15.651930499181661  \n",
      "98   15.660866971477759  \n",
      "99   15.717370665244639  \n",
      "100  15.834095974897334  \n",
      "101  15.916495230027818  \n",
      "102  16.334864292451567  \n",
      "103   16.52639146407409  \n",
      "104  17.199140303311147  \n",
      "105  19.541768674933824  \n",
      "106  19.824020927285193  \n",
      "107  20.130299549203702  \n",
      "108   20.16324855571813  \n",
      "109  20.174753121060203  \n",
      "110   20.45227359009354  \n",
      "111  21.112555668340477  \n",
      "\n"
     ]
    },
    {
     "name": "stdout",
     "output_type": "stream",
     "text": [
      "[112 rows x 8 columns]\n"
     ]
    }
   ],
   "source": [
    "# Lets see if we can do better on one tree\n",
    "hyper_parameters = {'ntrees':[1], \n",
    "                    'max_depth':[20, 5], \n",
    "                    'balance_classes':[True, False], \n",
    "                    'distribution':['bernoulli', 'multinominal', 'gaussian', 'poisson', 'gamma', 'tweedie', 'laplace', 'huber'],\n",
    "                    'histogram_type':['uniform_adaptive', 'random', 'quantiles_global', 'round_robin']}\n",
    "grid_search = H2OGridSearch(H2ORandomForestEstimator, hyper_params=hyper_parameters)\n",
    "grid_search.train(x=X.columns, y=y.columns[0], training_frame=train)\n",
    "grid_search.show()"
   ]
  },
  {
   "cell_type": "code",
   "execution_count": 8,
   "metadata": {},
   "outputs": [],
   "source": [
    "# Now select the configuration with the lowest logloss\n",
    "opt_tree = grid_search.get_grid(sort_by='logloss', decreasing=True)[-1]"
   ]
  },
  {
   "cell_type": "code",
   "execution_count": 9,
   "metadata": {},
   "outputs": [
    {
     "name": "stdout",
     "output_type": "stream",
     "text": [
      "\n",
      "ModelMetricsMultinomial: drf\n",
      "** Reported on test data. **\n",
      "\n",
      "MSE: 0.33251391491\n",
      "RMSE: 0.576640195365\n",
      "LogLoss: 1.14402647794\n",
      "Mean Per-Class Error: 0.760539927537\n",
      "Confusion Matrix: vertical: actual; across: predicted\n",
      "\n"
     ]
    },
    {
     "data": {
      "text/html": [
       "<div style=\"overflow:auto\"><table style=\"width:50%\"><tr><td><b>canceled</b></td>\n",
       "<td><b>failed</b></td>\n",
       "<td><b>live</b></td>\n",
       "<td><b>successful</b></td>\n",
       "<td><b>suspended</b></td>\n",
       "<td><b>undefined</b></td>\n",
       "<td><b>Error</b></td>\n",
       "<td><b>Rate</b></td></tr>\n",
       "<tr><td>2.0</td>\n",
       "<td>517.0</td>\n",
       "<td>2.0</td>\n",
       "<td>130.0</td>\n",
       "<td>1.0</td>\n",
       "<td>0.0</td>\n",
       "<td>0.9969325</td>\n",
       "<td>650 / 652</td></tr>\n",
       "<tr><td>6.0</td>\n",
       "<td>2497.0</td>\n",
       "<td>4.0</td>\n",
       "<td>612.0</td>\n",
       "<td>1.0</td>\n",
       "<td>0.0</td>\n",
       "<td>0.1996795</td>\n",
       "<td>623 / 3,120</td></tr>\n",
       "<tr><td>1.0</td>\n",
       "<td>36.0</td>\n",
       "<td>6.0</td>\n",
       "<td>9.0</td>\n",
       "<td>0.0</td>\n",
       "<td>0.0</td>\n",
       "<td>0.8846154</td>\n",
       "<td>46 / 52</td></tr>\n",
       "<tr><td>3.0</td>\n",
       "<td>1130.0</td>\n",
       "<td>2.0</td>\n",
       "<td>967.0</td>\n",
       "<td>3.0</td>\n",
       "<td>1.0</td>\n",
       "<td>0.5408357</td>\n",
       "<td>1,139 / 2,106</td></tr>\n",
       "<tr><td>0.0</td>\n",
       "<td>28.0</td>\n",
       "<td>0.0</td>\n",
       "<td>2.0</td>\n",
       "<td>0.0</td>\n",
       "<td>0.0</td>\n",
       "<td>1.0</td>\n",
       "<td>30 / 30</td></tr>\n",
       "<tr><td>1.0</td>\n",
       "<td>26.0</td>\n",
       "<td>0.0</td>\n",
       "<td>21.0</td>\n",
       "<td>0.0</td>\n",
       "<td>3.0</td>\n",
       "<td>0.9411765</td>\n",
       "<td>48 / 51</td></tr>\n",
       "<tr><td>13.0</td>\n",
       "<td>4234.0</td>\n",
       "<td>14.0</td>\n",
       "<td>1741.0</td>\n",
       "<td>5.0</td>\n",
       "<td>4.0</td>\n",
       "<td>0.4218932</td>\n",
       "<td>2,536 / 6,011</td></tr></table></div>"
      ],
      "text/plain": [
       "canceled    failed    live    successful    suspended    undefined    Error     Rate\n",
       "----------  --------  ------  ------------  -----------  -----------  --------  -------------\n",
       "2           517       2       130           1            0            0.996933  650 / 652\n",
       "6           2497      4       612           1            0            0.199679  623 / 3,120\n",
       "1           36        6       9             0            0            0.884615  46 / 52\n",
       "3           1130      2       967           3            1            0.540836  1,139 / 2,106\n",
       "0           28        0       2             0            0            1         30 / 30\n",
       "1           26        0       21            0            3            0.941176  48 / 51\n",
       "13          4234      14      1741          5            4            0.421893  2,536 / 6,011"
      ]
     },
     "metadata": {},
     "output_type": "display_data"
    },
    {
     "name": "stdout",
     "output_type": "stream",
     "text": [
      "Top-6 Hit Ratios: \n"
     ]
    },
    {
     "data": {
      "text/html": [
       "<div style=\"overflow:auto\"><table style=\"width:50%\"><tr><td><b>k</b></td>\n",
       "<td><b>hit_ratio</b></td></tr>\n",
       "<tr><td>1</td>\n",
       "<td>0.5781068</td></tr>\n",
       "<tr><td>2</td>\n",
       "<td>0.8704042</td></tr>\n",
       "<tr><td>3</td>\n",
       "<td>0.9820329</td></tr>\n",
       "<tr><td>4</td>\n",
       "<td>0.9933455</td></tr>\n",
       "<tr><td>5</td>\n",
       "<td>0.9945101</td></tr>\n",
       "<tr><td>6</td>\n",
       "<td>1.0</td></tr></table></div>"
      ],
      "text/plain": [
       "k    hit_ratio\n",
       "---  -----------\n",
       "1    0.578107\n",
       "2    0.870404\n",
       "3    0.982033\n",
       "4    0.993345\n",
       "5    0.99451\n",
       "6    1"
      ]
     },
     "metadata": {},
     "output_type": "display_data"
    },
    {
     "data": {
      "text/plain": []
     },
     "execution_count": 9,
     "metadata": {},
     "output_type": "execute_result"
    }
   ],
   "source": [
    "opt_tree.model_performance(valid)"
   ]
  },
  {
   "cell_type": "code",
   "execution_count": 10,
   "metadata": {},
   "outputs": [
    {
     "name": "stdout",
     "output_type": "stream",
     "text": [
      "H2O session _sid_ade8 closed.\n"
     ]
    }
   ],
   "source": [
    "h2o.shutdown()"
   ]
  }
 ],
 "metadata": {
  "kernelspec": {
   "display_name": "Python 2",
   "language": "python",
   "name": "python2"
  },
  "language_info": {
   "codemirror_mode": {
    "name": "ipython",
    "version": 2
   },
   "file_extension": ".py",
   "mimetype": "text/x-python",
   "name": "python",
   "nbconvert_exporter": "python",
   "pygments_lexer": "ipython2",
   "version": "2.7.14"
  }
 },
 "nbformat": 4,
 "nbformat_minor": 2
}
