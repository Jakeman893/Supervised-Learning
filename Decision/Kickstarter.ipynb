{
 "cells": [
  {
   "cell_type": "code",
   "execution_count": 1,
   "metadata": {
    "collapsed": true
   },
   "outputs": [],
   "source": [
    "# Pick response for supervised prob\n",
    "response = \"state\"\n",
    "\n",
    "# df[response] = df[response].asfactor()"
   ]
  },
  {
   "cell_type": "code",
   "execution_count": 2,
   "metadata": {},
   "outputs": [
    {
     "name": "stdout",
     "output_type": "stream",
     "text": [
      "Checking whether there is an H2O instance running at http://localhost:54321..... not found.\n",
      "Attempting to start a local H2O server...\n",
      "  Java Version: openjdk version \"1.8.0_121\"; OpenJDK Runtime Environment (Zulu 8.20.0.5-linux64) (build 1.8.0_121-b15); OpenJDK 64-Bit Server VM (Zulu 8.20.0.5-linux64) (build 25.121-b15, mixed mode)\n",
      "  Starting server from /home/rocket/anaconda2/h2o_jar/h2o.jar\n",
      "  Ice root: /tmp/tmp2vNBIn\n",
      "  JVM stdout: /tmp/tmp2vNBIn/h2o_rocket_started_from_python.out\n",
      "  JVM stderr: /tmp/tmp2vNBIn/h2o_rocket_started_from_python.err\n",
      "  Server is running at http://127.0.0.1:54321\n",
      "Connecting to H2O server at http://127.0.0.1:54321... successful.\n",
      "Warning: Your H2O cluster version is too old (1 year, 2 months and 23 days)! Please download and install the latest version from http://h2o.ai/download/\n"
     ]
    },
    {
     "data": {
      "text/html": [
       "<div style=\"overflow:auto\"><table style=\"width:50%\"><tr><td>H2O cluster uptime:</td>\n",
       "<td>01 secs</td></tr>\n",
       "<tr><td>H2O cluster version:</td>\n",
       "<td>3.10.0.9</td></tr>\n",
       "<tr><td>H2O cluster version age:</td>\n",
       "<td>1 year, 2 months and 23 days !!!</td></tr>\n",
       "<tr><td>H2O cluster name:</td>\n",
       "<td>H2O_from_python_rocket_ym7w1q</td></tr>\n",
       "<tr><td>H2O cluster total nodes:</td>\n",
       "<td>1</td></tr>\n",
       "<tr><td>H2O cluster free memory:</td>\n",
       "<td>3.464 Gb</td></tr>\n",
       "<tr><td>H2O cluster total cores:</td>\n",
       "<td>4</td></tr>\n",
       "<tr><td>H2O cluster allowed cores:</td>\n",
       "<td>4</td></tr>\n",
       "<tr><td>H2O cluster status:</td>\n",
       "<td>accepting new members, healthy</td></tr>\n",
       "<tr><td>H2O connection url:</td>\n",
       "<td>http://127.0.0.1:54321</td></tr>\n",
       "<tr><td>H2O connection proxy:</td>\n",
       "<td>None</td></tr>\n",
       "<tr><td>Python version:</td>\n",
       "<td>2.7.14 final</td></tr></table></div>"
      ],
      "text/plain": [
       "--------------------------  --------------------------------\n",
       "H2O cluster uptime:         01 secs\n",
       "H2O cluster version:        3.10.0.9\n",
       "H2O cluster version age:    1 year, 2 months and 23 days !!!\n",
       "H2O cluster name:           H2O_from_python_rocket_ym7w1q\n",
       "H2O cluster total nodes:    1\n",
       "H2O cluster free memory:    3.464 Gb\n",
       "H2O cluster total cores:    4\n",
       "H2O cluster allowed cores:  4\n",
       "H2O cluster status:         accepting new members, healthy\n",
       "H2O connection url:         http://127.0.0.1:54321\n",
       "H2O connection proxy:\n",
       "Python version:             2.7.14 final\n",
       "--------------------------  --------------------------------"
      ]
     },
     "metadata": {},
     "output_type": "display_data"
    }
   ],
   "source": [
    "import h2o\n",
    "import numpy as np\n",
    "import math\n",
    "from h2o.estimators.gbm import H2OGradientBoostingEstimator\n",
    "from h2o.grid.grid_search import H2OGridSearch\n",
    "h2o.init()"
   ]
  },
  {
   "cell_type": "code",
   "execution_count": 3,
   "metadata": {},
   "outputs": [
    {
     "name": "stdout",
     "output_type": "stream",
     "text": [
      "Parse progress: |█████████████████████████████████████████████████████████| 100%\n",
      "[29999, 10]\n"
     ]
    },
    {
     "data": {
      "text/html": [
       "<table>\n",
       "<tr><th>category      </th><th>main_category  </th><th>currency  </th><th style=\"text-align: right;\">  goal</th><th style=\"text-align: right;\">  launched_utc</th><th>state     </th><th style=\"text-align: right;\">  backers</th><th>country  </th><th style=\"text-align: right;\">  usd pledged</th><th style=\"text-align: right;\">  time_open</th></tr>\n",
       "<tr><td>Poetry        </td><td>Publishing     </td><td>GBP       </td><td style=\"text-align: right;\">  1000</td><td style=\"text-align: right;\">   1.4393e+09 </td><td>failed    </td><td style=\"text-align: right;\">        0</td><td>GB       </td><td style=\"text-align: right;\">         0   </td><td style=\"text-align: right;\">       1415</td></tr>\n",
       "<tr><td>Narrative Film</td><td>Film & Video   </td><td>USD       </td><td style=\"text-align: right;\"> 30000</td><td style=\"text-align: right;\">   1.50433e+09</td><td>failed    </td><td style=\"text-align: right;\">       15</td><td>US       </td><td style=\"text-align: right;\">       100   </td><td style=\"text-align: right;\">       1438</td></tr>\n",
       "<tr><td>Narrative Film</td><td>Film & Video   </td><td>USD       </td><td style=\"text-align: right;\"> 45000</td><td style=\"text-align: right;\">   1.35795e+09</td><td>failed    </td><td style=\"text-align: right;\">        3</td><td>US       </td><td style=\"text-align: right;\">       220   </td><td style=\"text-align: right;\">       1080</td></tr>\n",
       "<tr><td>Music         </td><td>Music          </td><td>USD       </td><td style=\"text-align: right;\">  5000</td><td style=\"text-align: right;\">   1.33195e+09</td><td>failed    </td><td style=\"text-align: right;\">        1</td><td>US       </td><td style=\"text-align: right;\">         1   </td><td style=\"text-align: right;\">        721</td></tr>\n",
       "<tr><td>Film & Video  </td><td>Film & Video   </td><td>USD       </td><td style=\"text-align: right;\"> 19500</td><td style=\"text-align: right;\">   1.436e+09  </td><td>canceled  </td><td style=\"text-align: right;\">       14</td><td>US       </td><td style=\"text-align: right;\">      1283   </td><td style=\"text-align: right;\">       1336</td></tr>\n",
       "<tr><td>Restaurants   </td><td>Food           </td><td>USD       </td><td style=\"text-align: right;\"> 50000</td><td style=\"text-align: right;\">   1.45649e+09</td><td>successful</td><td style=\"text-align: right;\">      224</td><td>US       </td><td style=\"text-align: right;\">     52375   </td><td style=\"text-align: right;\">        840</td></tr>\n",
       "<tr><td>Food          </td><td>Food           </td><td>USD       </td><td style=\"text-align: right;\">  1000</td><td style=\"text-align: right;\">   1.41746e+09</td><td>successful</td><td style=\"text-align: right;\">       16</td><td>US       </td><td style=\"text-align: right;\">      1205   </td><td style=\"text-align: right;\">        480</td></tr>\n",
       "<tr><td>Drinks        </td><td>Food           </td><td>USD       </td><td style=\"text-align: right;\"> 25000</td><td style=\"text-align: right;\">   1.45436e+09</td><td>failed    </td><td style=\"text-align: right;\">       40</td><td>US       </td><td style=\"text-align: right;\">       453   </td><td style=\"text-align: right;\">       1078</td></tr>\n",
       "<tr><td>Product Design</td><td>Design         </td><td>USD       </td><td style=\"text-align: right;\">125000</td><td style=\"text-align: right;\">   1.39836e+09</td><td>canceled  </td><td style=\"text-align: right;\">       58</td><td>US       </td><td style=\"text-align: right;\">      8233   </td><td style=\"text-align: right;\">        840</td></tr>\n",
       "<tr><td>Documentary   </td><td>Film & Video   </td><td>USD       </td><td style=\"text-align: right;\"> 65000</td><td style=\"text-align: right;\">   1.40512e+09</td><td>canceled  </td><td style=\"text-align: right;\">       43</td><td>US       </td><td style=\"text-align: right;\">      6240.57</td><td style=\"text-align: right;\">        720</td></tr>\n",
       "</table>"
      ]
     },
     "metadata": {},
     "output_type": "display_data"
    },
    {
     "name": "stdout",
     "output_type": "stream",
     "text": [
      "<bound method H2OFrame.head of >\n"
     ]
    },
    {
     "data": {
      "text/html": [
       "<table>\n",
       "<tr><th>category      </th><th>main_category  </th><th>currency  </th><th style=\"text-align: right;\">  goal</th><th style=\"text-align: right;\">  launched_utc</th><th>state     </th><th style=\"text-align: right;\">  backers</th><th>country  </th><th style=\"text-align: right;\">  usd pledged</th><th style=\"text-align: right;\">  time_open</th></tr>\n",
       "<tr><td>Poetry        </td><td>Publishing     </td><td>GBP       </td><td style=\"text-align: right;\">  1000</td><td style=\"text-align: right;\">   1.4393e+09 </td><td>failed    </td><td style=\"text-align: right;\">        0</td><td>GB       </td><td style=\"text-align: right;\">         0   </td><td style=\"text-align: right;\">       1415</td></tr>\n",
       "<tr><td>Narrative Film</td><td>Film & Video   </td><td>USD       </td><td style=\"text-align: right;\"> 30000</td><td style=\"text-align: right;\">   1.50433e+09</td><td>failed    </td><td style=\"text-align: right;\">       15</td><td>US       </td><td style=\"text-align: right;\">       100   </td><td style=\"text-align: right;\">       1438</td></tr>\n",
       "<tr><td>Narrative Film</td><td>Film & Video   </td><td>USD       </td><td style=\"text-align: right;\"> 45000</td><td style=\"text-align: right;\">   1.35795e+09</td><td>failed    </td><td style=\"text-align: right;\">        3</td><td>US       </td><td style=\"text-align: right;\">       220   </td><td style=\"text-align: right;\">       1080</td></tr>\n",
       "<tr><td>Music         </td><td>Music          </td><td>USD       </td><td style=\"text-align: right;\">  5000</td><td style=\"text-align: right;\">   1.33195e+09</td><td>failed    </td><td style=\"text-align: right;\">        1</td><td>US       </td><td style=\"text-align: right;\">         1   </td><td style=\"text-align: right;\">        721</td></tr>\n",
       "<tr><td>Film & Video  </td><td>Film & Video   </td><td>USD       </td><td style=\"text-align: right;\"> 19500</td><td style=\"text-align: right;\">   1.436e+09  </td><td>canceled  </td><td style=\"text-align: right;\">       14</td><td>US       </td><td style=\"text-align: right;\">      1283   </td><td style=\"text-align: right;\">       1336</td></tr>\n",
       "<tr><td>Restaurants   </td><td>Food           </td><td>USD       </td><td style=\"text-align: right;\"> 50000</td><td style=\"text-align: right;\">   1.45649e+09</td><td>successful</td><td style=\"text-align: right;\">      224</td><td>US       </td><td style=\"text-align: right;\">     52375   </td><td style=\"text-align: right;\">        840</td></tr>\n",
       "<tr><td>Food          </td><td>Food           </td><td>USD       </td><td style=\"text-align: right;\">  1000</td><td style=\"text-align: right;\">   1.41746e+09</td><td>successful</td><td style=\"text-align: right;\">       16</td><td>US       </td><td style=\"text-align: right;\">      1205   </td><td style=\"text-align: right;\">        480</td></tr>\n",
       "<tr><td>Drinks        </td><td>Food           </td><td>USD       </td><td style=\"text-align: right;\"> 25000</td><td style=\"text-align: right;\">   1.45436e+09</td><td>failed    </td><td style=\"text-align: right;\">       40</td><td>US       </td><td style=\"text-align: right;\">       453   </td><td style=\"text-align: right;\">       1078</td></tr>\n",
       "<tr><td>Product Design</td><td>Design         </td><td>USD       </td><td style=\"text-align: right;\">125000</td><td style=\"text-align: right;\">   1.39836e+09</td><td>canceled  </td><td style=\"text-align: right;\">       58</td><td>US       </td><td style=\"text-align: right;\">      8233   </td><td style=\"text-align: right;\">        840</td></tr>\n",
       "<tr><td>Documentary   </td><td>Film & Video   </td><td>USD       </td><td style=\"text-align: right;\"> 65000</td><td style=\"text-align: right;\">   1.40512e+09</td><td>canceled  </td><td style=\"text-align: right;\">       43</td><td>US       </td><td style=\"text-align: right;\">      6240.57</td><td style=\"text-align: right;\">        720</td></tr>\n",
       "</table>"
      ]
     },
     "metadata": {},
     "output_type": "display_data"
    },
    {
     "name": "stdout",
     "output_type": "stream",
     "text": [
      "<bound method H2OFrame.tail of >\n",
      "Rows:29999\n",
      "Cols:10\n",
      "\n",
      "\n"
     ]
    },
    {
     "data": {
      "text/html": [
       "<table>\n",
       "<tr><th>       </th><th>category      </th><th>main_category  </th><th>currency  </th><th>goal         </th><th>launched_utc  </th><th>state     </th><th>backers      </th><th>country  </th><th>usd pledged  </th><th>time_open    </th></tr>\n",
       "<tr><td>type   </td><td>enum          </td><td>enum           </td><td>enum      </td><td>real         </td><td>int           </td><td>enum      </td><td>int          </td><td>enum     </td><td>real         </td><td>int          </td></tr>\n",
       "<tr><td>mins   </td><td>0.0           </td><td>0.0            </td><td>0.0       </td><td>1.0          </td><td>3600.0        </td><td>0.0       </td><td>0.0          </td><td>0.0      </td><td>0.0          </td><td>24.0         </td></tr>\n",
       "<tr><td>mean   </td><td>NaN           </td><td>NaN            </td><td>NaN       </td><td>39679.8923187</td><td>1411614526.6  </td><td>NaN       </td><td>104.256908564</td><td>NaN      </td><td>6904.48511524</td><td>831.233841128</td></tr>\n",
       "<tr><td>maxs   </td><td>158.0         </td><td>14.0           </td><td>13.0      </td><td>100000000.0  </td><td>1514880718.0  </td><td>5.0       </td><td>85581.0      </td><td>22.0     </td><td>8596474.58   </td><td>356809.0     </td></tr>\n",
       "<tr><td>sigma  </td><td>NaN           </td><td>NaN            </td><td>NaN       </td><td>743464.274157</td><td>61066107.2589 </td><td>NaN       </td><td>899.326567671</td><td>NaN      </td><td>75466.6634392</td><td>2078.18963537</td></tr>\n",
       "<tr><td>zeros  </td><td>58            </td><td>2266           </td><td>622       </td><td>0            </td><td>0             </td><td>3032      </td><td>4275         </td><td>51       </td><td>5216         </td><td>0            </td></tr>\n",
       "<tr><td>missing</td><td>0             </td><td>0              </td><td>0         </td><td>0            </td><td>0             </td><td>0         </td><td>0            </td><td>0        </td><td>304          </td><td>0            </td></tr>\n",
       "<tr><td>0      </td><td>Poetry        </td><td>Publishing     </td><td>GBP       </td><td>1000.0       </td><td>1439295148.0  </td><td>failed    </td><td>0.0          </td><td>GB       </td><td>0.0          </td><td>1415.0       </td></tr>\n",
       "<tr><td>1      </td><td>Narrative Film</td><td>Film & Video   </td><td>USD       </td><td>30000.0      </td><td>1504327437.0  </td><td>failed    </td><td>15.0         </td><td>US       </td><td>100.0        </td><td>1438.0       </td></tr>\n",
       "<tr><td>2      </td><td>Narrative Film</td><td>Film & Video   </td><td>USD       </td><td>45000.0      </td><td>1357950050.0  </td><td>failed    </td><td>3.0          </td><td>US       </td><td>220.0        </td><td>1080.0       </td></tr>\n",
       "<tr><td>3      </td><td>Music         </td><td>Music          </td><td>USD       </td><td>5000.0       </td><td>1331954651.0  </td><td>failed    </td><td>1.0          </td><td>US       </td><td>1.0          </td><td>721.0        </td></tr>\n",
       "<tr><td>4      </td><td>Film & Video  </td><td>Film & Video   </td><td>USD       </td><td>19500.0      </td><td>1435998903.0  </td><td>canceled  </td><td>14.0         </td><td>US       </td><td>1283.0       </td><td>1336.0       </td></tr>\n",
       "<tr><td>5      </td><td>Restaurants   </td><td>Food           </td><td>USD       </td><td>50000.0      </td><td>1456493907.0  </td><td>successful</td><td>224.0        </td><td>US       </td><td>52375.0      </td><td>840.0        </td></tr>\n",
       "<tr><td>6      </td><td>Food          </td><td>Food           </td><td>USD       </td><td>1000.0       </td><td>1417458644.0  </td><td>successful</td><td>16.0         </td><td>US       </td><td>1205.0       </td><td>480.0        </td></tr>\n",
       "<tr><td>7      </td><td>Drinks        </td><td>Food           </td><td>USD       </td><td>25000.0      </td><td>1454357112.0  </td><td>failed    </td><td>40.0         </td><td>US       </td><td>453.0        </td><td>1078.0       </td></tr>\n",
       "<tr><td>8      </td><td>Product Design</td><td>Design         </td><td>USD       </td><td>125000.0     </td><td>1398363283.0  </td><td>canceled  </td><td>58.0         </td><td>US       </td><td>8233.0       </td><td>840.0        </td></tr>\n",
       "<tr><td>9      </td><td>Documentary   </td><td>Film & Video   </td><td>USD       </td><td>65000.0      </td><td>1405115748.0  </td><td>canceled  </td><td>43.0         </td><td>US       </td><td>6240.57      </td><td>720.0        </td></tr>\n",
       "</table>"
      ]
     },
     "metadata": {},
     "output_type": "display_data"
    }
   ],
   "source": [
    "df = h2o.import_file(path=\"../datasets/kickstarter-2018-reduced.csv\")\n",
    "print df.dim\n",
    "print df.head\n",
    "print df.tail\n",
    "df.describe()"
   ]
  },
  {
   "cell_type": "code",
   "execution_count": 4,
   "metadata": {},
   "outputs": [
    {
     "name": "stdout",
     "output_type": "stream",
     "text": [
      "[u'category', u'main_category', u'goal', u'launched_utc', u'country', u'time_open']\n"
     ]
    }
   ],
   "source": [
    "# Define predictors\n",
    "predictors = df.columns\n",
    "del predictors[5]\n",
    "del predictors[5]\n",
    "del predictors[6]\n",
    "del predictors[2]\n",
    "print predictors"
   ]
  },
  {
   "cell_type": "code",
   "execution_count": 5,
   "metadata": {
    "collapsed": true
   },
   "outputs": [],
   "source": [
    "# Split for training\n",
    "train, valid, test = df.split_frame(\n",
    "    ratios = [0.6, 0.2],\n",
    "    seed=4567,\n",
    "    destination_frames=['train.hex','valid.hex','test.hex']\n",
    ")"
   ]
  },
  {
   "cell_type": "code",
   "execution_count": 6,
   "metadata": {},
   "outputs": [
    {
     "name": "stdout",
     "output_type": "stream",
     "text": [
      "gbm Model Build progress: |███████████████████████████████████████████████| 100%\n",
      "Model Details\n",
      "=============\n",
      "H2OGradientBoostingEstimator :  Gradient Boosting Machine\n",
      "Model Key:  GBM_model_python_1517078704861_1\n",
      "Model Summary: \n"
     ]
    },
    {
     "data": {
      "text/html": [
       "<div style=\"overflow:auto\"><table style=\"width:50%\"><tr><td><b></b></td>\n",
       "<td><b>number_of_trees</b></td>\n",
       "<td><b>number_of_internal_trees</b></td>\n",
       "<td><b>model_size_in_bytes</b></td>\n",
       "<td><b>min_depth</b></td>\n",
       "<td><b>max_depth</b></td>\n",
       "<td><b>mean_depth</b></td>\n",
       "<td><b>min_leaves</b></td>\n",
       "<td><b>max_leaves</b></td>\n",
       "<td><b>mean_leaves</b></td></tr>\n",
       "<tr><td></td>\n",
       "<td>50.0</td>\n",
       "<td>300.0</td>\n",
       "<td>175886.0</td>\n",
       "<td>3.0</td>\n",
       "<td>5.0</td>\n",
       "<td>4.9933333</td>\n",
       "<td>4.0</td>\n",
       "<td>32.0</td>\n",
       "<td>24.483334</td></tr></table></div>"
      ],
      "text/plain": [
       "    number_of_trees    number_of_internal_trees    model_size_in_bytes    min_depth    max_depth    mean_depth    min_leaves    max_leaves    mean_leaves\n",
       "--  -----------------  --------------------------  ---------------------  -----------  -----------  ------------  ------------  ------------  -------------\n",
       "    50                 300                         175886                 3            5            4.99333       4             32            24.4833"
      ]
     },
     "metadata": {},
     "output_type": "display_data"
    },
    {
     "name": "stdout",
     "output_type": "stream",
     "text": [
      "\n",
      "\n",
      "ModelMetricsMultinomial: gbm\n",
      "** Reported on train data. **\n",
      "\n",
      "MSE: 0.257845270127\n",
      "RMSE: 0.507784669054\n",
      "LogLoss: 0.73875060768\n",
      "Mean Per-Class Error: 0.393843262451\n",
      "Confusion Matrix: vertical: actual; across: predicted\n",
      "\n"
     ]
    },
    {
     "data": {
      "text/html": [
       "<div style=\"overflow:auto\"><table style=\"width:50%\"><tr><td><b>canceled</b></td>\n",
       "<td><b>failed</b></td>\n",
       "<td><b>live</b></td>\n",
       "<td><b>successful</b></td>\n",
       "<td><b>suspended</b></td>\n",
       "<td><b>undefined</b></td>\n",
       "<td><b>Error</b></td>\n",
       "<td><b>Rate</b></td></tr>\n",
       "<tr><td>129.0</td>\n",
       "<td>1289.0</td>\n",
       "<td>2.0</td>\n",
       "<td>381.0</td>\n",
       "<td>0.0</td>\n",
       "<td>0.0</td>\n",
       "<td>0.9283731</td>\n",
       "<td>1,672 / 1,801</td></tr>\n",
       "<tr><td>6.0</td>\n",
       "<td>7717.0</td>\n",
       "<td>0.0</td>\n",
       "<td>1626.0</td>\n",
       "<td>0.0</td>\n",
       "<td>0.0</td>\n",
       "<td>0.1745641</td>\n",
       "<td>1,632 / 9,349</td></tr>\n",
       "<tr><td>0.0</td>\n",
       "<td>0.0</td>\n",
       "<td>137.0</td>\n",
       "<td>0.0</td>\n",
       "<td>0.0</td>\n",
       "<td>0.0</td>\n",
       "<td>0.0</td>\n",
       "<td>0 / 137</td></tr>\n",
       "<tr><td>3.0</td>\n",
       "<td>2482.0</td>\n",
       "<td>1.0</td>\n",
       "<td>4054.0</td>\n",
       "<td>0.0</td>\n",
       "<td>0.0</td>\n",
       "<td>0.3801223</td>\n",
       "<td>2,486 / 6,540</td></tr>\n",
       "<tr><td>0.0</td>\n",
       "<td>52.0</td>\n",
       "<td>0.0</td>\n",
       "<td>14.0</td>\n",
       "<td>9.0</td>\n",
       "<td>0.0</td>\n",
       "<td>0.88</td>\n",
       "<td>66 / 75</td></tr>\n",
       "<tr><td>0.0</td>\n",
       "<td>0.0</td>\n",
       "<td>0.0</td>\n",
       "<td>0.0</td>\n",
       "<td>0.0</td>\n",
       "<td>173.0</td>\n",
       "<td>0.0</td>\n",
       "<td>0 / 173</td></tr>\n",
       "<tr><td>138.0</td>\n",
       "<td>11540.0</td>\n",
       "<td>140.0</td>\n",
       "<td>6075.0</td>\n",
       "<td>9.0</td>\n",
       "<td>173.0</td>\n",
       "<td>0.3239834</td>\n",
       "<td>5,856 / 18,075</td></tr></table></div>"
      ],
      "text/plain": [
       "canceled    failed    live    successful    suspended    undefined    Error     Rate\n",
       "----------  --------  ------  ------------  -----------  -----------  --------  --------------\n",
       "129         1289      2       381           0            0            0.928373  1,672 / 1,801\n",
       "6           7717      0       1626          0            0            0.174564  1,632 / 9,349\n",
       "0           0         137     0             0            0            0         0 / 137\n",
       "3           2482      1       4054          0            0            0.380122  2,486 / 6,540\n",
       "0           52        0       14            9            0            0.88      66 / 75\n",
       "0           0         0       0             0            173          0         0 / 173\n",
       "138         11540     140     6075          9            173          0.323983  5,856 / 18,075"
      ]
     },
     "metadata": {},
     "output_type": "display_data"
    },
    {
     "name": "stdout",
     "output_type": "stream",
     "text": [
      "Top-6 Hit Ratios: \n"
     ]
    },
    {
     "data": {
      "text/html": [
       "<div style=\"overflow:auto\"><table style=\"width:50%\"><tr><td><b>k</b></td>\n",
       "<td><b>hit_ratio</b></td></tr>\n",
       "<tr><td>1</td>\n",
       "<td>0.6760166</td></tr>\n",
       "<tr><td>2</td>\n",
       "<td>0.9272475</td></tr>\n",
       "<tr><td>3</td>\n",
       "<td>0.9973997</td></tr>\n",
       "<tr><td>4</td>\n",
       "<td>0.9999999</td></tr>\n",
       "<tr><td>5</td>\n",
       "<td>0.9999999</td></tr>\n",
       "<tr><td>6</td>\n",
       "<td>0.9999999</td></tr></table></div>"
      ],
      "text/plain": [
       "k    hit_ratio\n",
       "---  -----------\n",
       "1    0.676017\n",
       "2    0.927248\n",
       "3    0.9974\n",
       "4    1\n",
       "5    1\n",
       "6    1"
      ]
     },
     "metadata": {},
     "output_type": "display_data"
    },
    {
     "name": "stdout",
     "output_type": "stream",
     "text": [
      "Scoring History: \n"
     ]
    },
    {
     "data": {
      "text/html": [
       "<div style=\"overflow:auto\"><table style=\"width:50%\"><tr><td><b></b></td>\n",
       "<td><b>timestamp</b></td>\n",
       "<td><b>duration</b></td>\n",
       "<td><b>number_of_trees</b></td>\n",
       "<td><b>training_rmse</b></td>\n",
       "<td><b>training_logloss</b></td>\n",
       "<td><b>training_classification_error</b></td></tr>\n",
       "<tr><td></td>\n",
       "<td>2018-01-27 13:45:07</td>\n",
       "<td> 0.014 sec</td>\n",
       "<td>0.0</td>\n",
       "<td>0.8333333</td>\n",
       "<td>1.7917595</td>\n",
       "<td>0.5899862</td></tr>\n",
       "<tr><td></td>\n",
       "<td>2018-01-27 13:45:08</td>\n",
       "<td> 0.554 sec</td>\n",
       "<td>1.0</td>\n",
       "<td>0.7999680</td>\n",
       "<td>1.6142174</td>\n",
       "<td>0.3970678</td></tr>\n",
       "<tr><td></td>\n",
       "<td>2018-01-27 13:45:08</td>\n",
       "<td> 0.790 sec</td>\n",
       "<td>2.0</td>\n",
       "<td>0.7707097</td>\n",
       "<td>1.4857274</td>\n",
       "<td>0.3947994</td></tr>\n",
       "<tr><td></td>\n",
       "<td>2018-01-27 13:45:08</td>\n",
       "<td> 1.009 sec</td>\n",
       "<td>3.0</td>\n",
       "<td>0.7449677</td>\n",
       "<td>1.3872407</td>\n",
       "<td>0.3934716</td></tr>\n",
       "<tr><td></td>\n",
       "<td>2018-01-27 13:45:09</td>\n",
       "<td> 1.209 sec</td>\n",
       "<td>4.0</td>\n",
       "<td>0.7218990</td>\n",
       "<td>1.3074429</td>\n",
       "<td>0.3911480</td></tr>\n",
       "<tr><td>---</td>\n",
       "<td>---</td>\n",
       "<td>---</td>\n",
       "<td>---</td>\n",
       "<td>---</td>\n",
       "<td>---</td>\n",
       "<td>---</td></tr>\n",
       "<tr><td></td>\n",
       "<td>2018-01-27 13:45:11</td>\n",
       "<td> 3.826 sec</td>\n",
       "<td>40.0</td>\n",
       "<td>0.5164823</td>\n",
       "<td>0.7614093</td>\n",
       "<td>0.3321162</td></tr>\n",
       "<tr><td></td>\n",
       "<td>2018-01-27 13:45:11</td>\n",
       "<td> 3.878 sec</td>\n",
       "<td>41.0</td>\n",
       "<td>0.5155131</td>\n",
       "<td>0.7589595</td>\n",
       "<td>0.3316736</td></tr>\n",
       "<tr><td></td>\n",
       "<td>2018-01-27 13:45:11</td>\n",
       "<td> 3.930 sec</td>\n",
       "<td>42.0</td>\n",
       "<td>0.5145627</td>\n",
       "<td>0.7563816</td>\n",
       "<td>0.3298479</td></tr>\n",
       "<tr><td></td>\n",
       "<td>2018-01-27 13:45:11</td>\n",
       "<td> 3.998 sec</td>\n",
       "<td>43.0</td>\n",
       "<td>0.5136922</td>\n",
       "<td>0.7542007</td>\n",
       "<td>0.3288520</td></tr>\n",
       "<tr><td></td>\n",
       "<td>2018-01-27 13:45:12</td>\n",
       "<td> 4.324 sec</td>\n",
       "<td>50.0</td>\n",
       "<td>0.5077847</td>\n",
       "<td>0.7387506</td>\n",
       "<td>0.3239834</td></tr></table></div>"
      ],
      "text/plain": [
       "     timestamp            duration    number_of_trees    training_rmse    training_logloss    training_classification_error\n",
       "---  -------------------  ----------  -----------------  ---------------  ------------------  -------------------------------\n",
       "     2018-01-27 13:45:07  0.014 sec   0.0                0.833333333333   1.79175946923       0.589986168741\n",
       "     2018-01-27 13:45:08  0.554 sec   1.0                0.799967988163   1.61421740182       0.397067773167\n",
       "     2018-01-27 13:45:08  0.790 sec   2.0                0.770709700669   1.48572741326       0.39479944675\n",
       "     2018-01-27 13:45:08  1.009 sec   3.0                0.744967710324   1.38724066727       0.39347164592\n",
       "     2018-01-27 13:45:09  1.209 sec   4.0                0.721898964333   1.30744288298       0.391147994467\n",
       "---  ---                  ---         ---                ---              ---                 ---\n",
       "     2018-01-27 13:45:11  3.826 sec   40.0               0.516482256489   0.761409288445      0.332116182573\n",
       "     2018-01-27 13:45:11  3.878 sec   41.0               0.515513057493   0.758959500268      0.331673582296\n",
       "     2018-01-27 13:45:11  3.930 sec   42.0               0.514562727697   0.756381587164      0.329847856155\n",
       "     2018-01-27 13:45:11  3.998 sec   43.0               0.513692247539   0.754200712223      0.328852005533\n",
       "     2018-01-27 13:45:12  4.324 sec   50.0               0.507784669054   0.73875060768       0.32398340249"
      ]
     },
     "metadata": {},
     "output_type": "display_data"
    },
    {
     "name": "stdout",
     "output_type": "stream",
     "text": [
      "\n",
      "See the whole table with table.as_data_frame()\n",
      "Variable Importances: \n"
     ]
    },
    {
     "data": {
      "text/html": [
       "<div style=\"overflow:auto\"><table style=\"width:50%\"><tr><td><b>variable</b></td>\n",
       "<td><b>relative_importance</b></td>\n",
       "<td><b>scaled_importance</b></td>\n",
       "<td><b>percentage</b></td></tr>\n",
       "<tr><td>category</td>\n",
       "<td>7521.4404297</td>\n",
       "<td>1.0</td>\n",
       "<td>0.5765408</td></tr>\n",
       "<tr><td>country</td>\n",
       "<td>1760.7579346</td>\n",
       "<td>0.2340985</td>\n",
       "<td>0.1349673</td></tr>\n",
       "<tr><td>goal</td>\n",
       "<td>1345.2509766</td>\n",
       "<td>0.1788555</td>\n",
       "<td>0.1031175</td></tr>\n",
       "<tr><td>launched_utc</td>\n",
       "<td>1327.8417969</td>\n",
       "<td>0.1765409</td>\n",
       "<td>0.1017830</td></tr>\n",
       "<tr><td>time_open</td>\n",
       "<td>1077.9896240</td>\n",
       "<td>0.1433222</td>\n",
       "<td>0.0826311</td></tr>\n",
       "<tr><td>main_category</td>\n",
       "<td>12.5276918</td>\n",
       "<td>0.0016656</td>\n",
       "<td>0.0009603</td></tr></table></div>"
      ],
      "text/plain": [
       "variable       relative_importance    scaled_importance    percentage\n",
       "-------------  ---------------------  -------------------  ------------\n",
       "category       7521.44                1                    0.576541\n",
       "country        1760.76                0.234099             0.134967\n",
       "goal           1345.25                0.178855             0.103117\n",
       "launched_utc   1327.84                0.176541             0.101783\n",
       "time_open      1077.99                0.143322             0.0826311\n",
       "main_category  12.5277                0.0016656            0.000960285"
      ]
     },
     "metadata": {},
     "output_type": "display_data"
    },
    {
     "name": "stdout",
     "output_type": "stream",
     "text": [
      "\n"
     ]
    }
   ],
   "source": [
    "# Defualt gbm tree\n",
    "gbm = H2OGradientBoostingEstimator()\n",
    "gbm.train(x=predictors, y=response, training_frame=train)\n",
    "\n",
    "# Show model summary\n",
    "print gbm"
   ]
  },
  {
   "cell_type": "code",
   "execution_count": 7,
   "metadata": {
    "scrolled": true
   },
   "outputs": [
    {
     "name": "stdout",
     "output_type": "stream",
     "text": [
      "\n",
      "ModelMetricsMultinomial: gbm\n",
      "** Reported on test data. **\n",
      "\n",
      "MSE: 0.311036335163\n",
      "RMSE: 0.55770631623\n",
      "LogLoss: 0.90238431137\n",
      "Mean Per-Class Error: 0.482144646613\n",
      "Confusion Matrix: vertical: actual; across: predicted\n",
      "\n"
     ]
    },
    {
     "data": {
      "text/html": [
       "<div style=\"overflow:auto\"><table style=\"width:50%\"><tr><td><b>canceled</b></td>\n",
       "<td><b>failed</b></td>\n",
       "<td><b>live</b></td>\n",
       "<td><b>successful</b></td>\n",
       "<td><b>suspended</b></td>\n",
       "<td><b>undefined</b></td>\n",
       "<td><b>Error</b></td>\n",
       "<td><b>Rate</b></td></tr>\n",
       "<tr><td>4.0</td>\n",
       "<td>501.0</td>\n",
       "<td>6.0</td>\n",
       "<td>140.0</td>\n",
       "<td>1.0</td>\n",
       "<td>0.0</td>\n",
       "<td>0.9938650</td>\n",
       "<td>648 / 652</td></tr>\n",
       "<tr><td>15.0</td>\n",
       "<td>2404.0</td>\n",
       "<td>7.0</td>\n",
       "<td>692.0</td>\n",
       "<td>1.0</td>\n",
       "<td>1.0</td>\n",
       "<td>0.2294872</td>\n",
       "<td>716 / 3,120</td></tr>\n",
       "<tr><td>0.0</td>\n",
       "<td>7.0</td>\n",
       "<td>42.0</td>\n",
       "<td>3.0</td>\n",
       "<td>0.0</td>\n",
       "<td>0.0</td>\n",
       "<td>0.1923077</td>\n",
       "<td>10 / 52</td></tr>\n",
       "<tr><td>5.0</td>\n",
       "<td>1000.0</td>\n",
       "<td>0.0</td>\n",
       "<td>1101.0</td>\n",
       "<td>0.0</td>\n",
       "<td>0.0</td>\n",
       "<td>0.4772080</td>\n",
       "<td>1,005 / 2,106</td></tr>\n",
       "<tr><td>1.0</td>\n",
       "<td>23.0</td>\n",
       "<td>0.0</td>\n",
       "<td>6.0</td>\n",
       "<td>0.0</td>\n",
       "<td>0.0</td>\n",
       "<td>1.0</td>\n",
       "<td>30 / 30</td></tr>\n",
       "<tr><td>0.0</td>\n",
       "<td>0.0</td>\n",
       "<td>0.0</td>\n",
       "<td>0.0</td>\n",
       "<td>0.0</td>\n",
       "<td>51.0</td>\n",
       "<td>0.0</td>\n",
       "<td>0 / 51</td></tr>\n",
       "<tr><td>25.0</td>\n",
       "<td>3935.0</td>\n",
       "<td>55.0</td>\n",
       "<td>1942.0</td>\n",
       "<td>2.0</td>\n",
       "<td>52.0</td>\n",
       "<td>0.4007653</td>\n",
       "<td>2,409 / 6,011</td></tr></table></div>"
      ],
      "text/plain": [
       "canceled    failed    live    successful    suspended    undefined    Error     Rate\n",
       "----------  --------  ------  ------------  -----------  -----------  --------  -------------\n",
       "4           501       6       140           1            0            0.993865  648 / 652\n",
       "15          2404      7       692           1            1            0.229487  716 / 3,120\n",
       "0           7         42      3             0            0            0.192308  10 / 52\n",
       "5           1000      0       1101          0            0            0.477208  1,005 / 2,106\n",
       "1           23        0       6             0            0            1         30 / 30\n",
       "0           0         0       0             0            51           0         0 / 51\n",
       "25          3935      55      1942          2            52           0.400765  2,409 / 6,011"
      ]
     },
     "metadata": {},
     "output_type": "display_data"
    },
    {
     "name": "stdout",
     "output_type": "stream",
     "text": [
      "Top-6 Hit Ratios: \n"
     ]
    },
    {
     "data": {
      "text/html": [
       "<div style=\"overflow:auto\"><table style=\"width:50%\"><tr><td><b>k</b></td>\n",
       "<td><b>hit_ratio</b></td></tr>\n",
       "<tr><td>1</td>\n",
       "<td>0.5992348</td></tr>\n",
       "<tr><td>2</td>\n",
       "<td>0.8948594</td></tr>\n",
       "<tr><td>3</td>\n",
       "<td>0.9928465</td></tr>\n",
       "<tr><td>4</td>\n",
       "<td>0.9996673</td></tr>\n",
       "<tr><td>5</td>\n",
       "<td>1.0000001</td></tr>\n",
       "<tr><td>6</td>\n",
       "<td>1.0000001</td></tr></table></div>"
      ],
      "text/plain": [
       "k    hit_ratio\n",
       "---  -----------\n",
       "1    0.599235\n",
       "2    0.894859\n",
       "3    0.992846\n",
       "4    0.999667\n",
       "5    1\n",
       "6    1"
      ]
     },
     "metadata": {},
     "output_type": "display_data"
    },
    {
     "data": {
      "text/plain": []
     },
     "execution_count": 7,
     "metadata": {},
     "output_type": "execute_result"
    }
   ],
   "source": [
    "perf = gbm.model_performance(valid)\n",
    "perf"
   ]
  },
  {
   "cell_type": "code",
   "execution_count": 8,
   "metadata": {},
   "outputs": [
    {
     "name": "stdout",
     "output_type": "stream",
     "text": [
      "gbm Model Build progress: |███████████████████████████████████████████████| 100%\n"
     ]
    }
   ],
   "source": [
    "cv_gbm = H2OGradientBoostingEstimator(nfolds = 4, seed = 0xDEFCA)\n",
    "cv_gbm.train(x=predictors, y=response, training_frame=train.rbind(valid))"
   ]
  },
  {
   "cell_type": "code",
   "execution_count": 9,
   "metadata": {},
   "outputs": [
    {
     "name": "stdout",
     "output_type": "stream",
     "text": [
      "                                  mean            sd  cv_1_valid  cv_2_valid  \\\n",
      "0                 accuracy    0.604703  0.0011979433   0.6050881  0.60653573   \n",
      "1                      err  0.39529702  0.0011979433   0.3949119  0.39346427   \n",
      "2                err_count     2380.25     4.1944904      2375.0      2384.0   \n",
      "3                  logloss    0.886422  0.0031232962   0.8847267   0.8823848   \n",
      "4      max_per_class_error         1.0           0.0         1.0         1.0   \n",
      "5  mean_per_class_accuracy  0.51830935  0.0039948346   0.5108297   0.5247203   \n",
      "6     mean_per_class_error  0.48169065  0.0039948346  0.48917034  0.47527972   \n",
      "7                      mse  0.30709633  0.0010126876  0.30632415  0.30586603   \n",
      "8                       r2  0.75983506   0.001312837   0.7622826   0.7579219   \n",
      "9                     rmse  0.55416125   9.126302E-4   0.5534656   0.5530516   \n",
      "\n",
      "   cv_3_valid  cv_4_valid  \n",
      "0  0.60193366   0.6052544  \n",
      "1  0.39806634   0.3947456  \n",
      "2      2388.0      2374.0  \n",
      "3  0.89389455   0.8846819  \n",
      "4         1.0         1.0  \n",
      "5   0.5149673   0.5227201  \n",
      "6  0.48503265  0.47727987  \n",
      "7  0.30952752  0.30666766  \n",
      "8  0.76098126  0.75815463  \n",
      "9  0.55635196  0.55377585  \n",
      "              max_per_class_error\n",
      "mean                          1.0\n",
      "sd                            0.0\n",
      "cv_1_valid                    1.0\n",
      "cv_2_valid                    1.0\n",
      "cv_3_valid                    1.0\n",
      "cv_4_valid                    1.0\n",
      "Name: 4, dtype: object\n"
     ]
    }
   ],
   "source": [
    "# Show detailed summary of cross validation metrics\n",
    "# Gives better idea of variance between the folds\n",
    "cv_summary = cv_gbm.cross_validation_metrics_summary().as_data_frame()\n",
    "print(cv_summary) # Full Summary\n",
    "print(cv_summary.iloc[4])"
   ]
  },
  {
   "cell_type": "code",
   "execution_count": 10,
   "metadata": {
    "scrolled": true
   },
   "outputs": [
    {
     "name": "stdout",
     "output_type": "stream",
     "text": [
      "\n",
      "ModelMetricsMultinomial: gbm\n",
      "** Reported on cross-validation data. **\n",
      "\n",
      "MSE: 0.3070925271\n",
      "RMSE: 0.554159297585\n",
      "LogLoss: 0.886409775502\n",
      "Mean Per-Class Error: 0.481924424559\n",
      "Confusion Matrix: vertical: actual; across: predicted\n",
      "\n"
     ]
    },
    {
     "data": {
      "text/html": [
       "<div style=\"overflow:auto\"><table style=\"width:50%\"><tr><td><b>canceled</b></td>\n",
       "<td><b>failed</b></td>\n",
       "<td><b>live</b></td>\n",
       "<td><b>successful</b></td>\n",
       "<td><b>suspended</b></td>\n",
       "<td><b>undefined</b></td>\n",
       "<td><b>Error</b></td>\n",
       "<td><b>Rate</b></td></tr>\n",
       "<tr><td>17.0</td>\n",
       "<td>1874.0</td>\n",
       "<td>13.0</td>\n",
       "<td>549.0</td>\n",
       "<td>0.0</td>\n",
       "<td>0.0</td>\n",
       "<td>0.9930697</td>\n",
       "<td>2,436 / 2,453</td></tr>\n",
       "<tr><td>57.0</td>\n",
       "<td>9640.0</td>\n",
       "<td>18.0</td>\n",
       "<td>2752.0</td>\n",
       "<td>1.0</td>\n",
       "<td>1.0</td>\n",
       "<td>0.2268827</td>\n",
       "<td>2,829 / 12,469</td></tr>\n",
       "<tr><td>2.0</td>\n",
       "<td>20.0</td>\n",
       "<td>152.0</td>\n",
       "<td>14.0</td>\n",
       "<td>1.0</td>\n",
       "<td>0.0</td>\n",
       "<td>0.1957672</td>\n",
       "<td>37 / 189</td></tr>\n",
       "<tr><td>23.0</td>\n",
       "<td>4082.0</td>\n",
       "<td>8.0</td>\n",
       "<td>4532.0</td>\n",
       "<td>0.0</td>\n",
       "<td>1.0</td>\n",
       "<td>0.4758270</td>\n",
       "<td>4,114 / 8,646</td></tr>\n",
       "<tr><td>0.0</td>\n",
       "<td>83.0</td>\n",
       "<td>1.0</td>\n",
       "<td>21.0</td>\n",
       "<td>0.0</td>\n",
       "<td>0.0</td>\n",
       "<td>1.0</td>\n",
       "<td>105 / 105</td></tr>\n",
       "<tr><td>0.0</td>\n",
       "<td>0.0</td>\n",
       "<td>0.0</td>\n",
       "<td>0.0</td>\n",
       "<td>0.0</td>\n",
       "<td>224.0</td>\n",
       "<td>0.0</td>\n",
       "<td>0 / 224</td></tr>\n",
       "<tr><td>99.0</td>\n",
       "<td>15699.0</td>\n",
       "<td>192.0</td>\n",
       "<td>7868.0</td>\n",
       "<td>2.0</td>\n",
       "<td>226.0</td>\n",
       "<td>0.3952919</td>\n",
       "<td>9,521 / 24,086</td></tr></table></div>"
      ],
      "text/plain": [
       "canceled    failed    live    successful    suspended    undefined    Error     Rate\n",
       "----------  --------  ------  ------------  -----------  -----------  --------  --------------\n",
       "17          1874      13      549           0            0            0.99307   2,436 / 2,453\n",
       "57          9640      18      2752          1            1            0.226883  2,829 / 12,469\n",
       "2           20        152     14            1            0            0.195767  37 / 189\n",
       "23          4082      8       4532          0            1            0.475827  4,114 / 8,646\n",
       "0           83        1       21            0            0            1         105 / 105\n",
       "0           0         0       0             0            224          0         0 / 224\n",
       "99          15699     192     7868          2            226          0.395292  9,521 / 24,086"
      ]
     },
     "metadata": {},
     "output_type": "display_data"
    },
    {
     "name": "stdout",
     "output_type": "stream",
     "text": [
      "Top-6 Hit Ratios: \n"
     ]
    },
    {
     "data": {
      "text/html": [
       "<div style=\"overflow:auto\"><table style=\"width:50%\"><tr><td><b>k</b></td>\n",
       "<td><b>hit_ratio</b></td></tr>\n",
       "<tr><td>1</td>\n",
       "<td>0.6047081</td></tr>\n",
       "<tr><td>2</td>\n",
       "<td>0.8996513</td></tr>\n",
       "<tr><td>3</td>\n",
       "<td>0.9942291</td></tr>\n",
       "<tr><td>4</td>\n",
       "<td>0.999834</td></tr>\n",
       "<tr><td>5</td>\n",
       "<td>1.0000001</td></tr>\n",
       "<tr><td>6</td>\n",
       "<td>1.0000001</td></tr></table></div>"
      ],
      "text/plain": [
       "k    hit_ratio\n",
       "---  -----------\n",
       "1    0.604708\n",
       "2    0.899651\n",
       "3    0.994229\n",
       "4    0.999834\n",
       "5    1\n",
       "6    1"
      ]
     },
     "metadata": {},
     "output_type": "display_data"
    },
    {
     "data": {
      "text/plain": []
     },
     "execution_count": 10,
     "metadata": {},
     "output_type": "execute_result"
    }
   ],
   "source": [
    "# Get cross-validated AUC through scoring combined holdout predictions.\n",
    "perf_cv = cv_gbm.model_performance(xval=True)\n",
    "perf_cv"
   ]
  },
  {
   "cell_type": "code",
   "execution_count": 11,
   "metadata": {},
   "outputs": [
    {
     "name": "stdout",
     "output_type": "stream",
     "text": [
      "gbm Model Build progress: |███████████████████████████████████████████████| 100%\n"
     ]
    }
   ],
   "source": [
    "gbm_lucky = H2OGradientBoostingEstimator(\n",
    "    # more trees the better if learning rate small\n",
    "    # use 'more than enough' since we have early stop\n",
    "    ntrees = 10000,\n",
    "    \n",
    "    # smaller learning rate is better\n",
    "    learn_rate = 0.01,\n",
    "    \n",
    "#     Early stopping once validation AUC doesn't improve by at least 0.01% for 5 consecutive scoring events\n",
    "    stopping_rounds = 5, stopping_tolerance = 1e-4, stopping_metric = \"auto\",\n",
    "    \n",
    "#     Sample 80% of columns per split\n",
    "    sample_rate = 0.8,\n",
    "    \n",
    "#     fix random number generator seed\n",
    "    seed = 1234,\n",
    "#     score every 10 trees\n",
    "    score_tree_interval = 10\n",
    ")\n",
    "\n",
    "gbm_lucky.train(x=predictors, y=response, training_frame=train, validation_frame=valid)"
   ]
  },
  {
   "cell_type": "code",
   "execution_count": 12,
   "metadata": {},
   "outputs": [
    {
     "name": "stdout",
     "output_type": "stream",
     "text": [
      "\n",
      "ModelMetricsMultinomial: gbm\n",
      "** Reported on test data. **\n",
      "\n",
      "MSE: 0.309634531814\n",
      "RMSE: 0.556448139375\n",
      "LogLoss: 0.898495497066\n",
      "Mean Per-Class Error: 0.479039243218\n",
      "Confusion Matrix: vertical: actual; across: predicted\n",
      "\n"
     ]
    },
    {
     "data": {
      "text/html": [
       "<div style=\"overflow:auto\"><table style=\"width:50%\"><tr><td><b>canceled</b></td>\n",
       "<td><b>failed</b></td>\n",
       "<td><b>live</b></td>\n",
       "<td><b>successful</b></td>\n",
       "<td><b>suspended</b></td>\n",
       "<td><b>undefined</b></td>\n",
       "<td><b>Error</b></td>\n",
       "<td><b>Rate</b></td></tr>\n",
       "<tr><td>2.0</td>\n",
       "<td>506.0</td>\n",
       "<td>6.0</td>\n",
       "<td>137.0</td>\n",
       "<td>1.0</td>\n",
       "<td>0.0</td>\n",
       "<td>0.9969325</td>\n",
       "<td>650 / 652</td></tr>\n",
       "<tr><td>13.0</td>\n",
       "<td>2428.0</td>\n",
       "<td>6.0</td>\n",
       "<td>671.0</td>\n",
       "<td>1.0</td>\n",
       "<td>1.0</td>\n",
       "<td>0.2217949</td>\n",
       "<td>692 / 3,120</td></tr>\n",
       "<tr><td>0.0</td>\n",
       "<td>6.0</td>\n",
       "<td>43.0</td>\n",
       "<td>3.0</td>\n",
       "<td>0.0</td>\n",
       "<td>0.0</td>\n",
       "<td>0.1730769</td>\n",
       "<td>9 / 52</td></tr>\n",
       "<tr><td>5.0</td>\n",
       "<td>1011.0</td>\n",
       "<td>0.0</td>\n",
       "<td>1090.0</td>\n",
       "<td>0.0</td>\n",
       "<td>0.0</td>\n",
       "<td>0.4824311</td>\n",
       "<td>1,016 / 2,106</td></tr>\n",
       "<tr><td>0.0</td>\n",
       "<td>23.0</td>\n",
       "<td>0.0</td>\n",
       "<td>7.0</td>\n",
       "<td>0.0</td>\n",
       "<td>0.0</td>\n",
       "<td>1.0</td>\n",
       "<td>30 / 30</td></tr>\n",
       "<tr><td>0.0</td>\n",
       "<td>0.0</td>\n",
       "<td>0.0</td>\n",
       "<td>0.0</td>\n",
       "<td>0.0</td>\n",
       "<td>51.0</td>\n",
       "<td>0.0</td>\n",
       "<td>0 / 51</td></tr>\n",
       "<tr><td>20.0</td>\n",
       "<td>3974.0</td>\n",
       "<td>55.0</td>\n",
       "<td>1908.0</td>\n",
       "<td>2.0</td>\n",
       "<td>52.0</td>\n",
       "<td>0.3987689</td>\n",
       "<td>2,397 / 6,011</td></tr></table></div>"
      ],
      "text/plain": [
       "canceled    failed    live    successful    suspended    undefined    Error     Rate\n",
       "----------  --------  ------  ------------  -----------  -----------  --------  -------------\n",
       "2           506       6       137           1            0            0.996933  650 / 652\n",
       "13          2428      6       671           1            1            0.221795  692 / 3,120\n",
       "0           6         43      3             0            0            0.173077  9 / 52\n",
       "5           1011      0       1090          0            0            0.482431  1,016 / 2,106\n",
       "0           23        0       7             0            0            1         30 / 30\n",
       "0           0         0       0             0            51           0         0 / 51\n",
       "20          3974      55      1908          2            52           0.398769  2,397 / 6,011"
      ]
     },
     "metadata": {},
     "output_type": "display_data"
    },
    {
     "name": "stdout",
     "output_type": "stream",
     "text": [
      "Top-6 Hit Ratios: \n"
     ]
    },
    {
     "data": {
      "text/html": [
       "<div style=\"overflow:auto\"><table style=\"width:50%\"><tr><td><b>k</b></td>\n",
       "<td><b>hit_ratio</b></td></tr>\n",
       "<tr><td>1</td>\n",
       "<td>0.6012311</td></tr>\n",
       "<tr><td>2</td>\n",
       "<td>0.8965231</td></tr>\n",
       "<tr><td>3</td>\n",
       "<td>0.9931792</td></tr>\n",
       "<tr><td>4</td>\n",
       "<td>0.9996673</td></tr>\n",
       "<tr><td>5</td>\n",
       "<td>1.0</td></tr>\n",
       "<tr><td>6</td>\n",
       "<td>1.0</td></tr></table></div>"
      ],
      "text/plain": [
       "k    hit_ratio\n",
       "---  -----------\n",
       "1    0.601231\n",
       "2    0.896523\n",
       "3    0.993179\n",
       "4    0.999667\n",
       "5    1\n",
       "6    1"
      ]
     },
     "metadata": {},
     "output_type": "display_data"
    },
    {
     "data": {
      "text/plain": []
     },
     "execution_count": 12,
     "metadata": {},
     "output_type": "execute_result"
    }
   ],
   "source": [
    "perf_lucky = gbm_lucky.model_performance(valid)\n",
    "perf_lucky"
   ]
  },
  {
   "cell_type": "code",
   "execution_count": 13,
   "metadata": {},
   "outputs": [
    {
     "name": "stdout",
     "output_type": "stream",
     "text": [
      "H2O session _sid_baec closed.\n"
     ]
    }
   ],
   "source": [
    "h2o.shutdown()"
   ]
  },
  {
   "cell_type": "code",
   "execution_count": null,
   "metadata": {
    "collapsed": true
   },
   "outputs": [],
   "source": []
  }
 ],
 "metadata": {
  "kernelspec": {
   "display_name": "Python 2",
   "language": "python",
   "name": "python2"
  },
  "language_info": {
   "codemirror_mode": {
    "name": "ipython",
    "version": 2
   },
   "file_extension": ".py",
   "mimetype": "text/x-python",
   "name": "python",
   "nbconvert_exporter": "python",
   "pygments_lexer": "ipython2",
   "version": "2.7.14"
  }
 },
 "nbformat": 4,
 "nbformat_minor": 2
}
